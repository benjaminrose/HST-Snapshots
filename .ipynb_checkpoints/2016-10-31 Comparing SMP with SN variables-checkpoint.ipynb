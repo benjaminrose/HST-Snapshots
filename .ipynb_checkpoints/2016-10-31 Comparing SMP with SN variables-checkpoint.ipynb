{
 "cells": [
  {
   "cell_type": "markdown",
   "metadata": {},
   "source": [
    "# SN Ia Hubble residuals Correleated with Local Stellar Populations\n",
    "\n",
    "*This is work that will be presented at AAS 229th meeting in TX on January 7th, 2017*\n",
    "\n",
    "-------\n",
    "\n",
    "TITLE: Correlations Between Hubble Residuals and Local Stellar Populations of Type Ia Supernovae\n",
    "\n",
    "Abstract: There appears to be correlations between SN Ia Hubble diagram residuals and host galaxy mass, metallicity, and star formation history. An uncorrected bias may produce a systematic offset in cosmological measurements. Rigault et al. (2013) found that the local environment can correlate with Hubble residuals and possibly impact precision Hubble Constant measurements. Global properties are the luminosity average of local environments, therefore the properties of local environments may hold stronger correlations than their global counterparts. We analyze host galaxies from the SDSS-II survey using both ground-based and Hubble Space Telescope imaging. We generate local stellar environmental properties by selecting a best fit Flexible Stellar Population Synthesis model that matches the SDSS Scene Modeling data. The derived properties, such as metallicity, stellar age, and star formation history, are then compared to the SN Ia's Hubble residual in the search for correlations.\n",
    "\n",
    "-------\n",
    "\n",
    "Holtzman et al. (2008, arXiv:0908.4277) performed a Scene Modeling Photometry of SDSS SN Ia host galaxies. **Are these results apparent or absolute frame?** Local stellar populations can be modeled via FSPS (Conroy 2009, Conroy 2010, 10.5281/zenodo.12157). Sellecting the correct model varrient, can be done via minimizing a chi-square via emcee (arXiv:1202.3665). From each SMP's `ugriz` we can get a SFH, metallicity, age, etc.\n",
    "\n",
    "Values from SALT2 and MLCS2k2, CMB redshift, etc. are available from Sako (2014, arXiv:1401.3317) table 1. But we may want to use Campbell 2013's values. I am not sure if we have HR's or if we need to calculate them. \n",
    "\n",
    "We can easily check color and vlues of Pegase for any relationships with the aformationed SN values. \n"
   ]
  },
  {
   "cell_type": "code",
   "execution_count": 1,
   "metadata": {
    "collapsed": true
   },
   "outputs": [],
   "source": [
    "import re\n",
    "import warnings\n",
    "from glob import glob\n",
    "from copy import deepcopy\n",
    "\n",
    "import numpy as np\n",
    "import pandas as pd\n",
    "from astropy.io import fits\n",
    "\n",
    "import matplotlib.pyplot as plt\n",
    "import seaborn as sns\n",
    "%matplotlib inline"
   ]
  },
  {
   "cell_type": "markdown",
   "metadata": {},
   "source": [
    "------\n",
    "\n",
    "# Cut Holtzman 2008 SMP data\n",
    "\n",
    "I need to provide cuts to this data. We do not need over 10,000 objects! Not all of these are Ia's! Holtzman (2008) abstract only says there are 146 SN Ia.\n",
    "\n",
    "Lets use the ~1000 SN Ia from Campbell (2013), `data/SDSS_Photometric_SNe_Ia.fits`. This is more then Holtzman's 146 because Campbell also included photometrically classified SN Ias. If this does not work then we can use the SDSS-II SN list (from website), `data/snlist.dat.txt`."
   ]
  },
  {
   "cell_type": "code",
   "execution_count": 2,
   "metadata": {
    "collapsed": false
   },
   "outputs": [
    {
     "data": {
      "text/html": [
       "<div>\n",
       "<table border=\"1\" class=\"dataframe\">\n",
       "  <thead>\n",
       "    <tr style=\"text-align: right;\">\n",
       "      <th></th>\n",
       "      <th>CID</th>\n",
       "      <th>Z</th>\n",
       "      <th>Z_ERR</th>\n",
       "      <th>SN_RA</th>\n",
       "      <th>SN_DEC</th>\n",
       "      <th>GAL_RA</th>\n",
       "      <th>GAL_DEC</th>\n",
       "      <th>HOST_OBJID</th>\n",
       "      <th>X0</th>\n",
       "      <th>X0_ERR</th>\n",
       "      <th>...</th>\n",
       "      <th>COLOR_ERR</th>\n",
       "      <th>C01</th>\n",
       "      <th>C00</th>\n",
       "      <th>C11</th>\n",
       "      <th>C22</th>\n",
       "      <th>C02</th>\n",
       "      <th>C12</th>\n",
       "      <th>MU</th>\n",
       "      <th>MU_MB</th>\n",
       "      <th>MU_ERR</th>\n",
       "    </tr>\n",
       "  </thead>\n",
       "  <tbody>\n",
       "    <tr>\n",
       "      <th>0</th>\n",
       "      <td>10028</td>\n",
       "      <td>0.065392</td>\n",
       "      <td>0.000009</td>\n",
       "      <td>17.741899</td>\n",
       "      <td>0.276253</td>\n",
       "      <td>17.741844</td>\n",
       "      <td>0.276160</td>\n",
       "      <td>1237666339726360676</td>\n",
       "      <td>0.000829</td>\n",
       "      <td>0.000027</td>\n",
       "      <td>...</td>\n",
       "      <td>0.034279</td>\n",
       "      <td>-1.409850e-06</td>\n",
       "      <td>7.092530e-10</td>\n",
       "      <td>0.070626</td>\n",
       "      <td>0.001175</td>\n",
       "      <td>-6.785010e-07</td>\n",
       "      <td>-0.000108</td>\n",
       "      <td>37.020199</td>\n",
       "      <td>37.022522</td>\n",
       "      <td>0.090201</td>\n",
       "    </tr>\n",
       "    <tr>\n",
       "      <th>1</th>\n",
       "      <td>10037</td>\n",
       "      <td>0.253816</td>\n",
       "      <td>0.000049</td>\n",
       "      <td>-40.495998</td>\n",
       "      <td>1.115320</td>\n",
       "      <td>-40.495548</td>\n",
       "      <td>1.115320</td>\n",
       "      <td>1237678617936986968</td>\n",
       "      <td>0.000036</td>\n",
       "      <td>0.000004</td>\n",
       "      <td>...</td>\n",
       "      <td>0.088287</td>\n",
       "      <td>-2.206440e-06</td>\n",
       "      <td>1.363550e-11</td>\n",
       "      <td>0.608583</td>\n",
       "      <td>0.007795</td>\n",
       "      <td>-2.058690e-07</td>\n",
       "      <td>0.030929</td>\n",
       "      <td>40.307499</td>\n",
       "      <td>40.327759</td>\n",
       "      <td>0.200429</td>\n",
       "    </tr>\n",
       "    <tr>\n",
       "      <th>2</th>\n",
       "      <td>1032</td>\n",
       "      <td>0.129755</td>\n",
       "      <td>0.000034</td>\n",
       "      <td>46.795898</td>\n",
       "      <td>1.119990</td>\n",
       "      <td>46.795700</td>\n",
       "      <td>1.119545</td>\n",
       "      <td>1237666302164664434</td>\n",
       "      <td>0.000105</td>\n",
       "      <td>0.000005</td>\n",
       "      <td>...</td>\n",
       "      <td>0.042552</td>\n",
       "      <td>-3.464070e-07</td>\n",
       "      <td>2.098090e-11</td>\n",
       "      <td>0.055844</td>\n",
       "      <td>0.001811</td>\n",
       "      <td>-1.430060e-07</td>\n",
       "      <td>0.000414</td>\n",
       "      <td>38.660999</td>\n",
       "      <td>38.667023</td>\n",
       "      <td>0.124407</td>\n",
       "    </tr>\n",
       "    <tr>\n",
       "      <th>3</th>\n",
       "      <td>10324</td>\n",
       "      <td>0.251725</td>\n",
       "      <td>0.000031</td>\n",
       "      <td>-23.382000</td>\n",
       "      <td>0.586846</td>\n",
       "      <td>-23.382383</td>\n",
       "      <td>0.586790</td>\n",
       "      <td>1237663479797121475</td>\n",
       "      <td>0.000054</td>\n",
       "      <td>0.000004</td>\n",
       "      <td>...</td>\n",
       "      <td>0.067772</td>\n",
       "      <td>-2.504800e-06</td>\n",
       "      <td>1.809970e-11</td>\n",
       "      <td>0.550488</td>\n",
       "      <td>0.004593</td>\n",
       "      <td>-1.890490e-07</td>\n",
       "      <td>0.025747</td>\n",
       "      <td>40.097198</td>\n",
       "      <td>40.117172</td>\n",
       "      <td>0.151389</td>\n",
       "    </tr>\n",
       "    <tr>\n",
       "      <th>4</th>\n",
       "      <td>10434</td>\n",
       "      <td>0.104161</td>\n",
       "      <td>0.000020</td>\n",
       "      <td>-30.042999</td>\n",
       "      <td>-1.192410</td>\n",
       "      <td>-30.044067</td>\n",
       "      <td>-1.193710</td>\n",
       "      <td>1237656567045947805</td>\n",
       "      <td>0.000392</td>\n",
       "      <td>0.000015</td>\n",
       "      <td>...</td>\n",
       "      <td>0.032082</td>\n",
       "      <td>-2.820190e-06</td>\n",
       "      <td>2.104410e-10</td>\n",
       "      <td>0.109573</td>\n",
       "      <td>0.001029</td>\n",
       "      <td>-3.781390e-07</td>\n",
       "      <td>0.004053</td>\n",
       "      <td>38.437698</td>\n",
       "      <td>38.442059</td>\n",
       "      <td>0.069367</td>\n",
       "    </tr>\n",
       "  </tbody>\n",
       "</table>\n",
       "<p>5 rows × 23 columns</p>\n",
       "</div>"
      ],
      "text/plain": [
       "     CID         Z     Z_ERR      SN_RA    SN_DEC     GAL_RA   GAL_DEC  \\\n",
       "0  10028  0.065392  0.000009  17.741899  0.276253  17.741844  0.276160   \n",
       "1  10037  0.253816  0.000049 -40.495998  1.115320 -40.495548  1.115320   \n",
       "2   1032  0.129755  0.000034  46.795898  1.119990  46.795700  1.119545   \n",
       "3  10324  0.251725  0.000031 -23.382000  0.586846 -23.382383  0.586790   \n",
       "4  10434  0.104161  0.000020 -30.042999 -1.192410 -30.044067 -1.193710   \n",
       "\n",
       "            HOST_OBJID        X0    X0_ERR    ...     COLOR_ERR           C01  \\\n",
       "0  1237666339726360676  0.000829  0.000027    ...      0.034279 -1.409850e-06   \n",
       "1  1237678617936986968  0.000036  0.000004    ...      0.088287 -2.206440e-06   \n",
       "2  1237666302164664434  0.000105  0.000005    ...      0.042552 -3.464070e-07   \n",
       "3  1237663479797121475  0.000054  0.000004    ...      0.067772 -2.504800e-06   \n",
       "4  1237656567045947805  0.000392  0.000015    ...      0.032082 -2.820190e-06   \n",
       "\n",
       "            C00       C11       C22           C02       C12         MU  \\\n",
       "0  7.092530e-10  0.070626  0.001175 -6.785010e-07 -0.000108  37.020199   \n",
       "1  1.363550e-11  0.608583  0.007795 -2.058690e-07  0.030929  40.307499   \n",
       "2  2.098090e-11  0.055844  0.001811 -1.430060e-07  0.000414  38.660999   \n",
       "3  1.809970e-11  0.550488  0.004593 -1.890490e-07  0.025747  40.097198   \n",
       "4  2.104410e-10  0.109573  0.001029 -3.781390e-07  0.004053  38.437698   \n",
       "\n",
       "       MU_MB    MU_ERR  \n",
       "0  37.022522  0.090201  \n",
       "1  40.327759  0.200429  \n",
       "2  38.667023  0.124407  \n",
       "3  40.117172  0.151389  \n",
       "4  38.442059  0.069367  \n",
       "\n",
       "[5 rows x 23 columns]"
      ]
     },
     "execution_count": 2,
     "metadata": {},
     "output_type": "execute_result"
    }
   ],
   "source": [
    "#note that data is in second header, `cause Yeah fits!\n",
    "fCampbell = fits.open('data/SDSS_Photometric_SNe_Ia.fits')\n",
    "\n",
    "#fix `ValueError: Big-endian buffer not supported on little-endian compiler`\n",
    "fCampbell[1].data = fCampbell[1].data.byteswap(True).newbyteorder() \n",
    "data = deepcopy(fCampbell[1].data)  \n",
    "\n",
    "#make data into a `DataFrame`\n",
    "SNIaCam = pd.DataFrame(data)\n",
    "#might not want to `set_index` since this is a column we want.\n",
    "# SNIaCam.set_index('CID', inplace=True)\n",
    "SNIaCam.head()"
   ]
  },
  {
   "cell_type": "markdown",
   "metadata": {},
   "source": [
    "We have a list of all SN Ia, lets add to them their SMP magnitudes data. **Or** we might need these values in `microJy per square arcsec`."
   ]
  },
  {
   "cell_type": "code",
   "execution_count": 3,
   "metadata": {
    "collapsed": false
   },
   "outputs": [],
   "source": [
    "def readMagnitudes(dataFile):\n",
    "    \"\"\"\n",
    "    This reads and returns the mangitudes from an SDSS SMP data file\n",
    "    \n",
    "    # Parameters\n",
    "    dataFile : str\n",
    "        The name of the SMP data file. Include any needed file paths.\n",
    "        \n",
    "    # Returns\n",
    "    magnitudes : np.array\n",
    "        A structured array made some stupid repeating BS. So it got tossed. \n",
    "        The aruments come out in [u, u uncert, g, g uncert, r, r uncert, \n",
    "        i, i uncert, z, z uncert] order.\n",
    "    \"\"\"\n",
    "    with open(dataFile, 'r') as f:\n",
    "        f.readline()\n",
    "        secondLine = f.readline()\n",
    "        thirdLine = f.readline()\n",
    "    \n",
    "    asinhmag = False\n",
    "    if asinhmag:\n",
    "        dataLine = secondLine\n",
    "    else:\n",
    "        dataLIne = thirdLine\n",
    "        \n",
    "    #clean up data line and extract desired info\n",
    "    split = np.array( re.split(r'\\s+', dataLIne) )     #split on whitespace\n",
    "    #the index of the g (r) values are 3 (4) spaces over from the first '='\n",
    "    index = np.arange(5)+ 5       #(np.where(split == '=')[0]+3)\n",
    "    SB = split[index].astype(float)\n",
    "    \n",
    "    if any(SB < 0):\n",
    "        #send warning if we got a negative flux! But still out put the data as is.\n",
    "        warnings.warn(r'{} has a negative flux: u,g,r,i,z = {} μJy/sqr-arcsec'.format(dataFile, SB))\n",
    "        #todo(fix warning so that it outputs the correct units depending on any `asinhmag`)\n",
    "#         magnitudes = np.nan*np.ones(10)\n",
    "\n",
    "    uncertIndex = index + 8\n",
    "    uncert = split[uncertIndex].astype(float)\n",
    "\n",
    "    if not asinhmag:\n",
    "        SB = -2.5*np.log10(SB*1e-6/3631)\n",
    "        # or could be 1.0857*uncertG/gSB\n",
    "        uncert = uncert*np.abs(2.5/(SB*np.log(10)))\n",
    "\n",
    "    #combine as [value, uncert, ...], and save as a structured array\n",
    "    magnitudes = np.array(np.stack((SB, uncert), axis=1).flatten(),) \n",
    "    \n",
    "    return magnitudes"
   ]
  },
  {
   "cell_type": "markdown",
   "metadata": {},
   "source": [
    "We need to expand the `DataFrame` and then save the data into it."
   ]
  },
  {
   "cell_type": "code",
   "execution_count": 4,
   "metadata": {
    "collapsed": false
   },
   "outputs": [
    {
     "data": {
      "text/html": [
       "<div>\n",
       "<table border=\"1\" class=\"dataframe\">\n",
       "  <thead>\n",
       "    <tr style=\"text-align: right;\">\n",
       "      <th></th>\n",
       "      <th>CID</th>\n",
       "      <th>Z</th>\n",
       "      <th>Z_ERR</th>\n",
       "      <th>SN_RA</th>\n",
       "      <th>SN_DEC</th>\n",
       "      <th>GAL_RA</th>\n",
       "      <th>GAL_DEC</th>\n",
       "      <th>HOST_OBJID</th>\n",
       "      <th>X0</th>\n",
       "      <th>X0_ERR</th>\n",
       "      <th>...</th>\n",
       "      <th>u</th>\n",
       "      <th>u uncert</th>\n",
       "      <th>g</th>\n",
       "      <th>g uncert</th>\n",
       "      <th>r</th>\n",
       "      <th>r uncert</th>\n",
       "      <th>i</th>\n",
       "      <th>i uncert</th>\n",
       "      <th>z</th>\n",
       "      <th>z uncert</th>\n",
       "    </tr>\n",
       "  </thead>\n",
       "  <tbody>\n",
       "    <tr>\n",
       "      <th>0</th>\n",
       "      <td>10028</td>\n",
       "      <td>0.065392</td>\n",
       "      <td>0.000009</td>\n",
       "      <td>17.741899</td>\n",
       "      <td>0.276253</td>\n",
       "      <td>17.741844</td>\n",
       "      <td>0.276160</td>\n",
       "      <td>1237666339726360676</td>\n",
       "      <td>0.000829</td>\n",
       "      <td>0.000027</td>\n",
       "      <td>...</td>\n",
       "      <td>NaN</td>\n",
       "      <td>NaN</td>\n",
       "      <td>NaN</td>\n",
       "      <td>NaN</td>\n",
       "      <td>NaN</td>\n",
       "      <td>NaN</td>\n",
       "      <td>NaN</td>\n",
       "      <td>NaN</td>\n",
       "      <td>NaN</td>\n",
       "      <td>NaN</td>\n",
       "    </tr>\n",
       "    <tr>\n",
       "      <th>1</th>\n",
       "      <td>10037</td>\n",
       "      <td>0.253816</td>\n",
       "      <td>0.000049</td>\n",
       "      <td>-40.495998</td>\n",
       "      <td>1.115320</td>\n",
       "      <td>-40.495548</td>\n",
       "      <td>1.115320</td>\n",
       "      <td>1237678617936986968</td>\n",
       "      <td>0.000036</td>\n",
       "      <td>0.000004</td>\n",
       "      <td>...</td>\n",
       "      <td>NaN</td>\n",
       "      <td>NaN</td>\n",
       "      <td>NaN</td>\n",
       "      <td>NaN</td>\n",
       "      <td>NaN</td>\n",
       "      <td>NaN</td>\n",
       "      <td>NaN</td>\n",
       "      <td>NaN</td>\n",
       "      <td>NaN</td>\n",
       "      <td>NaN</td>\n",
       "    </tr>\n",
       "    <tr>\n",
       "      <th>2</th>\n",
       "      <td>1032</td>\n",
       "      <td>0.129755</td>\n",
       "      <td>0.000034</td>\n",
       "      <td>46.795898</td>\n",
       "      <td>1.119990</td>\n",
       "      <td>46.795700</td>\n",
       "      <td>1.119545</td>\n",
       "      <td>1237666302164664434</td>\n",
       "      <td>0.000105</td>\n",
       "      <td>0.000005</td>\n",
       "      <td>...</td>\n",
       "      <td>NaN</td>\n",
       "      <td>NaN</td>\n",
       "      <td>NaN</td>\n",
       "      <td>NaN</td>\n",
       "      <td>NaN</td>\n",
       "      <td>NaN</td>\n",
       "      <td>NaN</td>\n",
       "      <td>NaN</td>\n",
       "      <td>NaN</td>\n",
       "      <td>NaN</td>\n",
       "    </tr>\n",
       "    <tr>\n",
       "      <th>3</th>\n",
       "      <td>10324</td>\n",
       "      <td>0.251725</td>\n",
       "      <td>0.000031</td>\n",
       "      <td>-23.382000</td>\n",
       "      <td>0.586846</td>\n",
       "      <td>-23.382383</td>\n",
       "      <td>0.586790</td>\n",
       "      <td>1237663479797121475</td>\n",
       "      <td>0.000054</td>\n",
       "      <td>0.000004</td>\n",
       "      <td>...</td>\n",
       "      <td>NaN</td>\n",
       "      <td>NaN</td>\n",
       "      <td>NaN</td>\n",
       "      <td>NaN</td>\n",
       "      <td>NaN</td>\n",
       "      <td>NaN</td>\n",
       "      <td>NaN</td>\n",
       "      <td>NaN</td>\n",
       "      <td>NaN</td>\n",
       "      <td>NaN</td>\n",
       "    </tr>\n",
       "    <tr>\n",
       "      <th>4</th>\n",
       "      <td>10434</td>\n",
       "      <td>0.104161</td>\n",
       "      <td>0.000020</td>\n",
       "      <td>-30.042999</td>\n",
       "      <td>-1.192410</td>\n",
       "      <td>-30.044067</td>\n",
       "      <td>-1.193710</td>\n",
       "      <td>1237656567045947805</td>\n",
       "      <td>0.000392</td>\n",
       "      <td>0.000015</td>\n",
       "      <td>...</td>\n",
       "      <td>NaN</td>\n",
       "      <td>NaN</td>\n",
       "      <td>NaN</td>\n",
       "      <td>NaN</td>\n",
       "      <td>NaN</td>\n",
       "      <td>NaN</td>\n",
       "      <td>NaN</td>\n",
       "      <td>NaN</td>\n",
       "      <td>NaN</td>\n",
       "      <td>NaN</td>\n",
       "    </tr>\n",
       "  </tbody>\n",
       "</table>\n",
       "<p>5 rows × 33 columns</p>\n",
       "</div>"
      ],
      "text/plain": [
       "     CID         Z     Z_ERR      SN_RA    SN_DEC     GAL_RA   GAL_DEC  \\\n",
       "0  10028  0.065392  0.000009  17.741899  0.276253  17.741844  0.276160   \n",
       "1  10037  0.253816  0.000049 -40.495998  1.115320 -40.495548  1.115320   \n",
       "2   1032  0.129755  0.000034  46.795898  1.119990  46.795700  1.119545   \n",
       "3  10324  0.251725  0.000031 -23.382000  0.586846 -23.382383  0.586790   \n",
       "4  10434  0.104161  0.000020 -30.042999 -1.192410 -30.044067 -1.193710   \n",
       "\n",
       "            HOST_OBJID        X0    X0_ERR    ...      u  u uncert   g  \\\n",
       "0  1237666339726360676  0.000829  0.000027    ...    NaN       NaN NaN   \n",
       "1  1237678617936986968  0.000036  0.000004    ...    NaN       NaN NaN   \n",
       "2  1237666302164664434  0.000105  0.000005    ...    NaN       NaN NaN   \n",
       "3  1237663479797121475  0.000054  0.000004    ...    NaN       NaN NaN   \n",
       "4  1237656567045947805  0.000392  0.000015    ...    NaN       NaN NaN   \n",
       "\n",
       "   g uncert   r  r uncert   i  i uncert   z  z uncert  \n",
       "0       NaN NaN       NaN NaN       NaN NaN       NaN  \n",
       "1       NaN NaN       NaN NaN       NaN NaN       NaN  \n",
       "2       NaN NaN       NaN NaN       NaN NaN       NaN  \n",
       "3       NaN NaN       NaN NaN       NaN NaN       NaN  \n",
       "4       NaN NaN       NaN NaN       NaN NaN       NaN  \n",
       "\n",
       "[5 rows x 33 columns]"
      ]
     },
     "execution_count": 4,
     "metadata": {},
     "output_type": "execute_result"
    }
   ],
   "source": [
    "# add columns for [u, u uncert, g, g uncert, r, r uncert, i, i uncert, z, z uncert] \n",
    "SNIaCam['u'] = np.nan\n",
    "SNIaCam['u uncert'] = np.nan\n",
    "SNIaCam['g'] = np.nan\n",
    "SNIaCam['g uncert'] = np.nan\n",
    "SNIaCam['r'] = np.nan\n",
    "SNIaCam['r uncert'] = np.nan\n",
    "SNIaCam['i'] = np.nan\n",
    "SNIaCam['i uncert'] = np.nan\n",
    "SNIaCam['z'] = np.nan\n",
    "SNIaCam['z uncert'] = np.nan\n",
    "\n",
    "SNIaCam.head()"
   ]
  },
  {
   "cell_type": "code",
   "execution_count": 5,
   "metadata": {
    "collapsed": false
   },
   "outputs": [
    {
     "name": "stderr",
     "output_type": "stream",
     "text": [
      "/usr/local/lib/python3.5/site-packages/ipykernel/__main__.py:34: UserWarning: data/SDSS - photometry/SMP_010449.dat has a negative flux: u,g,r,i,z = [-0.1736  0.6237  1.192   1.431   2.007 ] μJy/sqr-arcsec\n",
      "/usr/local/lib/python3.5/site-packages/ipykernel/__main__.py:34: UserWarning: data/SDSS - photometry/SMP_012213.dat has a negative flux: u,g,r,i,z = [-0.305    0.02695 -0.01997 -0.01652  0.5137 ] μJy/sqr-arcsec\n",
      "/usr/local/lib/python3.5/site-packages/ipykernel/__main__.py:34: UserWarning: data/SDSS - photometry/SMP_012978.dat has a negative flux: u,g,r,i,z = [ 0.558   0.1314 -0.132   0.1893  0.8563] μJy/sqr-arcsec\n",
      "/usr/local/lib/python3.5/site-packages/ipykernel/__main__.py:34: UserWarning: data/SDSS - photometry/SMP_013497.dat has a negative flux: u,g,r,i,z = [-0.04794  0.3317   1.674    2.504    3.813  ] μJy/sqr-arcsec\n",
      "/usr/local/lib/python3.5/site-packages/ipykernel/__main__.py:34: UserWarning: data/SDSS - photometry/SMP_013511.dat has a negative flux: u,g,r,i,z = [-0.3241   0.101    0.3332   0.8208  -0.06097] μJy/sqr-arcsec\n",
      "/usr/local/lib/python3.5/site-packages/ipykernel/__main__.py:34: UserWarning: data/SDSS - photometry/SMP_013610.dat has a negative flux: u,g,r,i,z = [ 0.08208  0.1581   0.08179  0.2318  -0.3886 ] μJy/sqr-arcsec\n",
      "/usr/local/lib/python3.5/site-packages/ipykernel/__main__.py:34: UserWarning: data/SDSS - photometry/SMP_013660.dat has a negative flux: u,g,r,i,z = [-0.2539  0.1558  0.3063  0.2816  0.9171] μJy/sqr-arcsec\n",
      "/usr/local/lib/python3.5/site-packages/ipykernel/__main__.py:34: UserWarning: data/SDSS - photometry/SMP_013703.dat has a negative flux: u,g,r,i,z = [-0.04029  0.1282  -0.11     0.1359  -0.8679 ] μJy/sqr-arcsec\n",
      "/usr/local/lib/python3.5/site-packages/ipykernel/__main__.py:34: UserWarning: data/SDSS - photometry/SMP_013813.dat has a negative flux: u,g,r,i,z = [-0.08265  0.6615   2.241    3.54     5.447  ] μJy/sqr-arcsec\n",
      "/usr/local/lib/python3.5/site-packages/ipykernel/__main__.py:34: UserWarning: data/SDSS - photometry/SMP_013835.dat has a negative flux: u,g,r,i,z = [-0.1964  0.2855  0.6188  0.6973  2.058 ] μJy/sqr-arcsec\n",
      "/usr/local/lib/python3.5/site-packages/ipykernel/__main__.py:34: UserWarning: data/SDSS - photometry/SMP_013902.dat has a negative flux: u,g,r,i,z = [-0.6478  0.5831  3.108   5.607   8.82  ] μJy/sqr-arcsec\n",
      "/usr/local/lib/python3.5/site-packages/ipykernel/__main__.py:34: UserWarning: data/SDSS - photometry/SMP_013909.dat has a negative flux: u,g,r,i,z = [-0.3301   0.2621   0.2536   0.04712  0.9007 ] μJy/sqr-arcsec\n",
      "/usr/local/lib/python3.5/site-packages/ipykernel/__main__.py:34: UserWarning: data/SDSS - photometry/SMP_013956.dat has a negative flux: u,g,r,i,z = [-0.009689  0.1459    0.3212    0.5364    0.8478  ] μJy/sqr-arcsec\n",
      "/usr/local/lib/python3.5/site-packages/ipykernel/__main__.py:34: UserWarning: data/SDSS - photometry/SMP_014024.dat has a negative flux: u,g,r,i,z = [-0.16    0.3719  0.8     1.702   3.014 ] μJy/sqr-arcsec\n",
      "/usr/local/lib/python3.5/site-packages/ipykernel/__main__.py:34: UserWarning: data/SDSS - photometry/SMP_014258.dat has a negative flux: u,g,r,i,z = [ 0.1021  -0.01298  0.01531  0.1862   0.7516 ] μJy/sqr-arcsec\n",
      "/usr/local/lib/python3.5/site-packages/ipykernel/__main__.py:34: UserWarning: data/SDSS - photometry/SMP_014311.dat has a negative flux: u,g,r,i,z = [-0.3297  1.193   3.213   5.205   7.399 ] μJy/sqr-arcsec\n",
      "/usr/local/lib/python3.5/site-packages/ipykernel/__main__.py:34: UserWarning: data/SDSS - photometry/SMP_014438.dat has a negative flux: u,g,r,i,z = [-0.8166   0.448    0.3431   0.4684  -0.09199] μJy/sqr-arcsec\n",
      "/usr/local/lib/python3.5/site-packages/ipykernel/__main__.py:34: UserWarning: data/SDSS - photometry/SMP_014456.dat has a negative flux: u,g,r,i,z = [-0.05895  0.4775   1.392    2.937    4.653  ] μJy/sqr-arcsec\n",
      "/usr/local/lib/python3.5/site-packages/ipykernel/__main__.py:34: UserWarning: data/SDSS - photometry/SMP_014644.dat has a negative flux: u,g,r,i,z = [-0.04999  0.09448  0.1158   0.1113   0.5737 ] μJy/sqr-arcsec\n",
      "/usr/local/lib/python3.5/site-packages/ipykernel/__main__.py:34: UserWarning: data/SDSS - photometry/SMP_014671.dat has a negative flux: u,g,r,i,z = [-0.2968  0.4343  1.267   1.911   2.398 ] μJy/sqr-arcsec\n",
      "/usr/local/lib/python3.5/site-packages/ipykernel/__main__.py:34: UserWarning: data/SDSS - photometry/SMP_014823.dat has a negative flux: u,g,r,i,z = [ -0.1694   1.55     7.077   12.79    18.46  ] μJy/sqr-arcsec\n",
      "/usr/local/lib/python3.5/site-packages/ipykernel/__main__.py:34: UserWarning: data/SDSS - photometry/SMP_014846.dat has a negative flux: u,g,r,i,z = [-0.2577  0.65    1.406   1.908   2.712 ] μJy/sqr-arcsec\n",
      "/usr/local/lib/python3.5/site-packages/ipykernel/__main__.py:34: UserWarning: data/SDSS - photometry/SMP_014916.dat has a negative flux: u,g,r,i,z = [-0.1932  0.264   0.638   0.7077  1.816 ] μJy/sqr-arcsec\n",
      "/usr/local/lib/python3.5/site-packages/ipykernel/__main__.py:34: UserWarning: data/SDSS - photometry/SMP_015103.dat has a negative flux: u,g,r,i,z = [-0.1892   0.06027  0.5981   0.897    1.85   ] μJy/sqr-arcsec\n",
      "/usr/local/lib/python3.5/site-packages/ipykernel/__main__.py:34: UserWarning: data/SDSS - photometry/SMP_015119.dat has a negative flux: u,g,r,i,z = [-0.1358   -0.006487  0.4269    0.3863    0.3942  ] μJy/sqr-arcsec\n",
      "/usr/local/lib/python3.5/site-packages/ipykernel/__main__.py:34: UserWarning: data/SDSS - photometry/SMP_015198.dat has a negative flux: u,g,r,i,z = [ 0.1894   0.07647 -0.03293 -0.04213  0.3859 ] μJy/sqr-arcsec\n",
      "/usr/local/lib/python3.5/site-packages/ipykernel/__main__.py:34: UserWarning: data/SDSS - photometry/SMP_015226.dat has a negative flux: u,g,r,i,z = [ -0.1388   1.441    5.4      8.755   11.69  ] μJy/sqr-arcsec\n",
      "/usr/local/lib/python3.5/site-packages/ipykernel/__main__.py:34: UserWarning: data/SDSS - photometry/SMP_015263.dat has a negative flux: u,g,r,i,z = [-0.2     0.4456  2.464   4.984   6.305 ] μJy/sqr-arcsec\n",
      "/usr/local/lib/python3.5/site-packages/ipykernel/__main__.py:34: UserWarning: data/SDSS - photometry/SMP_015287.dat has a negative flux: u,g,r,i,z = [-0.6452  0.1224  0.1062  0.1031  1.015 ] μJy/sqr-arcsec\n",
      "/usr/local/lib/python3.5/site-packages/ipykernel/__main__.py:34: UserWarning: data/SDSS - photometry/SMP_015324.dat has a negative flux: u,g,r,i,z = [-0.1866  0.3989  0.6715  0.9956  1.045 ] μJy/sqr-arcsec\n",
      "/usr/local/lib/python3.5/site-packages/ipykernel/__main__.py:34: UserWarning: data/SDSS - photometry/SMP_015454.dat has a negative flux: u,g,r,i,z = [ 0.6017  -0.04565  0.1641   0.1241   0.2238 ] μJy/sqr-arcsec\n",
      "/usr/local/lib/python3.5/site-packages/ipykernel/__main__.py:34: UserWarning: data/SDSS - photometry/SMP_015466.dat has a negative flux: u,g,r,i,z = [-0.06639  0.139    0.1766   0.2319   1.982  ] μJy/sqr-arcsec\n",
      "/usr/local/lib/python3.5/site-packages/ipykernel/__main__.py:34: UserWarning: data/SDSS - photometry/SMP_015489.dat has a negative flux: u,g,r,i,z = [ 0.       0.07372  0.02924  0.1703  -0.4629 ] μJy/sqr-arcsec\n",
      "/usr/local/lib/python3.5/site-packages/ipykernel/__main__.py:34: UserWarning: data/SDSS - photometry/SMP_015508.dat has a negative flux: u,g,r,i,z = [-0.08297  0.2866   0.6083   0.6177   1.161  ] μJy/sqr-arcsec\n",
      "/usr/local/lib/python3.5/site-packages/ipykernel/__main__.py:34: UserWarning: data/SDSS - photometry/SMP_015549.dat has a negative flux: u,g,r,i,z = [-0.07937  0.2456   0.7907   1.061    1.94   ] μJy/sqr-arcsec\n",
      "/usr/local/lib/python3.5/site-packages/ipykernel/__main__.py:34: UserWarning: data/SDSS - photometry/SMP_015553.dat has a negative flux: u,g,r,i,z = [ -0.03941   1.623     6.524    11.06     15.19   ] μJy/sqr-arcsec\n",
      "/usr/local/lib/python3.5/site-packages/ipykernel/__main__.py:34: UserWarning: data/SDSS - photometry/SMP_015584.dat has a negative flux: u,g,r,i,z = [-0.06872  0.06662  0.1634   0.2803  -1.209  ] μJy/sqr-arcsec\n",
      "/usr/local/lib/python3.5/site-packages/ipykernel/__main__.py:34: UserWarning: data/SDSS - photometry/SMP_015603.dat has a negative flux: u,g,r,i,z = [-0.1693  1.059   2.964   4.649   6.458 ] μJy/sqr-arcsec\n",
      "/usr/local/lib/python3.5/site-packages/ipykernel/__main__.py:34: UserWarning: data/SDSS - photometry/SMP_015675.dat has a negative flux: u,g,r,i,z = [-0.383   0.4775  1.456   2.333   3.339 ] μJy/sqr-arcsec\n",
      "/usr/local/lib/python3.5/site-packages/ipykernel/__main__.py:34: UserWarning: data/SDSS - photometry/SMP_015693.dat has a negative flux: u,g,r,i,z = [ 0.1499   0.1216  -0.07922  0.5766   0.5052 ] μJy/sqr-arcsec\n",
      "/usr/local/lib/python3.5/site-packages/ipykernel/__main__.py:34: UserWarning: data/SDSS - photometry/SMP_015704.dat has a negative flux: u,g,r,i,z = [ 0.1753    0.05154   0.004805  0.1169   -0.1342  ] μJy/sqr-arcsec\n",
      "/usr/local/lib/python3.5/site-packages/ipykernel/__main__.py:34: UserWarning: data/SDSS - photometry/SMP_015737.dat has a negative flux: u,g,r,i,z = [-0.2925  0.3564  1.188   1.724   2.416 ] μJy/sqr-arcsec\n",
      "/usr/local/lib/python3.5/site-packages/ipykernel/__main__.py:34: UserWarning: data/SDSS - photometry/SMP_015776.dat has a negative flux: u,g,r,i,z = [-0.01086  0.1141   0.2383   0.2546   0.5229 ] μJy/sqr-arcsec\n",
      "/usr/local/lib/python3.5/site-packages/ipykernel/__main__.py:34: UserWarning: data/SDSS - photometry/SMP_015782.dat has a negative flux: u,g,r,i,z = [-0.03492  0.5467   1.471    2.513    3.533  ] μJy/sqr-arcsec\n",
      "/usr/local/lib/python3.5/site-packages/ipykernel/__main__.py:34: UserWarning: data/SDSS - photometry/SMP_015850.dat has a negative flux: u,g,r,i,z = [ 0.3209   -0.007837 -0.0374    0.2468   -0.073   ] μJy/sqr-arcsec\n",
      "/usr/local/lib/python3.5/site-packages/ipykernel/__main__.py:34: UserWarning: data/SDSS - photometry/SMP_015860.dat has a negative flux: u,g,r,i,z = [-0.08938  0.5056   0.8164   0.976    2.469  ] μJy/sqr-arcsec\n",
      "/usr/local/lib/python3.5/site-packages/ipykernel/__main__.py:34: UserWarning: data/SDSS - photometry/SMP_015897.dat has a negative flux: u,g,r,i,z = [-0.04093  0.6293   1.867    2.853    3.491  ] μJy/sqr-arcsec\n",
      "/usr/local/lib/python3.5/site-packages/ipykernel/__main__.py:34: UserWarning: data/SDSS - photometry/SMP_015941.dat has a negative flux: u,g,r,i,z = [ -0.3791   1.98     8.74    14.28    21.45  ] μJy/sqr-arcsec\n",
      "/usr/local/lib/python3.5/site-packages/ipykernel/__main__.py:34: UserWarning: data/SDSS - photometry/SMP_015942.dat has a negative flux: u,g,r,i,z = [-0.03211  0.2033   0.3479   0.326    1.442  ] μJy/sqr-arcsec\n",
      "/usr/local/lib/python3.5/site-packages/ipykernel/__main__.py:34: UserWarning: data/SDSS - photometry/SMP_015967.dat has a negative flux: u,g,r,i,z = [-0.2568  0.1515  0.7234  0.4506  0.5187] μJy/sqr-arcsec\n",
      "/usr/local/lib/python3.5/site-packages/ipykernel/__main__.py:34: UserWarning: data/SDSS - photometry/SMP_015987.dat has a negative flux: u,g,r,i,z = [-0.5358  -0.1145   0.05668  0.1662  -0.3115 ] μJy/sqr-arcsec\n",
      "/usr/local/lib/python3.5/site-packages/ipykernel/__main__.py:34: UserWarning: data/SDSS - photometry/SMP_016048.dat has a negative flux: u,g,r,i,z = [-0.07012  0.1647   0.2071   0.3688   0.9828 ] μJy/sqr-arcsec\n",
      "/usr/local/lib/python3.5/site-packages/ipykernel/__main__.py:34: UserWarning: data/SDSS - photometry/SMP_016160.dat has a negative flux: u,g,r,i,z = [-0.02757  0.6097   2.448    4.137    6.361  ] μJy/sqr-arcsec\n",
      "/usr/local/lib/python3.5/site-packages/ipykernel/__main__.py:34: UserWarning: data/SDSS - photometry/SMP_016211.dat has a negative flux: u,g,r,i,z = [-0.165    0.06219  0.2919   0.7194   2.189  ] μJy/sqr-arcsec\n",
      "/usr/local/lib/python3.5/site-packages/ipykernel/__main__.py:34: UserWarning: data/SDSS - photometry/SMP_016232.dat has a negative flux: u,g,r,i,z = [-0.6914  0.2968  0.5663  1.229   1.663 ] μJy/sqr-arcsec\n",
      "/usr/local/lib/python3.5/site-packages/ipykernel/__main__.py:34: UserWarning: data/SDSS - photometry/SMP_016259.dat has a negative flux: u,g,r,i,z = [ 0.02878  0.2261   0.2802   0.458   -0.09814] μJy/sqr-arcsec\n",
      "/usr/local/lib/python3.5/site-packages/ipykernel/__main__.py:34: UserWarning: data/SDSS - photometry/SMP_016281.dat has a negative flux: u,g,r,i,z = [ -2.37500000e-02   4.29200000e+00   1.19600000e+01   1.81800000e+01\n",
      "   2.50700000e+01] μJy/sqr-arcsec\n",
      "/usr/local/lib/python3.5/site-packages/ipykernel/__main__.py:34: UserWarning: data/SDSS - photometry/SMP_016350.dat has a negative flux: u,g,r,i,z = [-0.01529  0.3212   0.3019   0.6002  -0.2032 ] μJy/sqr-arcsec\n",
      "/usr/local/lib/python3.5/site-packages/ipykernel/__main__.py:34: UserWarning: data/SDSS - photometry/SMP_016472.dat has a negative flux: u,g,r,i,z = [-0.3542   0.07182 -0.1131  -0.07537 -0.4536 ] μJy/sqr-arcsec\n",
      "/usr/local/lib/python3.5/site-packages/ipykernel/__main__.py:34: UserWarning: data/SDSS - photometry/SMP_016473.dat has a negative flux: u,g,r,i,z = [-0.2635  1.71    4.393   6.857   8.294 ] μJy/sqr-arcsec\n",
      "/usr/local/lib/python3.5/site-packages/ipykernel/__main__.py:34: UserWarning: data/SDSS - photometry/SMP_016482.dat has a negative flux: u,g,r,i,z = [-0.2464  -0.1026   0.3754   0.01361 -1.468  ] μJy/sqr-arcsec\n",
      "/usr/local/lib/python3.5/site-packages/ipykernel/__main__.py:34: UserWarning: data/SDSS - photometry/SMP_016554.dat has a negative flux: u,g,r,i,z = [ 0.7448  -0.05763  0.3039   0.344    1.701  ] μJy/sqr-arcsec\n",
      "/usr/local/lib/python3.5/site-packages/ipykernel/__main__.py:34: UserWarning: data/SDSS - photometry/SMP_016584.dat has a negative flux: u,g,r,i,z = [ 0.03206 -0.03075  0.06665  0.04682  0.337  ] μJy/sqr-arcsec\n",
      "/usr/local/lib/python3.5/site-packages/ipykernel/__main__.py:34: UserWarning: data/SDSS - photometry/SMP_016977.dat has a negative flux: u,g,r,i,z = [-0.1689  0.2674  0.9739  0.8384  1.821 ] μJy/sqr-arcsec\n",
      "/usr/local/lib/python3.5/site-packages/ipykernel/__main__.py:34: UserWarning: data/SDSS - photometry/SMP_017031.dat has a negative flux: u,g,r,i,z = [-0.01554  1.341    3.586    5.02     6.276  ] μJy/sqr-arcsec\n",
      "/usr/local/lib/python3.5/site-packages/ipykernel/__main__.py:34: UserWarning: data/SDSS - photometry/SMP_017332.dat has a negative flux: u,g,r,i,z = [-0.1895  0.1685  0.2113  0.5695  0.079 ] μJy/sqr-arcsec\n",
      "/usr/local/lib/python3.5/site-packages/ipykernel/__main__.py:34: UserWarning: data/SDSS - photometry/SMP_017340.dat has a negative flux: u,g,r,i,z = [-0.3886  0.1795  0.3879  0.6695  0.7209] μJy/sqr-arcsec\n",
      "/usr/local/lib/python3.5/site-packages/ipykernel/__main__.py:34: UserWarning: data/SDSS - photometry/SMP_017784.dat has a negative flux: u,g,r,i,z = [-0.1096   0.07008  0.5743   0.6417   1.918  ] μJy/sqr-arcsec\n",
      "/usr/local/lib/python3.5/site-packages/ipykernel/__main__.py:34: UserWarning: data/SDSS - photometry/SMP_017884.dat has a negative flux: u,g,r,i,z = [-0.4529  0.6993  1.085   1.246   1.172 ] μJy/sqr-arcsec\n",
      "/usr/local/lib/python3.5/site-packages/ipykernel/__main__.py:34: UserWarning: data/SDSS - photometry/SMP_017952.dat has a negative flux: u,g,r,i,z = [-0.03785  0.3753   1.231    1.918    3.461  ] μJy/sqr-arcsec\n",
      "/usr/local/lib/python3.5/site-packages/ipykernel/__main__.py:34: UserWarning: data/SDSS - photometry/SMP_018083.dat has a negative flux: u,g,r,i,z = [-0.1445   0.1427  -0.1057   0.06877  0.8973 ] μJy/sqr-arcsec\n",
      "/usr/local/lib/python3.5/site-packages/ipykernel/__main__.py:34: UserWarning: data/SDSS - photometry/SMP_018146.dat has a negative flux: u,g,r,i,z = [-0.08938  0.04862  0.1155   0.2422   0.4881 ] μJy/sqr-arcsec\n",
      "/usr/local/lib/python3.5/site-packages/ipykernel/__main__.py:34: UserWarning: data/SDSS - photometry/SMP_018415.dat has a negative flux: u,g,r,i,z = [ -0.07423   1.69      5.055     6.811    10.81   ] μJy/sqr-arcsec\n",
      "/usr/local/lib/python3.5/site-packages/ipykernel/__main__.py:34: UserWarning: data/SDSS - photometry/SMP_018463.dat has a negative flux: u,g,r,i,z = [-0.3808  0.1892  0.432   0.8782 -0.2548] μJy/sqr-arcsec\n",
      "/usr/local/lib/python3.5/site-packages/ipykernel/__main__.py:34: UserWarning: data/SDSS - photometry/SMP_018630.dat has a negative flux: u,g,r,i,z = [-0.156   0.5932  3.177   5.306   6.063 ] μJy/sqr-arcsec\n",
      "/usr/local/lib/python3.5/site-packages/ipykernel/__main__.py:34: UserWarning: data/SDSS - photometry/SMP_018647.dat has a negative flux: u,g,r,i,z = [-0.2898  0.2541  0.6458  0.9853  1.896 ] μJy/sqr-arcsec\n",
      "/usr/local/lib/python3.5/site-packages/ipykernel/__main__.py:34: UserWarning: data/SDSS - photometry/SMP_018740.dat has a negative flux: u,g,r,i,z = [ 0.03941  0.2263   0.09206  0.2936  -0.134  ] μJy/sqr-arcsec\n",
      "/usr/local/lib/python3.5/site-packages/ipykernel/__main__.py:34: UserWarning: data/SDSS - photometry/SMP_018797.dat has a negative flux: u,g,r,i,z = [ -0.7719   1.852    8.24    13.34    18.4   ] μJy/sqr-arcsec\n",
      "/usr/local/lib/python3.5/site-packages/ipykernel/__main__.py:34: UserWarning: data/SDSS - photometry/SMP_018855.dat has a negative flux: u,g,r,i,z = [-0.03335  0.06923  0.121    0.1929   0.2684 ] μJy/sqr-arcsec\n",
      "/usr/local/lib/python3.5/site-packages/ipykernel/__main__.py:34: UserWarning: data/SDSS - photometry/SMP_018909.dat has a negative flux: u,g,r,i,z = [-0.8596  0.4915  2.043   3.004   3.602 ] μJy/sqr-arcsec\n",
      "/usr/local/lib/python3.5/site-packages/ipykernel/__main__.py:34: UserWarning: data/SDSS - photometry/SMP_018993.dat has a negative flux: u,g,r,i,z = [-0.1635  0.2663  0.5294  0.4288  1.291 ] μJy/sqr-arcsec\n",
      "/usr/local/lib/python3.5/site-packages/ipykernel/__main__.py:34: UserWarning: data/SDSS - photometry/SMP_019000.dat has a negative flux: u,g,r,i,z = [-0.09046  1.352    2.746    3.264    4.049  ] μJy/sqr-arcsec\n",
      "/usr/local/lib/python3.5/site-packages/ipykernel/__main__.py:34: UserWarning: data/SDSS - photometry/SMP_019052.dat has a negative flux: u,g,r,i,z = [-0.02553  0.833    1.797    2.533    3.126  ] μJy/sqr-arcsec\n",
      "/usr/local/lib/python3.5/site-packages/ipykernel/__main__.py:34: UserWarning: data/SDSS - photometry/SMP_019091.dat has a negative flux: u,g,r,i,z = [ 0.3865  -0.01724 -0.06416 -0.01301  0.6483 ] μJy/sqr-arcsec\n",
      "/usr/local/lib/python3.5/site-packages/ipykernel/__main__.py:34: UserWarning: data/SDSS - photometry/SMP_019132.dat has a negative flux: u,g,r,i,z = [ -0.1459   1.501    6.375   10.35    16.25  ] μJy/sqr-arcsec\n",
      "/usr/local/lib/python3.5/site-packages/ipykernel/__main__.py:34: UserWarning: data/SDSS - photometry/SMP_019334.dat has a negative flux: u,g,r,i,z = [-0.3402  0.106   0.3036  0.5698 -0.2802] μJy/sqr-arcsec\n",
      "/usr/local/lib/python3.5/site-packages/ipykernel/__main__.py:34: UserWarning: data/SDSS - photometry/SMP_019335.dat has a negative flux: u,g,r,i,z = [-0.3432   0.02317  0.09576 -0.1324   1.315  ] μJy/sqr-arcsec\n",
      "/usr/local/lib/python3.5/site-packages/ipykernel/__main__.py:34: UserWarning: data/SDSS - photometry/SMP_019518.dat has a negative flux: u,g,r,i,z = [-0.2118  0.2226  0.9957  2.139   3.524 ] μJy/sqr-arcsec\n",
      "/usr/local/lib/python3.5/site-packages/ipykernel/__main__.py:34: UserWarning: data/SDSS - photometry/SMP_019523.dat has a negative flux: u,g,r,i,z = [-0.03408  0.6952   1.381    1.846    1.848  ] μJy/sqr-arcsec\n",
      "/usr/local/lib/python3.5/site-packages/ipykernel/__main__.py:34: UserWarning: data/SDSS - photometry/SMP_019616.dat has a negative flux: u,g,r,i,z = [-0.2152  0.3457  0.5611  0.72    1.361 ] μJy/sqr-arcsec\n",
      "/usr/local/lib/python3.5/site-packages/ipykernel/__main__.py:34: UserWarning: data/SDSS - photometry/SMP_019723.dat has a negative flux: u,g,r,i,z = [-0.3063  0.1341  0.1748  0.2195  1.025 ] μJy/sqr-arcsec\n",
      "/usr/local/lib/python3.5/site-packages/ipykernel/__main__.py:34: UserWarning: data/SDSS - photometry/SMP_019757.dat has a negative flux: u,g,r,i,z = [-0.5312   0.1766   0.2524   0.03158  0.7797 ] μJy/sqr-arcsec\n",
      "/usr/local/lib/python3.5/site-packages/ipykernel/__main__.py:34: UserWarning: data/SDSS - photometry/SMP_019778.dat has a negative flux: u,g,r,i,z = [-0.04829  0.3888   0.9001   1.681    2.635  ] μJy/sqr-arcsec\n",
      "/usr/local/lib/python3.5/site-packages/ipykernel/__main__.py:34: UserWarning: data/SDSS - photometry/SMP_019826.dat has a negative flux: u,g,r,i,z = [ -0.04554   2.55     11.48     19.15     27.63   ] μJy/sqr-arcsec\n",
      "/usr/local/lib/python3.5/site-packages/ipykernel/__main__.py:34: UserWarning: data/SDSS - photometry/SMP_020040.dat has a negative flux: u,g,r,i,z = [-0.3596  0.9473  3.814   6.098   8.389 ] μJy/sqr-arcsec\n",
      "/usr/local/lib/python3.5/site-packages/ipykernel/__main__.py:34: UserWarning: data/SDSS - photometry/SMP_020051.dat has a negative flux: u,g,r,i,z = [ 0.02939  -0.09116   0.3571   -0.008767  1.014   ] μJy/sqr-arcsec\n",
      "/usr/local/lib/python3.5/site-packages/ipykernel/__main__.py:34: UserWarning: data/SDSS - photometry/SMP_020171.dat has a negative flux: u,g,r,i,z = [ 0.6688   0.1255   0.1208  -0.03176  0.4112 ] μJy/sqr-arcsec\n",
      "/usr/local/lib/python3.5/site-packages/ipykernel/__main__.py:34: UserWarning: data/SDSS - photometry/SMP_020217.dat has a negative flux: u,g,r,i,z = [ 0.6824  -0.00997  0.2725   0.3343   1.031  ] μJy/sqr-arcsec\n",
      "/usr/local/lib/python3.5/site-packages/ipykernel/__main__.py:34: UserWarning: data/SDSS - photometry/SMP_020273.dat has a negative flux: u,g,r,i,z = [ -0.2241   1.244    5.575   11.27    17.71  ] μJy/sqr-arcsec\n",
      "/usr/local/lib/python3.5/site-packages/ipykernel/__main__.py:34: UserWarning: data/SDSS - photometry/SMP_020557.dat has a negative flux: u,g,r,i,z = [ -7.24400000e-03   8.04000000e-01   4.46000000e+00   8.48900000e+00\n",
      "   1.22400000e+01] μJy/sqr-arcsec\n",
      "/usr/local/lib/python3.5/site-packages/ipykernel/__main__.py:34: UserWarning: data/SDSS - photometry/SMP_020725.dat has a negative flux: u,g,r,i,z = [ -0.1011   0.8405   4.202    8.085   12.81  ] μJy/sqr-arcsec\n",
      "/usr/local/lib/python3.5/site-packages/ipykernel/__main__.py:34: UserWarning: data/SDSS - photometry/SMP_002078.dat has a negative flux: u,g,r,i,z = [-0.4288  0.6024  2.764   3.773   4.848 ] μJy/sqr-arcsec\n",
      "/usr/local/lib/python3.5/site-packages/ipykernel/__main__.py:34: UserWarning: data/SDSS - photometry/SMP_020870.dat has a negative flux: u,g,r,i,z = [-0.1547  0.9385  1.829   2.655   2.762 ] μJy/sqr-arcsec\n",
      "/usr/local/lib/python3.5/site-packages/ipykernel/__main__.py:34: UserWarning: data/SDSS - photometry/SMP_020896.dat has a negative flux: u,g,r,i,z = [-0.08608  0.2745   1.506    3.17     5.106  ] μJy/sqr-arcsec\n",
      "/usr/local/lib/python3.5/site-packages/ipykernel/__main__.py:34: UserWarning: data/SDSS - photometry/SMP_020916.dat has a negative flux: u,g,r,i,z = [-0.3418  0.5388  0.727   1.271   1.123 ] μJy/sqr-arcsec\n",
      "/usr/local/lib/python3.5/site-packages/ipykernel/__main__.py:34: UserWarning: data/SDSS - photometry/SMP_020928.dat has a negative flux: u,g,r,i,z = [-0.5417  0.6353  1.92    2.966   5.641 ] μJy/sqr-arcsec\n",
      "/usr/local/lib/python3.5/site-packages/ipykernel/__main__.py:34: UserWarning: data/SDSS - photometry/SMP_021069.dat has a negative flux: u,g,r,i,z = [ 0.2111  -0.08503  0.03157  0.3981   1.137  ] μJy/sqr-arcsec\n",
      "/usr/local/lib/python3.5/site-packages/ipykernel/__main__.py:34: UserWarning: data/SDSS - photometry/SMP_021165.dat has a negative flux: u,g,r,i,z = [-0.2952  0.5455  1.693   3.928   7.063 ] μJy/sqr-arcsec\n",
      "/usr/local/lib/python3.5/site-packages/ipykernel/__main__.py:34: UserWarning: data/SDSS - photometry/SMP_021306.dat has a negative flux: u,g,r,i,z = [ -0.2152   1.275    5.129    8.881   13.55  ] μJy/sqr-arcsec\n",
      "/usr/local/lib/python3.5/site-packages/ipykernel/__main__.py:34: UserWarning: data/SDSS - photometry/SMP_021385.dat has a negative flux: u,g,r,i,z = [-0.9603  0.103   0.4171  0.4629  1.107 ] μJy/sqr-arcsec\n",
      "/usr/local/lib/python3.5/site-packages/ipykernel/__main__.py:34: UserWarning: data/SDSS - photometry/SMP_021388.dat has a negative flux: u,g,r,i,z = [-0.01169  0.6523   0.4184   0.932    1.833  ] μJy/sqr-arcsec\n",
      "/usr/local/lib/python3.5/site-packages/ipykernel/__main__.py:34: UserWarning: data/SDSS - photometry/SMP_002464.dat has a negative flux: u,g,r,i,z = [ 0.       -0.009067  0.5306    0.9073   -0.3834  ] μJy/sqr-arcsec\n",
      "/usr/local/lib/python3.5/site-packages/ipykernel/__main__.py:34: UserWarning: data/SDSS - photometry/SMP_002561.dat has a negative flux: u,g,r,i,z = [-0.219  1.439  2.87   3.995  5.544] μJy/sqr-arcsec\n",
      "/usr/local/lib/python3.5/site-packages/ipykernel/__main__.py:34: UserWarning: data/SDSS - photometry/SMP_002789.dat has a negative flux: u,g,r,i,z = [-0.01558  0.05969  0.2792   0.04673  0.7052 ] μJy/sqr-arcsec\n",
      "/usr/local/lib/python3.5/site-packages/ipykernel/__main__.py:34: UserWarning: data/SDSS - photometry/SMP_002871.dat has a negative flux: u,g,r,i,z = [ -0.8309   4.201   19.33    34.87    50.68  ] μJy/sqr-arcsec\n",
      "/usr/local/lib/python3.5/site-packages/ipykernel/__main__.py:34: UserWarning: data/SDSS - photometry/SMP_003426.dat has a negative flux: u,g,r,i,z = [ -0.05323   2.228     6.389    11.14     14.69   ] μJy/sqr-arcsec\n",
      "/usr/local/lib/python3.5/site-packages/ipykernel/__main__.py:34: UserWarning: data/SDSS - photometry/SMP_003945.dat has a negative flux: u,g,r,i,z = [-0.2355  0.1244  0.2347  0.4042  0.1866] μJy/sqr-arcsec\n",
      "/usr/local/lib/python3.5/site-packages/ipykernel/__main__.py:34: UserWarning: data/SDSS - photometry/SMP_003975.dat has a negative flux: u,g,r,i,z = [-0.05099  0.4318   1.29     1.663    2.468  ] μJy/sqr-arcsec\n",
      "/usr/local/lib/python3.5/site-packages/ipykernel/__main__.py:34: UserWarning: data/SDSS - photometry/SMP_004110.dat has a negative flux: u,g,r,i,z = [ 0.06359  0.3065   0.3692   0.4613  -0.2344 ] μJy/sqr-arcsec\n",
      "/usr/local/lib/python3.5/site-packages/ipykernel/__main__.py:34: UserWarning: data/SDSS - photometry/SMP_004417.dat has a negative flux: u,g,r,i,z = [-0.2587  0.4209  0.9669  1.795   2.806 ] μJy/sqr-arcsec\n",
      "/usr/local/lib/python3.5/site-packages/ipykernel/__main__.py:34: UserWarning: data/SDSS - photometry/SMP_005473.dat has a negative flux: u,g,r,i,z = [ -0.2363   3.721   15.17    25.62    38.07  ] μJy/sqr-arcsec\n",
      "/usr/local/lib/python3.5/site-packages/ipykernel/__main__.py:34: UserWarning: data/SDSS - photometry/SMP_005549.dat has a negative flux: u,g,r,i,z = [-0.04771  0.1162   0.279    0.3535   0.7541 ] μJy/sqr-arcsec\n",
      "/usr/local/lib/python3.5/site-packages/ipykernel/__main__.py:34: UserWarning: data/SDSS - photometry/SMP_005792.dat has a negative flux: u,g,r,i,z = [-0.273   0.4808  0.8635  1.592   2.809 ] μJy/sqr-arcsec\n",
      "/usr/local/lib/python3.5/site-packages/ipykernel/__main__.py:34: UserWarning: data/SDSS - photometry/SMP_005897.dat has a negative flux: u,g,r,i,z = [-0.776   0.6714  1.346   1.934   3.053 ] μJy/sqr-arcsec\n",
      "/usr/local/lib/python3.5/site-packages/ipykernel/__main__.py:34: UserWarning: data/SDSS - photometry/SMP_005917.dat has a negative flux: u,g,r,i,z = [ 0.1898   0.07251  0.05411 -0.08624  0.1273 ] μJy/sqr-arcsec\n",
      "/usr/local/lib/python3.5/site-packages/ipykernel/__main__.py:34: UserWarning: data/SDSS - photometry/SMP_005957.dat has a negative flux: u,g,r,i,z = [ 0.3232  0.1327  0.1975  0.1595 -1.309 ] μJy/sqr-arcsec\n",
      "/usr/local/lib/python3.5/site-packages/ipykernel/__main__.py:34: UserWarning: data/SDSS - photometry/SMP_006304.dat has a negative flux: u,g,r,i,z = [-0.4026   0.1902   0.1466   0.2523   0.04564] μJy/sqr-arcsec\n",
      "/usr/local/lib/python3.5/site-packages/ipykernel/__main__.py:34: UserWarning: data/SDSS - photometry/SMP_006535.dat has a negative flux: u,g,r,i,z = [ -0.06084   2.095     6.61      8.832    11.35   ] μJy/sqr-arcsec\n",
      "/usr/local/lib/python3.5/site-packages/ipykernel/__main__.py:34: UserWarning: data/SDSS - photometry/SMP_006780.dat has a negative flux: u,g,r,i,z = [-0.2552   0.06171 -0.17     0.01118  0.7047 ] μJy/sqr-arcsec\n",
      "/usr/local/lib/python3.5/site-packages/ipykernel/__main__.py:34: UserWarning: data/SDSS - photometry/SMP_006913.dat has a negative flux: u,g,r,i,z = [ -1.30800000e-02   2.11300000e+00   1.22100000e+01   2.21400000e+01\n",
      "   3.35600000e+01] μJy/sqr-arcsec\n",
      "/usr/local/lib/python3.5/site-packages/ipykernel/__main__.py:34: UserWarning: data/SDSS - photometry/SMP_006914.dat has a negative flux: u,g,r,i,z = [-0.02995  0.2246   0.6098   0.5568  -0.584  ] μJy/sqr-arcsec\n",
      "/usr/local/lib/python3.5/site-packages/ipykernel/__main__.py:34: UserWarning: data/SDSS - photometry/SMP_007335.dat has a negative flux: u,g,r,i,z = [ 0.3574    0.04994  -0.007009  0.1594    0.8265  ] μJy/sqr-arcsec\n",
      "/usr/local/lib/python3.5/site-packages/ipykernel/__main__.py:34: UserWarning: data/SDSS - photometry/SMP_007357.dat has a negative flux: u,g,r,i,z = [-0.2626   0.2129   0.141   -0.07952  0.08334] μJy/sqr-arcsec\n",
      "/usr/local/lib/python3.5/site-packages/ipykernel/__main__.py:34: UserWarning: data/SDSS - photometry/SMP_007663.dat has a negative flux: u,g,r,i,z = [-0.6018   0.06108  0.1686  -0.1918   0.1754 ] μJy/sqr-arcsec\n",
      "/usr/local/lib/python3.5/site-packages/ipykernel/__main__.py:34: UserWarning: data/SDSS - photometry/SMP_008046.dat has a negative flux: u,g,r,i,z = [-0.1983  0.4296  0.7227  0.9996  1.15  ] μJy/sqr-arcsec\n",
      "/usr/local/lib/python3.5/site-packages/ipykernel/__main__.py:34: UserWarning: data/SDSS - photometry/SMP_008062.dat has a negative flux: u,g,r,i,z = [-0.1554   0.02202  0.2636   0.1744  -0.08364] μJy/sqr-arcsec\n",
      "/usr/local/lib/python3.5/site-packages/ipykernel/__main__.py:34: UserWarning: data/SDSS - photometry/SMP_008160.dat has a negative flux: u,g,r,i,z = [ -0.4494   1.364    5.602   10.29    14.88  ] μJy/sqr-arcsec\n",
      "/usr/local/lib/python3.5/site-packages/ipykernel/__main__.py:34: UserWarning: data/SDSS - photometry/SMP_008236.dat has a negative flux: u,g,r,i,z = [-0.3933   0.09181  0.5557   0.8331   1.602  ] μJy/sqr-arcsec\n",
      "/usr/local/lib/python3.5/site-packages/ipykernel/__main__.py:34: UserWarning: data/SDSS - photometry/SMP_008600.dat has a negative flux: u,g,r,i,z = [-0.01662  0.08865  0.2107   0.1867   0.09656] μJy/sqr-arcsec\n",
      "/usr/local/lib/python3.5/site-packages/ipykernel/__main__.py:34: UserWarning: data/SDSS - photometry/SMP_008662.dat has a negative flux: u,g,r,i,z = [ 0.2522   0.07357  0.05766 -0.06237  1.297  ] μJy/sqr-arcsec\n",
      "/usr/local/lib/python3.5/site-packages/ipykernel/__main__.py:34: UserWarning: data/SDSS - photometry/SMP_008793.dat has a negative flux: u,g,r,i,z = [ -0.4356   1.32     6.452   11.34    18.26  ] μJy/sqr-arcsec\n",
      "/usr/local/lib/python3.5/site-packages/ipykernel/__main__.py:34: UserWarning: data/SDSS - photometry/SMP_009020.dat has a negative flux: u,g,r,i,z = [-0.4308  0.4374  1.127   1.498   2.569 ] μJy/sqr-arcsec\n",
      "/usr/local/lib/python3.5/site-packages/ipykernel/__main__.py:34: UserWarning: data/SDSS - photometry/SMP_009109.dat has a negative flux: u,g,r,i,z = [-0.1916  0.2268  0.5938  1.378   2.318 ] μJy/sqr-arcsec\n",
      "/usr/local/lib/python3.5/site-packages/ipykernel/__main__.py:34: UserWarning: data/SDSS - photometry/SMP_009704.dat has a negative flux: u,g,r,i,z = [ -4.07900000e-03   8.00200000e-01   1.72900000e+00   2.51000000e+00\n",
      "   4.35400000e+00] μJy/sqr-arcsec\n",
      "/usr/local/lib/python3.5/site-packages/ipykernel/__main__.py:34: UserWarning: data/SDSS - photometry/SMP_009814.dat has a negative flux: u,g,r,i,z = [-0.0696   0.01247  0.2014   0.08149  0.8549 ] μJy/sqr-arcsec\n"
     ]
    },
    {
     "data": {
      "text/html": [
       "<div>\n",
       "<table border=\"1\" class=\"dataframe\">\n",
       "  <thead>\n",
       "    <tr style=\"text-align: right;\">\n",
       "      <th></th>\n",
       "      <th>u</th>\n",
       "      <th>g</th>\n",
       "      <th>r</th>\n",
       "      <th>i</th>\n",
       "      <th>z</th>\n",
       "    </tr>\n",
       "  </thead>\n",
       "  <tbody>\n",
       "    <tr>\n",
       "      <th>0</th>\n",
       "      <td>21.223124</td>\n",
       "      <td>19.453783</td>\n",
       "      <td>18.640556</td>\n",
       "      <td>18.274016</td>\n",
       "      <td>17.984475</td>\n",
       "    </tr>\n",
       "    <tr>\n",
       "      <th>1</th>\n",
       "      <td>25.210888</td>\n",
       "      <td>22.281608</td>\n",
       "      <td>20.957668</td>\n",
       "      <td>20.318043</td>\n",
       "      <td>19.900631</td>\n",
       "    </tr>\n",
       "    <tr>\n",
       "      <th>2</th>\n",
       "      <td>24.920457</td>\n",
       "      <td>24.743643</td>\n",
       "      <td>23.730529</td>\n",
       "      <td>23.320755</td>\n",
       "      <td>22.865978</td>\n",
       "    </tr>\n",
       "    <tr>\n",
       "      <th>3</th>\n",
       "      <td>24.617600</td>\n",
       "      <td>23.986003</td>\n",
       "      <td>23.127588</td>\n",
       "      <td>22.811649</td>\n",
       "      <td>22.450892</td>\n",
       "    </tr>\n",
       "    <tr>\n",
       "      <th>4</th>\n",
       "      <td>26.603156</td>\n",
       "      <td>24.483290</td>\n",
       "      <td>23.559057</td>\n",
       "      <td>23.189553</td>\n",
       "      <td>22.810853</td>\n",
       "    </tr>\n",
       "  </tbody>\n",
       "</table>\n",
       "</div>"
      ],
      "text/plain": [
       "           u          g          r          i          z\n",
       "0  21.223124  19.453783  18.640556  18.274016  17.984475\n",
       "1  25.210888  22.281608  20.957668  20.318043  19.900631\n",
       "2  24.920457  24.743643  23.730529  23.320755  22.865978\n",
       "3  24.617600  23.986003  23.127588  22.811649  22.450892\n",
       "4  26.603156  24.483290  23.559057  23.189553  22.810853"
      ]
     },
     "execution_count": 5,
     "metadata": {},
     "output_type": "execute_result"
    }
   ],
   "source": [
    "dataFile = 'data/SDSS - photometry/SMP_{}.dat'    #need to add a s6, error padded integer\n",
    "\n",
    "for i, CID in enumerate(SNIaCam['CID']):\n",
    "    CID = str(int(CID)).zfill(6)\n",
    "    magitudes = readMagnitudes(dataFile.format(CID))\n",
    "    SNIaCam.loc[i, ['u', 'u uncert', 'g', 'g uncert', 'r', 'r uncert', 'i', 'i uncert', 'z', 'z uncert']] = magitudes\n",
    "    \n",
    "SNIaCam[['u','g','r','i','z']].head()"
   ]
  },
  {
   "cell_type": "markdown",
   "metadata": {},
   "source": [
    "Lets see a color-color plot!"
   ]
  },
  {
   "cell_type": "code",
   "execution_count": 7,
   "metadata": {
    "collapsed": false
   },
   "outputs": [
    {
     "data": {
      "text/plain": [
       "[<matplotlib.lines.Line2D at 0x113176a90>]"
      ]
     },
     "execution_count": 7,
     "metadata": {},
     "output_type": "execute_result"
    },
    {
     "data": {
      "image/png": "[encoded data removed]",
      "text/plain": [
       "<matplotlib.figure.Figure at 0x11304e940>"
      ]
     },
     "metadata": {},
     "output_type": "display_data"
    }
   ],
   "source": [
    "plt.figure('g-r vs r-i')\n",
    "\n",
    "# data = SNIaCam[np.bitwise_and(\n",
    "#         SNIaCam['g uncert'] < 0.01, SNIaCam['r uncert'] < 0.01, SNIaCam['i uncert'] < 0.01\n",
    "#         )]\n",
    "# plt.plot(data['g']-data['r'], data['r']-data['i'], 'k.')\n",
    "plt.plot(SNIaCam['g']-SNIaCam['r'], SNIaCam['r']-SNIaCam['i'], 'k.')"
   ]
  },
  {
   "cell_type": "markdown",
   "metadata": {},
   "source": [
    "This is mostly good. There are the few very bad colors that need to be corrected. Likey the errors of those outliers are bad."
   ]
  },
  {
   "cell_type": "markdown",
   "metadata": {},
   "source": [
    "## What are the values for a few SN looked at by Gupta 2011?\n",
    "\n",
    "Lets look at the *ugriz* for SN1166, 1253 & 1371."
   ]
  },
  {
   "cell_type": "code",
   "execution_count": 46,
   "metadata": {
    "collapsed": false
   },
   "outputs": [
    {
     "data": {
      "text/html": [
       "<div>\n",
       "<table border=\"1\" class=\"dataframe\">\n",
       "  <thead>\n",
       "    <tr style=\"text-align: right;\">\n",
       "      <th></th>\n",
       "      <th>CID</th>\n",
       "      <th>Z</th>\n",
       "      <th>MU</th>\n",
       "      <th>COLOR</th>\n",
       "      <th>X1</th>\n",
       "      <th>u</th>\n",
       "      <th>g</th>\n",
       "      <th>r</th>\n",
       "      <th>i</th>\n",
       "      <th>z</th>\n",
       "    </tr>\n",
       "  </thead>\n",
       "  <tbody>\n",
       "    <tr>\n",
       "      <th>17</th>\n",
       "      <td>1166</td>\n",
       "      <td>0.382077</td>\n",
       "      <td>41.294899</td>\n",
       "      <td>0.001222</td>\n",
       "      <td>1.358340</td>\n",
       "      <td>25.311649</td>\n",
       "      <td>25.360130</td>\n",
       "      <td>25.333381</td>\n",
       "      <td>24.060039</td>\n",
       "      <td>23.495897</td>\n",
       "    </tr>\n",
       "    <tr>\n",
       "      <th>57</th>\n",
       "      <td>1371</td>\n",
       "      <td>0.119343</td>\n",
       "      <td>38.480900</td>\n",
       "      <td>-0.089316</td>\n",
       "      <td>0.818692</td>\n",
       "      <td>23.228621</td>\n",
       "      <td>21.517963</td>\n",
       "      <td>20.423611</td>\n",
       "      <td>19.999402</td>\n",
       "      <td>19.617180</td>\n",
       "    </tr>\n",
       "  </tbody>\n",
       "</table>\n",
       "</div>"
      ],
      "text/plain": [
       "     CID         Z         MU     COLOR        X1          u          g  \\\n",
       "17  1166  0.382077  41.294899  0.001222  1.358340  25.311649  25.360130   \n",
       "57  1371  0.119343  38.480900 -0.089316  0.818692  23.228621  21.517963   \n",
       "\n",
       "            r          i          z  \n",
       "17  25.333381  24.060039  23.495897  \n",
       "57  20.423611  19.999402  19.617180  "
      ]
     },
     "execution_count": 46,
     "metadata": {},
     "output_type": "execute_result"
    }
   ],
   "source": [
    "SNIaCam.columns\n",
    "SNIaCam[np.logical_or(SNIaCam['CID']==1166, \n",
    "                      np.logical_or(SNIaCam['CID']==1253, SNIaCam['CID']==1371)\n",
    "                     )][['CID', 'Z', 'MU', 'COLOR', 'X1', 'u', 'g', 'r', 'i', 'z']]"
   ]
  },
  {
   "cell_type": "markdown",
   "metadata": {},
   "source": [
    "SN1253 is not in the Campell data (or possibly the SMP, I doubt that), but it is in the Gupta analysis. "
   ]
  },
  {
   "cell_type": "markdown",
   "metadata": {},
   "source": [
    "------\n",
    "\n",
    "# FSPS\n",
    "\n",
    "Charlie Conroy's Flexible Stellar Population Synthesis (FSPS), and dfm's python wrapper python fsps, build simple stellar popuations (SSPs) and composite stellar populations (CSPs).\n",
    "\n",
    "FSPS takes varring **IMFs** and **Metallicity** and produce simple stellar populations (SSPs) [note adjustments can be made via morphology of the horizontal branch, the blue straggler population, the post-AGB phase, and the location in the HR diagram of the TP-AGP phase.]. From these SSPs, we can get composite stellar populations (CSPs) for a variety of **star formation histories (SFHs)** and **dust attenuation**. This outputs **Spectra** and **magnitudes**.\n",
    "\n",
    "So if I have a 5 parameter model (**IMFs**, **Metallicity**, **SFHs**, **dust attenuation**, and **redshift**) with a Gaussian prior of known redshift from spectra, we can get an output of the 5 `urigz` magnitudes. We can take our local environment SMP magnitudes and find the best fit model & uncertainty. This can be by doing some 1000 trials/fits or something (MCMC?). Our MCMC code could randomly walk the 5D space of the Chi-square of the model & data. Then for each SN we have our 5 (really 4 because we already new **z**) model parameters and some sort of certainty quantity.\n",
    "\n",
    "[aside:] Gupta 2011 used 4 parameters metallicity log[Z/Z_solar], dust attenuating old stellar light, the e-folding timescale of star formation, the time when star formation begins. Table 1 explains range of parameters.\n",
    "\n",
    "I need **age** somewhere. I want to compare HR to local stellar population age, metallicity and possibly SFH.\n",
    "\n",
    "## Parameters - changing\n",
    "\n",
    "* *redshift*\n",
    "    * fixed per SN by data\n",
    "* **number of stars**\n",
    "    * from the scalling factor in the minimization process\n",
    "* **stellar age**\n",
    "    * from `.get_mags()` with using default `tage` parameter. Resulting ages can be found\n",
    "    with method `.log_age`.\n",
    "* SFH\n",
    "    * uses six parameters: `tau`, `const`, `sf_start`, `sf_trunc`, `tburst`, and `fburst`\n",
    "    * **`tau`** ($\\tau_{\\text{SF}}$)\n",
    "        * Gupta used `[0.1, 0.5, 1, 2, 3, 4, 6, 8, 10]`\n",
    "        * possible range is $0.1 < \\tau < 10^2$\n",
    "    * `const`\n",
    "        * default is `0` and should change\n",
    "    * **`sf_start`** $t_{\\text{start}}$\n",
    "    * `sf_trunc`\n",
    "        * default is that it does not truncate\n",
    "    * **`tburst`**\n",
    "        * defines age of the Universe when the burst occurs.\n",
    "        * defaults to 11.0\n",
    "    * **`fburst`**\n",
    "        * defines the fraction of mass formed in an instantaneous burst of star formation\n",
    "        * defaults to 0.0\n",
    "* **metallicity**\n",
    "    * `zcontinuous`\n",
    "        * 0 - no interpolation\n",
    "        * 1 - interperalted with `logzsol`\n",
    "        * 2 - (distribution fuction) convolved with both `logzsol` & `pmetals`\n",
    "\n",
    "## Parameters - check defualts\n",
    "* IMF\n",
    "* Dust atinuation\n",
    "* Dust emmition\n",
    "* metallicity handeling\n"
   ]
  },
  {
   "cell_type": "code",
   "execution_count": 47,
   "metadata": {
    "collapsed": false
   },
   "outputs": [],
   "source": [
    "import fsps"
   ]
  },
  {
   "cell_type": "code",
   "execution_count": 48,
   "metadata": {
    "collapsed": false
   },
   "outputs": [],
   "source": [
    "#Fast to set up model\n",
    "\n",
    "# sdss_bands = fsps.find_filter('sdss')  #not in color order\n",
    "sdss_bands = ['sdss_u', 'sdss_g', 'sdss_r', 'sdss_i', 'sdss_z'] \n",
    "\n",
    "# use default Kroupa IMF\n",
    "# use default settings for delayed tau-model SFH,\n",
    "#    should change these to build model space.\n",
    "# redshift & metalicity\n",
    "#    Needs to be implemented\n",
    "# Stellar Population\n",
    "#    Need to turn a lot of things on from cloudy\n",
    "# Dust\n",
    "#    Use Milky Way extinction law\n",
    "sp = fsps.StellarPopulation(sfh=4, dust_type=1, zcontinuous=2)"
   ]
  },
  {
   "cell_type": "code",
   "execution_count": 103,
   "metadata": {
    "collapsed": false
   },
   "outputs": [
    {
     "data": {
      "text/plain": [
       "107"
      ]
     },
     "execution_count": 103,
     "metadata": {},
     "output_type": "execute_result"
    }
   ],
   "source": [
    "#slow\n",
    "# sp.get_mags(tage=13.7, redshift=0.1, bands=sdss_bands)\n",
    "sp.get_mags(redshift=0.1, bands=sdss_bands)\n",
    "len(sp.log_age)"
   ]
  },
  {
   "cell_type": "code",
   "execution_count": 126,
   "metadata": {
    "collapsed": false
   },
   "outputs": [
    {
     "data": {
      "text/plain": [
       "1.0"
      ]
     },
     "execution_count": 126,
     "metadata": {},
     "output_type": "execute_result"
    }
   ],
   "source": [
    "sp.get_spectrum(tage=13.7)\n",
    "sp.formed_mass"
   ]
  },
  {
   "cell_type": "code",
   "execution_count": 49,
   "metadata": {
    "collapsed": false
   },
   "outputs": [],
   "source": [
    "def defineModelSpace(z):\n",
    "    '''\n",
    "    This builds the model space for a given redshift. The models need to know the redshfit of \n",
    "    the object to correctly callcualte the apprent magnitude as it changes over distance and \n",
    "    K-corrections\n",
    "    \n",
    "    # Parameters\n",
    "    z : float\n",
    "        The observed redshift of the objects\n",
    "        \n",
    "    # Returns\n",
    "    modelSpace : ?\n",
    "        The *ugriz* output of each model. Stored in a multi-demenial array. The \n",
    "        dimensions are for the changes in parameters `['logzsol', 'tau', 'sf_star', 'tburst',\n",
    "        'fburst']` followed by time and finally the *ugriz* values. \n",
    "    '''\n",
    "    #indexes are . . . , age (currently 107), fitlers\n",
    "    modelSpace = np.zeros((2,2,2,2,3,5))\n",
    "    \n",
    "    #iterate over metalicity\n",
    "    for i, met in enumerate([-0.2,0]):\n",
    "        #only gives 99 for a value of -1\n",
    "        sp.params['logzsol'] = met\n",
    "        \n",
    "        #iterate over `tau`\n",
    "        #e-folding time of of sfh in Gyr\n",
    "        for j, tau in enumerate([0.1,1]):\n",
    "            sp.params['tau'] = tau\n",
    "            \n",
    "            #iterate over `sf_start`\n",
    "            #burst start time in Gyr\n",
    "            for k, sf_start in enumerate([0,1]):\n",
    "                sp.params['sf_start'] = sf_start\n",
    "                \n",
    "                #iterate over `tburst`\n",
    "                #age of the universe at burst, default 11, must be less then `tage` to produce burst\n",
    "                for l, tburst in enumerate([10, 11]):\n",
    "                    sp.params['tburst'] = tburst\n",
    "                    #todo(currently we will create more time scales then needed. Many will have no bursts.)\n",
    "                    \n",
    "                    #iterate over `fburst`\n",
    "                    # fraction of mass formed in burst\n",
    "                    for m, fburst in enumerate([0,0.1,0.2]):\n",
    "                        sp.params['fburst'] = fburst\n",
    "    \n",
    "                        #remove `tage` for real data\n",
    "                        modelSpace[i,j,k,l,m] = sp.get_mags(tage=13.7, redshift=z, bands=sdss_bands)\n",
    "    \n",
    "    return modelSpace"
   ]
  },
  {
   "cell_type": "code",
   "execution_count": 50,
   "metadata": {
    "collapsed": false
   },
   "outputs": [
    {
     "data": {
      "text/plain": [
       "array([[[[[[ 47.6425442 ,  45.84300945,  44.89868278,  44.53417608,\n",
       "             44.17509227],\n",
       "           [ 47.33374967,  45.61035124,  44.71355201,  44.36652141,\n",
       "             44.02378197],\n",
       "           [ 47.09361162,  45.418857  ,  44.55543746,  44.22132583,\n",
       "             43.89100239]],\n",
       "\n",
       "          [[ 47.6425442 ,  45.84300945,  44.89868278,  44.53417608,\n",
       "             44.17509227],\n",
       "           [ 47.20889087,  45.511783  ,  44.63904006,  44.30054801,\n",
       "             43.96469689],\n",
       "           [ 46.89984643,  45.2583358 ,  44.42966092,  44.10839804,\n",
       "             43.78852909]]],\n",
       "\n",
       "\n",
       "         [[[ 47.54119709,  45.76368284,  44.82833793,  44.46764109,\n",
       "             44.1133015 ],\n",
       "           [ 47.26409384,  45.55215841,  44.65975433,  44.31485231,\n",
       "             43.97510901],\n",
       "           [ 47.0435275 ,  45.37520047,  44.51386289,  44.18093601,\n",
       "             43.85253627]],\n",
       "\n",
       "          [[ 47.54119709,  45.76368284,  44.82833793,  44.46764109,\n",
       "             44.1133015 ],\n",
       "           [ 47.1465892 ,  45.45851869,  44.5887292 ,  44.25185778,\n",
       "             43.9185479 ],\n",
       "           [ 46.85779205,  45.22057619,  44.39255727,  44.07193187,\n",
       "             43.75347208]]]],\n",
       "\n",
       "\n",
       "\n",
       "        [[[[ 47.42716016,  45.68033379,  44.76013008,  44.4051901 ,\n",
       "             44.05677625],\n",
       "           [ 47.18333289,  45.48981627,  44.6068213 ,  44.26572159,\n",
       "             43.93007667],\n",
       "           [ 46.98434618,  45.32779178,  44.47250584,  44.14214632,\n",
       "             43.81662925]],\n",
       "\n",
       "          [[ 47.42716016,  45.68033379,  44.76013008,  44.4051901 ,\n",
       "             44.05677625],\n",
       "           [ 47.07384121,  45.4011944 ,  44.53907258,  44.20543816,\n",
       "             43.875757  ],\n",
       "           [ 46.8077051 ,  45.17934255,  44.3554984 ,  44.03678813,\n",
       "             43.72064942]]],\n",
       "\n",
       "\n",
       "         [[[ 47.303485  ,  45.58600366,  44.68064716,  44.33150071,\n",
       "             43.98928856],\n",
       "           [ 47.09301474,  45.41783608,  44.54421683,  44.20698865,\n",
       "             43.87569739],\n",
       "           [ 46.91679448,  45.27225614,  44.42303203,  44.09529786,\n",
       "             43.77287276]],\n",
       "\n",
       "          [[ 47.303485  ,  45.58600366,  44.68064716,  44.33150071,\n",
       "             43.98928856],\n",
       "           [ 46.99186845,  45.33468693,  44.48015432,  44.1497975 ,\n",
       "             43.82396913],\n",
       "           [ 46.75003183,  45.13074758,  44.31097688,  43.99418833,\n",
       "             43.68052746]]]]],\n",
       "\n",
       "\n",
       "\n",
       "\n",
       "       [[[[[ 47.92969525,  46.02951584,  45.04039368,  44.6585388 ,\n",
       "             44.26803213],\n",
       "           [ 47.60053637,  45.79320075,  44.85322403,  44.4894955 ,\n",
       "             44.11549153],\n",
       "           [ 47.34829767,  45.59923918,  44.69362563,  44.34326009,\n",
       "             43.98176584]],\n",
       "\n",
       "          [[ 47.92969525,  46.02951584,  45.04039368,  44.6585388 ,\n",
       "             44.26803213],\n",
       "           [ 47.46258179,  45.69104059,  44.77676604,  44.42205942,\n",
       "             44.05561777],\n",
       "           [ 47.13703789,  45.43338509,  44.56480764,  44.22798734,\n",
       "             43.878038  ]]],\n",
       "\n",
       "\n",
       "         [[[ 47.82232324,  45.95009457,  44.97169362,  44.59452173,\n",
       "             44.20935794],\n",
       "           [ 47.52800363,  45.73512856,  44.80078977,  44.43985665,\n",
       "             44.06933875],\n",
       "           [ 47.29669038,  45.55577069,  44.65316478,  44.30450169,\n",
       "             43.94533149]],\n",
       "\n",
       "          [[ 47.82232324,  45.95009457,  44.97169362,  44.59452173,\n",
       "             44.20935794],\n",
       "           [ 47.39845334,  45.63805829,  44.72781808,  44.37534653,\n",
       "             44.01189204],\n",
       "           [ 47.09437898,  45.39596964,  44.52879926,  44.19307094,\n",
       "             43.84487321]]]],\n",
       "\n",
       "\n",
       "\n",
       "        [[[[ 47.69957627,  45.86304375,  44.89997679,  44.52874572,\n",
       "             44.14936138],\n",
       "           [ 47.44228986,  45.67018995,  44.74522942,  44.38818059,\n",
       "             44.0216041 ],\n",
       "           [ 47.23444324,  45.50648006,  44.60981146,  44.26374543,\n",
       "             43.9073096 ]],\n",
       "\n",
       "          [[ 47.69957627,  45.86304375,  44.89997679,  44.52874572,\n",
       "             44.14936138],\n",
       "           [ 47.32204943,  45.57852414,  44.67578406,  44.3265855 ,\n",
       "             43.96656676],\n",
       "           [ 47.04246556,  45.35329436,  44.49005532,  44.1562234 ,\n",
       "             43.81015834]]],\n",
       "\n",
       "\n",
       "         [[[ 47.56785812,  45.76581548,  44.81817228,  44.45309149,\n",
       "             44.07993376],\n",
       "           [ 47.34713866,  45.59612922,  44.6808647 ,  44.32792984,\n",
       "             43.96570515],\n",
       "           [ 47.16379741,  45.44941314,  44.55898844,  44.21571675,\n",
       "             43.86235854]],\n",
       "\n",
       "          [[ 47.56785812,  45.76581548,  44.81817228,  44.45309149,\n",
       "             44.07993376],\n",
       "           [ 47.23649091,  45.51027509,  44.61529833,  44.269572  ,\n",
       "             43.9133642 ],\n",
       "           [ 46.98296157,  45.30356759,  44.44443007,  44.11263351,\n",
       "             43.76898279]]]]]])"
      ]
     },
     "execution_count": 50,
     "metadata": {},
     "output_type": "execute_result"
    }
   ],
   "source": [
    "a = defineModelSpace(0.1)\n",
    "a"
   ]
  },
  {
   "cell_type": "code",
   "execution_count": 73,
   "metadata": {
    "collapsed": false
   },
   "outputs": [
    {
     "data": {
      "text/plain": [
       "array([[ 47.69957627,  45.86304375,  44.89997679,  44.52874572,\n",
       "         44.14936138],\n",
       "       [ 46.18817856,  44.79016148,  44.26085799,  44.06873434,\n",
       "         43.93656871]])"
      ]
     },
     "execution_count": 73,
     "metadata": {},
     "output_type": "execute_result"
    }
   ],
   "source": [
    "a = sp.get_mags(tage=13.7, redshift=0.1, bands=sdss_bands)\n",
    "sp.params['logzsol'] = -3\n",
    "#remove `tage` for real data\n",
    "b = sp.get_mags(tage=13.7, redshift=0.1, bands=sdss_bands)\n",
    "np.stack((a,b))"
   ]
  },
  {
   "cell_type": "code",
   "execution_count": 76,
   "metadata": {
    "collapsed": false
   },
   "outputs": [
    {
     "name": "stdout",
     "output_type": "stream",
     "text": [
      "[ 47.69957627  45.86304375  44.89997679  44.52874572  44.14936138]\n",
      "[ 47.69957627  45.86304375  44.89997679  44.52874572  44.14936138]\n"
     ]
    }
   ],
   "source": [
    "c = np.stack((a,b))\n",
    "print(c[0])\n",
    "print(a)"
   ]
  },
  {
   "cell_type": "code",
   "execution_count": null,
   "metadata": {
    "collapsed": true
   },
   "outputs": [],
   "source": [
    "def chisquare(c, u, g, r, i, z, data):\n",
    "    return (u+c-data['u'])**2/(data['u uncert'])**2"
   ]
  },
  {
   "cell_type": "markdown",
   "metadata": {},
   "source": [
    "# Scratch Area!"
   ]
  },
  {
   "cell_type": "markdown",
   "metadata": {},
   "source": [
    "## Pegase needs\n",
    "\n",
    "This is a strange program. I think if I make a synthetic, extreamly low resolution spectra, from the photometry, then I might be able to run `colors.f` on that hand makde `spectra.dat` file. The results of `colors.f` will give us colors (for sanity check) and even starformation history.\n",
    "\n",
    "--ok. Pegase might be what we want and we might be able to use it, but Brian (Hayden 2013) used the ralated ZPEG. He also used Gupta 2011's FSPS. This builds the theoretical phototmentric output of a stellar population/galaxy. "
   ]
  },
  {
   "cell_type": "code",
   "execution_count": 2,
   "metadata": {
    "collapsed": false
   },
   "outputs": [
    {
     "data": {
      "text/plain": [
       "10469"
      ]
     },
     "execution_count": 2,
     "metadata": {},
     "output_type": "execute_result"
    }
   ],
   "source": [
    "location = 'data/SDSS - photometry/'\n",
    "files = glob(location+'*')\n",
    "len(files)"
   ]
  },
  {
   "cell_type": "code",
   "execution_count": 47,
   "metadata": {
    "collapsed": false
   },
   "outputs": [
    {
     "ename": "ValueError",
     "evalue": "labels [10028] not contained in axis",
     "output_type": "error",
     "traceback": [
      "\u001b[0;31m---------------------------------------------------------------------------\u001b[0m",
      "\u001b[0;31mValueError\u001b[0m                                Traceback (most recent call last)",
      "\u001b[0;32m<ipython-input-47-4dcc3cea88b7>\u001b[0m in \u001b[0;36m<module>\u001b[0;34m()\u001b[0m\n\u001b[0;32m----> 1\u001b[0;31m \u001b[0mSNIaCam\u001b[0m\u001b[0;34m.\u001b[0m\u001b[0mdrop\u001b[0m\u001b[0;34m(\u001b[0m\u001b[0;36m10028\u001b[0m\u001b[0;34m)\u001b[0m\u001b[0;34m\u001b[0m\u001b[0m\n\u001b[0m\u001b[1;32m      2\u001b[0m \u001b[0mSNIaCam\u001b[0m\u001b[0;34m.\u001b[0m\u001b[0mtail\u001b[0m\u001b[0;34m(\u001b[0m\u001b[0;34m)\u001b[0m\u001b[0;34m\u001b[0m\u001b[0m\n",
      "\u001b[0;32m/usr/local/lib/python3.5/site-packages/pandas/core/generic.py\u001b[0m in \u001b[0;36mdrop\u001b[0;34m(self, labels, axis, level, inplace, errors)\u001b[0m\n\u001b[1;32m   1875\u001b[0m                 \u001b[0mnew_axis\u001b[0m \u001b[0;34m=\u001b[0m \u001b[0maxis\u001b[0m\u001b[0;34m.\u001b[0m\u001b[0mdrop\u001b[0m\u001b[0;34m(\u001b[0m\u001b[0mlabels\u001b[0m\u001b[0;34m,\u001b[0m \u001b[0mlevel\u001b[0m\u001b[0;34m=\u001b[0m\u001b[0mlevel\u001b[0m\u001b[0;34m,\u001b[0m \u001b[0merrors\u001b[0m\u001b[0;34m=\u001b[0m\u001b[0merrors\u001b[0m\u001b[0;34m)\u001b[0m\u001b[0;34m\u001b[0m\u001b[0m\n\u001b[1;32m   1876\u001b[0m             \u001b[0;32melse\u001b[0m\u001b[0;34m:\u001b[0m\u001b[0;34m\u001b[0m\u001b[0m\n\u001b[0;32m-> 1877\u001b[0;31m                 \u001b[0mnew_axis\u001b[0m \u001b[0;34m=\u001b[0m \u001b[0maxis\u001b[0m\u001b[0;34m.\u001b[0m\u001b[0mdrop\u001b[0m\u001b[0;34m(\u001b[0m\u001b[0mlabels\u001b[0m\u001b[0;34m,\u001b[0m \u001b[0merrors\u001b[0m\u001b[0;34m=\u001b[0m\u001b[0merrors\u001b[0m\u001b[0;34m)\u001b[0m\u001b[0;34m\u001b[0m\u001b[0m\n\u001b[0m\u001b[1;32m   1878\u001b[0m             \u001b[0mdropped\u001b[0m \u001b[0;34m=\u001b[0m \u001b[0mself\u001b[0m\u001b[0;34m.\u001b[0m\u001b[0mreindex\u001b[0m\u001b[0;34m(\u001b[0m\u001b[0;34m**\u001b[0m\u001b[0;34m{\u001b[0m\u001b[0maxis_name\u001b[0m\u001b[0;34m:\u001b[0m \u001b[0mnew_axis\u001b[0m\u001b[0;34m}\u001b[0m\u001b[0;34m)\u001b[0m\u001b[0;34m\u001b[0m\u001b[0m\n\u001b[1;32m   1879\u001b[0m             \u001b[0;32mtry\u001b[0m\u001b[0;34m:\u001b[0m\u001b[0;34m\u001b[0m\u001b[0m\n",
      "\u001b[0;32m/usr/local/lib/python3.5/site-packages/pandas/indexes/base.py\u001b[0m in \u001b[0;36mdrop\u001b[0;34m(self, labels, errors)\u001b[0m\n\u001b[1;32m   3049\u001b[0m             \u001b[0;32mif\u001b[0m \u001b[0merrors\u001b[0m \u001b[0;34m!=\u001b[0m \u001b[0;34m'ignore'\u001b[0m\u001b[0;34m:\u001b[0m\u001b[0;34m\u001b[0m\u001b[0m\n\u001b[1;32m   3050\u001b[0m                 raise ValueError('labels %s not contained in axis' %\n\u001b[0;32m-> 3051\u001b[0;31m                                  labels[mask])\n\u001b[0m\u001b[1;32m   3052\u001b[0m             \u001b[0mindexer\u001b[0m \u001b[0;34m=\u001b[0m \u001b[0mindexer\u001b[0m\u001b[0;34m[\u001b[0m\u001b[0;34m~\u001b[0m\u001b[0mmask\u001b[0m\u001b[0;34m]\u001b[0m\u001b[0;34m\u001b[0m\u001b[0m\n\u001b[1;32m   3053\u001b[0m         \u001b[0;32mreturn\u001b[0m \u001b[0mself\u001b[0m\u001b[0;34m.\u001b[0m\u001b[0mdelete\u001b[0m\u001b[0;34m(\u001b[0m\u001b[0mindexer\u001b[0m\u001b[0;34m)\u001b[0m\u001b[0;34m\u001b[0m\u001b[0m\n",
      "\u001b[0;31mValueError\u001b[0m: labels [10028] not contained in axis"
     ]
    }
   ],
   "source": [
    "SNIaCam.drop(10028)\n",
    "SNIaCam.tail()"
   ]
  },
  {
   "cell_type": "code",
   "execution_count": 76,
   "metadata": {
    "collapsed": false
   },
   "outputs": [
    {
     "name": "stdout",
     "output_type": "stream",
     "text": [
      "['data/SDSS - photometry/SMP_022253.dat'\n",
      " 'data/SDSS - photometry/SMP_022255.dat'\n",
      " 'data/SDSS - photometry/SMP_022256.dat'\n",
      " 'data/SDSS - photometry/SMP_022257.dat'\n",
      " 'data/SDSS - photometry/SMP_022258.dat']\n",
      "00067 10028\n",
      "00067 10037\n",
      "00067 1032\n",
      "00067 10324\n",
      "00067 10434\n",
      "00067 10449\n"
     ]
    }
   ],
   "source": [
    "SMP_ids = np.array(files)[-10:-5]\n",
    "print(SMP_ids)\n",
    "j = 0\n",
    "for i in SNIaCam.index:\n",
    "    print(files[0][-10:-5], str(i))\n",
    "    j += 1\n",
    "    if j > 5:\n",
    "        break\n",
    "        "
   ]
  },
  {
   "cell_type": "markdown",
   "metadata": {},
   "source": [
    "## Get colors \n",
    "\n"
   ]
  },
  {
   "cell_type": "code",
   "execution_count": 104,
   "metadata": {
    "collapsed": false
   },
   "outputs": [
    {
     "data": {
      "text/plain": [
       "True"
      ]
     },
     "execution_count": 104,
     "metadata": {},
     "output_type": "execute_result"
    }
   ],
   "source": [
    "uSB = 1\n",
    "gSB = 1\n",
    "rSB = -1\n",
    "iSB = 1\n",
    "zSB = 1\n",
    "\n",
    "any(np.array([uSB, gSB, rSB, iSB, zSB]) < -0)"
   ]
  },
  {
   "cell_type": "code",
   "execution_count": 148,
   "metadata": {
    "collapsed": false
   },
   "outputs": [
    {
     "data": {
      "text/plain": [
       "array([ 5.,  6.,  7.,  8.,  9.])"
      ]
     },
     "execution_count": 148,
     "metadata": {},
     "output_type": "execute_result"
    }
   ],
   "source": [
    "# uIndex = np.where(split == '=')[0]+2\n",
    "uIndex = 2 + 2\n",
    "Index = np.arange(5)+uIndex\n",
    "np.array(list('123456789'))[Index].astype(float)"
   ]
  },
  {
   "cell_type": "code",
   "execution_count": 188,
   "metadata": {
    "collapsed": false
   },
   "outputs": [
    {
     "data": {
      "text/plain": [
       "array([(nan, nan, nan, nan, nan, nan, nan, nan, nan, nan),\n",
       "       (nan, nan, nan, nan, nan, nan, nan, nan, nan, nan),\n",
       "       (nan, nan, nan, nan, nan, nan, nan, nan, nan, nan),\n",
       "       (nan, nan, nan, nan, nan, nan, nan, nan, nan, nan)], \n",
       "      dtype=[('u', '<f8'), ('u uncert', '<f8'), ('g', '<f8'), ('g uncert', '<f8'), ('r', '<f8'), ('r uncert', '<f8'), ('i', '<f8'), ('i uncert', '<f8'), ('z', '<f8'), ('z uncert', '<f8')])"
      ]
     },
     "execution_count": 188,
     "metadata": {},
     "output_type": "execute_result"
    }
   ],
   "source": [
    "a = np.nan*np.ones(4)\n",
    "np.array(a, dtype=[('u', 'float64'), ('u uncert', 'float64'), ('g', 'float64'), ('g uncert', 'float64'), \n",
    "                          ('r', 'float64'), ('r uncert', 'float64'), ('i', 'float64'), ('i uncert', 'float64'), \n",
    "                          ('z', 'float64'), ('z uncert', 'float64')\n",
    "                         ])"
   ]
  },
  {
   "cell_type": "code",
   "execution_count": 217,
   "metadata": {
    "collapsed": false
   },
   "outputs": [
    {
     "data": {
      "text/plain": [
       "array([[ 1. ,  2. ,  3. ],\n",
       "       [ 0.1,  0.2,  0.3]])"
      ]
     },
     "execution_count": 217,
     "metadata": {},
     "output_type": "execute_result"
    }
   ],
   "source": [
    "a = np.array([1,2,3])\n",
    "b = np.array([0.1,0.2,0.3])\n",
    "np.stack((a, b), axis=1).flatten()\n",
    "np.stack((a, b))"
   ]
  },
  {
   "cell_type": "code",
   "execution_count": null,
   "metadata": {
    "collapsed": true
   },
   "outputs": [],
   "source": []
  }
 ],
 "metadata": {
  "kernelspec": {
   "display_name": "Python 3",
   "language": "python",
   "name": "python3"
  },
  "language_info": {
   "codemirror_mode": {
    "name": "ipython",
    "version": 3
   },
   "file_extension": ".py",
   "mimetype": "text/x-python",
   "name": "python",
   "nbconvert_exporter": "python",
   "pygments_lexer": "ipython3",
   "version": "3.5.2"
  }
 },
 "nbformat": 4,
 "nbformat_minor": 0
}
