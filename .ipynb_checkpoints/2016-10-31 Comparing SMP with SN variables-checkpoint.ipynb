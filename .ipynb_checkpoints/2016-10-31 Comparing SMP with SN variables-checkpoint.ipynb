{
 "cells": [
  {
   "cell_type": "markdown",
   "metadata": {},
   "source": [
    "# SN Ia Hubble residuals Correleated with Local Stellar Populations\n",
    "\n",
    "*This is work that will be presented at AAS 229th meeting in TX on January 7th, 2017*\n",
    "\n",
    "-------\n",
    "\n",
    "TITLE: Correlations Between Hubble Residuals and Local Stellar Populations of Type Ia Supernovae\n",
    "\n",
    "Abstract: There appears to be correlations between SN Ia Hubble diagram residuals and host galaxy mass, metallicity, and star formation history. An uncorrected bias may produce a systematic offset in cosmological measurements. Rigault et al. (2013) found that the local environment can correlate with Hubble residuals and possibly impact precision Hubble Constant measurements. Global properties are the luminosity average of local environments, therefore the properties of local environments may hold stronger correlations than their global counterparts. We analyze host galaxies from the SDSS-II survey using both ground-based and Hubble Space Telescope imaging. We generate local stellar environmental properties by selecting a best fit Flexible Stellar Population Synthesis model that matches the SDSS Scene Modeling data. The derived properties, such as metallicity, stellar age, and star formation history, are then compared to the SN Ia's Hubble residual in the search for correlations.\n",
    "\n",
    "-------\n",
    "\n",
    "Holtzman et al. (2008, arXiv:0908.4277) performed a Scene Modeling Photometry of SDSS SN Ia host galaxies. **Are these results apparent or absolute frame?** Local stellar populations can be modeled via FSPS (Conroy 2009, Conroy 2010, 10.5281/zenodo.12157). Sellecting the correct model varrient, can be done via minimizing a chi-square via emcee (arXiv:1202.3665). From each SMP's `ugriz` we can get a SFH\n",
    "\n",
    "Values from SALT2 and MLCS2k2, CMB redshift, etc. are available from Sako (2014, arXiv:1401.3317) table 1. But we may want to use Campbell 2013's values. I am not sure if we have HR's or if we need to calculate them. \n",
    "\n",
    "We can easily check color and vlues of Pegase for any relationships with the aformationed SN values. \n"
   ]
  },
  {
   "cell_type": "code",
   "execution_count": 1,
   "metadata": {
    "collapsed": true
   },
   "outputs": [],
   "source": [
    "import re\n",
    "import warnings\n",
    "from glob import glob\n",
    "from copy import deepcopy\n",
    "\n",
    "import numpy as np\n",
    "import pandas as pd\n",
    "from astropy.io import fits\n",
    "\n",
    "import matplotlib.pyplot as plt\n",
    "import seaborn as sns\n",
    "%matplotlib inline"
   ]
  },
  {
   "cell_type": "markdown",
   "metadata": {},
   "source": [
    "------\n",
    "\n",
    "# Cut SMP data\n",
    "\n",
    "I need to provide cuts to this data. We do not need over 10,000 objects! Not all of these are Ia's! Holtzman (2008) abstract only says there are 146 SN Ia.\n",
    "\n",
    "Lets look at the SMP for the ~1000 SN Ia from Campbell (2013), `data/SDSS_Photometric_SNe_Ia.fits`. If this does not work then we can use the SDSS-II SN list (from website), `data/snlist.dat.txt`."
   ]
  },
  {
   "cell_type": "code",
   "execution_count": 2,
   "metadata": {
    "collapsed": false
   },
   "outputs": [
    {
     "data": {
      "text/html": [
       "<div>\n",
       "<table border=\"1\" class=\"dataframe\">\n",
       "  <thead>\n",
       "    <tr style=\"text-align: right;\">\n",
       "      <th></th>\n",
       "      <th>CID</th>\n",
       "      <th>Z</th>\n",
       "      <th>Z_ERR</th>\n",
       "      <th>SN_RA</th>\n",
       "      <th>SN_DEC</th>\n",
       "      <th>GAL_RA</th>\n",
       "      <th>GAL_DEC</th>\n",
       "      <th>HOST_OBJID</th>\n",
       "      <th>X0</th>\n",
       "      <th>X0_ERR</th>\n",
       "      <th>...</th>\n",
       "      <th>COLOR_ERR</th>\n",
       "      <th>C01</th>\n",
       "      <th>C00</th>\n",
       "      <th>C11</th>\n",
       "      <th>C22</th>\n",
       "      <th>C02</th>\n",
       "      <th>C12</th>\n",
       "      <th>MU</th>\n",
       "      <th>MU_MB</th>\n",
       "      <th>MU_ERR</th>\n",
       "    </tr>\n",
       "  </thead>\n",
       "  <tbody>\n",
       "    <tr>\n",
       "      <th>0</th>\n",
       "      <td>10028</td>\n",
       "      <td>0.065392</td>\n",
       "      <td>0.000009</td>\n",
       "      <td>17.741899</td>\n",
       "      <td>0.276253</td>\n",
       "      <td>17.741844</td>\n",
       "      <td>0.276160</td>\n",
       "      <td>1237666339726360676</td>\n",
       "      <td>0.000829</td>\n",
       "      <td>0.000027</td>\n",
       "      <td>...</td>\n",
       "      <td>0.034279</td>\n",
       "      <td>-1.409850e-06</td>\n",
       "      <td>7.092530e-10</td>\n",
       "      <td>0.070626</td>\n",
       "      <td>0.001175</td>\n",
       "      <td>-6.785010e-07</td>\n",
       "      <td>-0.000108</td>\n",
       "      <td>37.020199</td>\n",
       "      <td>37.022522</td>\n",
       "      <td>0.090201</td>\n",
       "    </tr>\n",
       "    <tr>\n",
       "      <th>1</th>\n",
       "      <td>10037</td>\n",
       "      <td>0.253816</td>\n",
       "      <td>0.000049</td>\n",
       "      <td>-40.495998</td>\n",
       "      <td>1.115320</td>\n",
       "      <td>-40.495548</td>\n",
       "      <td>1.115320</td>\n",
       "      <td>1237678617936986968</td>\n",
       "      <td>0.000036</td>\n",
       "      <td>0.000004</td>\n",
       "      <td>...</td>\n",
       "      <td>0.088287</td>\n",
       "      <td>-2.206440e-06</td>\n",
       "      <td>1.363550e-11</td>\n",
       "      <td>0.608583</td>\n",
       "      <td>0.007795</td>\n",
       "      <td>-2.058690e-07</td>\n",
       "      <td>0.030929</td>\n",
       "      <td>40.307499</td>\n",
       "      <td>40.327759</td>\n",
       "      <td>0.200429</td>\n",
       "    </tr>\n",
       "    <tr>\n",
       "      <th>2</th>\n",
       "      <td>1032</td>\n",
       "      <td>0.129755</td>\n",
       "      <td>0.000034</td>\n",
       "      <td>46.795898</td>\n",
       "      <td>1.119990</td>\n",
       "      <td>46.795700</td>\n",
       "      <td>1.119545</td>\n",
       "      <td>1237666302164664434</td>\n",
       "      <td>0.000105</td>\n",
       "      <td>0.000005</td>\n",
       "      <td>...</td>\n",
       "      <td>0.042552</td>\n",
       "      <td>-3.464070e-07</td>\n",
       "      <td>2.098090e-11</td>\n",
       "      <td>0.055844</td>\n",
       "      <td>0.001811</td>\n",
       "      <td>-1.430060e-07</td>\n",
       "      <td>0.000414</td>\n",
       "      <td>38.660999</td>\n",
       "      <td>38.667023</td>\n",
       "      <td>0.124407</td>\n",
       "    </tr>\n",
       "    <tr>\n",
       "      <th>3</th>\n",
       "      <td>10324</td>\n",
       "      <td>0.251725</td>\n",
       "      <td>0.000031</td>\n",
       "      <td>-23.382000</td>\n",
       "      <td>0.586846</td>\n",
       "      <td>-23.382383</td>\n",
       "      <td>0.586790</td>\n",
       "      <td>1237663479797121475</td>\n",
       "      <td>0.000054</td>\n",
       "      <td>0.000004</td>\n",
       "      <td>...</td>\n",
       "      <td>0.067772</td>\n",
       "      <td>-2.504800e-06</td>\n",
       "      <td>1.809970e-11</td>\n",
       "      <td>0.550488</td>\n",
       "      <td>0.004593</td>\n",
       "      <td>-1.890490e-07</td>\n",
       "      <td>0.025747</td>\n",
       "      <td>40.097198</td>\n",
       "      <td>40.117172</td>\n",
       "      <td>0.151389</td>\n",
       "    </tr>\n",
       "    <tr>\n",
       "      <th>4</th>\n",
       "      <td>10434</td>\n",
       "      <td>0.104161</td>\n",
       "      <td>0.000020</td>\n",
       "      <td>-30.042999</td>\n",
       "      <td>-1.192410</td>\n",
       "      <td>-30.044067</td>\n",
       "      <td>-1.193710</td>\n",
       "      <td>1237656567045947805</td>\n",
       "      <td>0.000392</td>\n",
       "      <td>0.000015</td>\n",
       "      <td>...</td>\n",
       "      <td>0.032082</td>\n",
       "      <td>-2.820190e-06</td>\n",
       "      <td>2.104410e-10</td>\n",
       "      <td>0.109573</td>\n",
       "      <td>0.001029</td>\n",
       "      <td>-3.781390e-07</td>\n",
       "      <td>0.004053</td>\n",
       "      <td>38.437698</td>\n",
       "      <td>38.442059</td>\n",
       "      <td>0.069367</td>\n",
       "    </tr>\n",
       "  </tbody>\n",
       "</table>\n",
       "<p>5 rows × 23 columns</p>\n",
       "</div>"
      ],
      "text/plain": [
       "     CID         Z     Z_ERR      SN_RA    SN_DEC     GAL_RA   GAL_DEC  \\\n",
       "0  10028  0.065392  0.000009  17.741899  0.276253  17.741844  0.276160   \n",
       "1  10037  0.253816  0.000049 -40.495998  1.115320 -40.495548  1.115320   \n",
       "2   1032  0.129755  0.000034  46.795898  1.119990  46.795700  1.119545   \n",
       "3  10324  0.251725  0.000031 -23.382000  0.586846 -23.382383  0.586790   \n",
       "4  10434  0.104161  0.000020 -30.042999 -1.192410 -30.044067 -1.193710   \n",
       "\n",
       "            HOST_OBJID        X0    X0_ERR    ...     COLOR_ERR           C01  \\\n",
       "0  1237666339726360676  0.000829  0.000027    ...      0.034279 -1.409850e-06   \n",
       "1  1237678617936986968  0.000036  0.000004    ...      0.088287 -2.206440e-06   \n",
       "2  1237666302164664434  0.000105  0.000005    ...      0.042552 -3.464070e-07   \n",
       "3  1237663479797121475  0.000054  0.000004    ...      0.067772 -2.504800e-06   \n",
       "4  1237656567045947805  0.000392  0.000015    ...      0.032082 -2.820190e-06   \n",
       "\n",
       "            C00       C11       C22           C02       C12         MU  \\\n",
       "0  7.092530e-10  0.070626  0.001175 -6.785010e-07 -0.000108  37.020199   \n",
       "1  1.363550e-11  0.608583  0.007795 -2.058690e-07  0.030929  40.307499   \n",
       "2  2.098090e-11  0.055844  0.001811 -1.430060e-07  0.000414  38.660999   \n",
       "3  1.809970e-11  0.550488  0.004593 -1.890490e-07  0.025747  40.097198   \n",
       "4  2.104410e-10  0.109573  0.001029 -3.781390e-07  0.004053  38.437698   \n",
       "\n",
       "       MU_MB    MU_ERR  \n",
       "0  37.022522  0.090201  \n",
       "1  40.327759  0.200429  \n",
       "2  38.667023  0.124407  \n",
       "3  40.117172  0.151389  \n",
       "4  38.442059  0.069367  \n",
       "\n",
       "[5 rows x 23 columns]"
      ]
     },
     "execution_count": 2,
     "metadata": {},
     "output_type": "execute_result"
    }
   ],
   "source": [
    "#note that data is in second header, `cause Yeah fits!\n",
    "fCampbell = fits.open('data/SDSS_Photometric_SNe_Ia.fits')\n",
    "\n",
    "#fix `ValueError: Big-endian buffer not supported on little-endian compiler`\n",
    "fCampbell[1].data = fCampbell[1].data.byteswap(True).newbyteorder() \n",
    "data = deepcopy(fCampbell[1].data)  \n",
    "\n",
    "#make data into a `DataFrame`\n",
    "SNIaCam = pd.DataFrame(data)\n",
    "#might not want to `set_index` since this is a column we want.\n",
    "# SNIaCam.set_index('CID', inplace=True)\n",
    "SNIaCam.head()"
   ]
  },
  {
   "cell_type": "markdown",
   "metadata": {},
   "source": [
    "We have a list of all SN Ia, lets add to them their SMP magnitudes data. **Or** we might need these values in `microJy per square arcsec`."
   ]
  },
  {
   "cell_type": "code",
   "execution_count": 3,
   "metadata": {
    "collapsed": false
   },
   "outputs": [],
   "source": [
    "def readMagnitudes(dataFile):\n",
    "    \"\"\"\n",
    "    This reads and returns the mangitudes from an SDSS SMP data file\n",
    "    \n",
    "    # Parameters\n",
    "    dataFile : str\n",
    "        The name of the SMP data file. Include any needed file paths.\n",
    "        \n",
    "    # Returns\n",
    "    magnitudes : np.array\n",
    "        A structured array made some stupid repeating BS. So it got tossed. \n",
    "        The aruments come out in [u, u uncert, g, g uncert, r, r uncert, \n",
    "        i, i uncert, z, z uncert] order.\n",
    "    \"\"\"\n",
    "    with open(dataFile, 'r') as f:\n",
    "        f.readline()\n",
    "        secondLine = f.readline()\n",
    "        thirdLine = f.readline()\n",
    "    \n",
    "    asinhmag = False\n",
    "    if asinhmag:\n",
    "        dataLine = secondLine\n",
    "    else:\n",
    "        dataLIne = thirdLine\n",
    "        \n",
    "    #clean up data line and extract desired info\n",
    "    split = np.array( re.split(r'\\s+', dataLIne) )     #split on whitespace\n",
    "    #the index of the g (r) values are 3 (4) spaces over from the first '='\n",
    "    index = np.arange(5)+ 5       #(np.where(split == '=')[0]+3)\n",
    "    SB = split[index].astype(float)\n",
    "    \n",
    "    if any(SB < 0):\n",
    "        #send warning if we got a negative flux! But still out put the data as is.\n",
    "        warnings.warn(r'{} has a negative flux: u,g,r,i,z = {} μJy/sqr-arcsec'.format(dataFile, SB))\n",
    "        #todo(fix warning so that it outputs the correct units depending on any `asinhmag`)\n",
    "#         magnitudes = np.nan*np.ones(10)\n",
    "\n",
    "    uncertIndex = index + 8\n",
    "    uncert = split[uncertIndex].astype(float)\n",
    "\n",
    "    if not asinhmag:\n",
    "        SB = -2.5*np.log10(SB*1e-6/3631)\n",
    "        # or could be 1.0857*uncertG/gSB\n",
    "        uncert = uncert*np.abs(2.5/(SB*np.log(10)))\n",
    "\n",
    "    #combine as [value, uncert, ...], and save as a structured array\n",
    "    magnitudes = np.array(np.stack((SB, uncert), axis=1).flatten(),) \n",
    "    \n",
    "    return magnitudes"
   ]
  },
  {
   "cell_type": "markdown",
   "metadata": {},
   "source": [
    "We need to expand the `DataFrame` and then save the data into it."
   ]
  },
  {
   "cell_type": "code",
   "execution_count": 4,
   "metadata": {
    "collapsed": false
   },
   "outputs": [
    {
     "data": {
      "text/html": [
       "<div>\n",
       "<table border=\"1\" class=\"dataframe\">\n",
       "  <thead>\n",
       "    <tr style=\"text-align: right;\">\n",
       "      <th></th>\n",
       "      <th>CID</th>\n",
       "      <th>Z</th>\n",
       "      <th>Z_ERR</th>\n",
       "      <th>SN_RA</th>\n",
       "      <th>SN_DEC</th>\n",
       "      <th>GAL_RA</th>\n",
       "      <th>GAL_DEC</th>\n",
       "      <th>HOST_OBJID</th>\n",
       "      <th>X0</th>\n",
       "      <th>X0_ERR</th>\n",
       "      <th>...</th>\n",
       "      <th>u</th>\n",
       "      <th>u uncert</th>\n",
       "      <th>g</th>\n",
       "      <th>g uncert</th>\n",
       "      <th>r</th>\n",
       "      <th>r uncert</th>\n",
       "      <th>i</th>\n",
       "      <th>i uncert</th>\n",
       "      <th>z</th>\n",
       "      <th>z uncert</th>\n",
       "    </tr>\n",
       "  </thead>\n",
       "  <tbody>\n",
       "    <tr>\n",
       "      <th>0</th>\n",
       "      <td>10028</td>\n",
       "      <td>0.065392</td>\n",
       "      <td>0.000009</td>\n",
       "      <td>17.741899</td>\n",
       "      <td>0.276253</td>\n",
       "      <td>17.741844</td>\n",
       "      <td>0.276160</td>\n",
       "      <td>1237666339726360676</td>\n",
       "      <td>0.000829</td>\n",
       "      <td>0.000027</td>\n",
       "      <td>...</td>\n",
       "      <td>NaN</td>\n",
       "      <td>NaN</td>\n",
       "      <td>NaN</td>\n",
       "      <td>NaN</td>\n",
       "      <td>NaN</td>\n",
       "      <td>NaN</td>\n",
       "      <td>NaN</td>\n",
       "      <td>NaN</td>\n",
       "      <td>NaN</td>\n",
       "      <td>NaN</td>\n",
       "    </tr>\n",
       "    <tr>\n",
       "      <th>1</th>\n",
       "      <td>10037</td>\n",
       "      <td>0.253816</td>\n",
       "      <td>0.000049</td>\n",
       "      <td>-40.495998</td>\n",
       "      <td>1.115320</td>\n",
       "      <td>-40.495548</td>\n",
       "      <td>1.115320</td>\n",
       "      <td>1237678617936986968</td>\n",
       "      <td>0.000036</td>\n",
       "      <td>0.000004</td>\n",
       "      <td>...</td>\n",
       "      <td>NaN</td>\n",
       "      <td>NaN</td>\n",
       "      <td>NaN</td>\n",
       "      <td>NaN</td>\n",
       "      <td>NaN</td>\n",
       "      <td>NaN</td>\n",
       "      <td>NaN</td>\n",
       "      <td>NaN</td>\n",
       "      <td>NaN</td>\n",
       "      <td>NaN</td>\n",
       "    </tr>\n",
       "    <tr>\n",
       "      <th>2</th>\n",
       "      <td>1032</td>\n",
       "      <td>0.129755</td>\n",
       "      <td>0.000034</td>\n",
       "      <td>46.795898</td>\n",
       "      <td>1.119990</td>\n",
       "      <td>46.795700</td>\n",
       "      <td>1.119545</td>\n",
       "      <td>1237666302164664434</td>\n",
       "      <td>0.000105</td>\n",
       "      <td>0.000005</td>\n",
       "      <td>...</td>\n",
       "      <td>NaN</td>\n",
       "      <td>NaN</td>\n",
       "      <td>NaN</td>\n",
       "      <td>NaN</td>\n",
       "      <td>NaN</td>\n",
       "      <td>NaN</td>\n",
       "      <td>NaN</td>\n",
       "      <td>NaN</td>\n",
       "      <td>NaN</td>\n",
       "      <td>NaN</td>\n",
       "    </tr>\n",
       "    <tr>\n",
       "      <th>3</th>\n",
       "      <td>10324</td>\n",
       "      <td>0.251725</td>\n",
       "      <td>0.000031</td>\n",
       "      <td>-23.382000</td>\n",
       "      <td>0.586846</td>\n",
       "      <td>-23.382383</td>\n",
       "      <td>0.586790</td>\n",
       "      <td>1237663479797121475</td>\n",
       "      <td>0.000054</td>\n",
       "      <td>0.000004</td>\n",
       "      <td>...</td>\n",
       "      <td>NaN</td>\n",
       "      <td>NaN</td>\n",
       "      <td>NaN</td>\n",
       "      <td>NaN</td>\n",
       "      <td>NaN</td>\n",
       "      <td>NaN</td>\n",
       "      <td>NaN</td>\n",
       "      <td>NaN</td>\n",
       "      <td>NaN</td>\n",
       "      <td>NaN</td>\n",
       "    </tr>\n",
       "    <tr>\n",
       "      <th>4</th>\n",
       "      <td>10434</td>\n",
       "      <td>0.104161</td>\n",
       "      <td>0.000020</td>\n",
       "      <td>-30.042999</td>\n",
       "      <td>-1.192410</td>\n",
       "      <td>-30.044067</td>\n",
       "      <td>-1.193710</td>\n",
       "      <td>1237656567045947805</td>\n",
       "      <td>0.000392</td>\n",
       "      <td>0.000015</td>\n",
       "      <td>...</td>\n",
       "      <td>NaN</td>\n",
       "      <td>NaN</td>\n",
       "      <td>NaN</td>\n",
       "      <td>NaN</td>\n",
       "      <td>NaN</td>\n",
       "      <td>NaN</td>\n",
       "      <td>NaN</td>\n",
       "      <td>NaN</td>\n",
       "      <td>NaN</td>\n",
       "      <td>NaN</td>\n",
       "    </tr>\n",
       "  </tbody>\n",
       "</table>\n",
       "<p>5 rows × 33 columns</p>\n",
       "</div>"
      ],
      "text/plain": [
       "     CID         Z     Z_ERR      SN_RA    SN_DEC     GAL_RA   GAL_DEC  \\\n",
       "0  10028  0.065392  0.000009  17.741899  0.276253  17.741844  0.276160   \n",
       "1  10037  0.253816  0.000049 -40.495998  1.115320 -40.495548  1.115320   \n",
       "2   1032  0.129755  0.000034  46.795898  1.119990  46.795700  1.119545   \n",
       "3  10324  0.251725  0.000031 -23.382000  0.586846 -23.382383  0.586790   \n",
       "4  10434  0.104161  0.000020 -30.042999 -1.192410 -30.044067 -1.193710   \n",
       "\n",
       "            HOST_OBJID        X0    X0_ERR    ...      u  u uncert   g  \\\n",
       "0  1237666339726360676  0.000829  0.000027    ...    NaN       NaN NaN   \n",
       "1  1237678617936986968  0.000036  0.000004    ...    NaN       NaN NaN   \n",
       "2  1237666302164664434  0.000105  0.000005    ...    NaN       NaN NaN   \n",
       "3  1237663479797121475  0.000054  0.000004    ...    NaN       NaN NaN   \n",
       "4  1237656567045947805  0.000392  0.000015    ...    NaN       NaN NaN   \n",
       "\n",
       "   g uncert   r  r uncert   i  i uncert   z  z uncert  \n",
       "0       NaN NaN       NaN NaN       NaN NaN       NaN  \n",
       "1       NaN NaN       NaN NaN       NaN NaN       NaN  \n",
       "2       NaN NaN       NaN NaN       NaN NaN       NaN  \n",
       "3       NaN NaN       NaN NaN       NaN NaN       NaN  \n",
       "4       NaN NaN       NaN NaN       NaN NaN       NaN  \n",
       "\n",
       "[5 rows x 33 columns]"
      ]
     },
     "execution_count": 4,
     "metadata": {},
     "output_type": "execute_result"
    }
   ],
   "source": [
    "# add columns for [u, u uncert, g, g uncert, r, r uncert, i, i uncert, z, z uncert] \n",
    "SNIaCam['u'] = np.nan\n",
    "SNIaCam['u uncert'] = np.nan\n",
    "SNIaCam['g'] = np.nan\n",
    "SNIaCam['g uncert'] = np.nan\n",
    "SNIaCam['r'] = np.nan\n",
    "SNIaCam['r uncert'] = np.nan\n",
    "SNIaCam['i'] = np.nan\n",
    "SNIaCam['i uncert'] = np.nan\n",
    "SNIaCam['z'] = np.nan\n",
    "SNIaCam['z uncert'] = np.nan\n",
    "\n",
    "SNIaCam.head()"
   ]
  },
  {
   "cell_type": "code",
   "execution_count": 15,
   "metadata": {
    "collapsed": false
   },
   "outputs": [
    {
     "data": {
      "text/html": [
       "<div>\n",
       "<table border=\"1\" class=\"dataframe\">\n",
       "  <thead>\n",
       "    <tr style=\"text-align: right;\">\n",
       "      <th></th>\n",
       "      <th>u</th>\n",
       "      <th>g</th>\n",
       "      <th>r</th>\n",
       "      <th>i</th>\n",
       "      <th>z</th>\n",
       "    </tr>\n",
       "  </thead>\n",
       "  <tbody>\n",
       "    <tr>\n",
       "      <th>0</th>\n",
       "      <td>21.223124</td>\n",
       "      <td>19.453783</td>\n",
       "      <td>18.640556</td>\n",
       "      <td>18.274016</td>\n",
       "      <td>17.984475</td>\n",
       "    </tr>\n",
       "    <tr>\n",
       "      <th>1</th>\n",
       "      <td>25.210888</td>\n",
       "      <td>22.281608</td>\n",
       "      <td>20.957668</td>\n",
       "      <td>20.318043</td>\n",
       "      <td>19.900631</td>\n",
       "    </tr>\n",
       "    <tr>\n",
       "      <th>2</th>\n",
       "      <td>24.920457</td>\n",
       "      <td>24.743643</td>\n",
       "      <td>23.730529</td>\n",
       "      <td>23.320755</td>\n",
       "      <td>22.865978</td>\n",
       "    </tr>\n",
       "    <tr>\n",
       "      <th>3</th>\n",
       "      <td>24.617600</td>\n",
       "      <td>23.986003</td>\n",
       "      <td>23.127588</td>\n",
       "      <td>22.811649</td>\n",
       "      <td>22.450892</td>\n",
       "    </tr>\n",
       "    <tr>\n",
       "      <th>4</th>\n",
       "      <td>26.603156</td>\n",
       "      <td>24.483290</td>\n",
       "      <td>23.559057</td>\n",
       "      <td>23.189553</td>\n",
       "      <td>22.810853</td>\n",
       "    </tr>\n",
       "  </tbody>\n",
       "</table>\n",
       "</div>"
      ],
      "text/plain": [
       "           u          g          r          i          z\n",
       "0  21.223124  19.453783  18.640556  18.274016  17.984475\n",
       "1  25.210888  22.281608  20.957668  20.318043  19.900631\n",
       "2  24.920457  24.743643  23.730529  23.320755  22.865978\n",
       "3  24.617600  23.986003  23.127588  22.811649  22.450892\n",
       "4  26.603156  24.483290  23.559057  23.189553  22.810853"
      ]
     },
     "execution_count": 15,
     "metadata": {},
     "output_type": "execute_result"
    }
   ],
   "source": [
    "dataFile = 'data/SDSS - photometry/SMP_{}.dat'    #need to add a s6, error padded integer\n",
    "\n",
    "# for i, CID in enumerate(SNIaCam['CID']):\n",
    "#     CID = str(int(CID)).zfill(6)\n",
    "#     magitudes = readMagnitudes(dataFile.format(CID))\n",
    "#     SNIaCam.loc[i, ['u', 'u uncert', 'g', 'g uncert', 'r', 'r uncert', 'i', 'i uncert', 'z', 'z uncert']] = magitudes\n",
    "    \n",
    "SNIaCam[['u','g','r','i','z']].head()"
   ]
  },
  {
   "cell_type": "markdown",
   "metadata": {},
   "source": [
    "Lets see a color-color plot!"
   ]
  },
  {
   "cell_type": "code",
   "execution_count": 56,
   "metadata": {
    "collapsed": false
   },
   "outputs": [
    {
     "ename": "ValueError",
     "evalue": "invalid number of arguments",
     "output_type": "error",
     "traceback": [
      "\u001b[0;31m---------------------------------------------------------------------------\u001b[0m",
      "\u001b[0;31mValueError\u001b[0m                                Traceback (most recent call last)",
      "\u001b[0;32m<ipython-input-56-1500f5dd24bf>\u001b[0m in \u001b[0;36m<module>\u001b[0;34m()\u001b[0m\n\u001b[1;32m      2\u001b[0m \u001b[0;34m\u001b[0m\u001b[0m\n\u001b[1;32m      3\u001b[0m data = SNIaCam[np.bitwise_and(\n\u001b[0;32m----> 4\u001b[0;31m         \u001b[0;34m(\u001b[0m\u001b[0mSNIaCam\u001b[0m\u001b[0;34m[\u001b[0m\u001b[0;34m'g uncert'\u001b[0m\u001b[0;34m]\u001b[0m \u001b[0;34m<\u001b[0m \u001b[0;36m0.01\u001b[0m\u001b[0;34m)\u001b[0m\u001b[0;34m.\u001b[0m\u001b[0mtolist\u001b[0m\u001b[0;31m#, SNIaCam['r uncert'] < 0.01, SNIaCam['i uncert'] < 0.01\u001b[0m\u001b[0;34m\u001b[0m\u001b[0m\n\u001b[0m\u001b[1;32m      5\u001b[0m         )]\n\u001b[1;32m      6\u001b[0m \u001b[0mplt\u001b[0m\u001b[0;34m.\u001b[0m\u001b[0mplot\u001b[0m\u001b[0;34m(\u001b[0m\u001b[0mdata\u001b[0m\u001b[0;34m[\u001b[0m\u001b[0;34m'g'\u001b[0m\u001b[0;34m]\u001b[0m\u001b[0;34m-\u001b[0m\u001b[0mdata\u001b[0m\u001b[0;34m[\u001b[0m\u001b[0;34m'r'\u001b[0m\u001b[0;34m]\u001b[0m\u001b[0;34m,\u001b[0m \u001b[0mdata\u001b[0m\u001b[0;34m[\u001b[0m\u001b[0;34m'r'\u001b[0m\u001b[0;34m]\u001b[0m\u001b[0;34m-\u001b[0m\u001b[0mdata\u001b[0m\u001b[0;34m[\u001b[0m\u001b[0;34m'i'\u001b[0m\u001b[0;34m]\u001b[0m\u001b[0;34m,\u001b[0m \u001b[0;34m'k.'\u001b[0m\u001b[0;34m)\u001b[0m\u001b[0;34m\u001b[0m\u001b[0m\n",
      "\u001b[0;31mValueError\u001b[0m: invalid number of arguments"
     ]
    },
    {
     "data": {
      "text/plain": [
       "<matplotlib.figure.Figure at 0x10fe050b8>"
      ]
     },
     "metadata": {},
     "output_type": "display_data"
    }
   ],
   "source": [
    "plt.figure('g-r vs r-i')\n",
    "\n",
    "data = SNIaCam[np.bitwise_and(\n",
    "        SNIaCam['g uncert'] < 0.01, SNIaCam['r uncert'] < 0.01, SNIaCam['i uncert'] < 0.01\n",
    "        )]\n",
    "plt.plot(data['g']-data['r'], data['r']-data['i'], 'k.')\n",
    "# plt.plot(SNIaCam['g']-SNIaCam['r'], SNIaCam['r']-SNIaCam['i'], 'k.')"
   ]
  },
  {
   "cell_type": "markdown",
   "metadata": {},
   "source": [
    "This is mostly good. There are the few very bad colors that need to be corrected. Likey the errors of those outliers are bad."
   ]
  },
  {
   "cell_type": "markdown",
   "metadata": {},
   "source": [
    "------\n",
    "\n",
    "# FSPS\n",
    "\n",
    "Charlie Conroy's Flexible Stellar Population Synthesis (FSPS), and dfm's python wrapper python fsps, build simple stellar popuations (SSPs) and composite stellar populations (CSPs).\n",
    "\n",
    "FSPS takes varring **IMFs** and **Metallicity** and produce simple stellar populations (SSPs) [note adjustments can be made via morphology of the horizontal branch, the blue straggler population, the post-AGB phase, and the location in the HR diagram of the TP-AGP phase.]. From these SSPs, we can get composite stellar populations (CSPs) for a variety of **star formation histories (SFHs)** and **dust attenuation**. This outputs **Spectra** and **magnitudes**.\n",
    "\n",
    "So if I have a 5 parameter model (**IMFs**, **Metallicity**, **SFHs**, **dust attenuation**, and **redshift**) with a Gaussian prior of known redshift from spectra, we can get an output of the 5 `urigz` magnitudes. We can take our local environment SMP magnitudes and find the best fit model & uncertainty. This can be by doing some 1000 trials/fits or something (MCMC?). Our MCMC code could randomly walk the 5D space of the Chi-square of the model & data. Then for each SN we have our 5 (really 4 because we already new **z**) model parameters and some sort of certainty quantity.\n",
    "\n",
    "[aside:] Gupta 2011 used 4 parameters metallicity log[Z/Z_solar], dust attenuating old stellar light, the e-folding timescale of star formation, the time when star formation begins. Table 1 explains range of parameters.\n",
    "\n",
    "I need **age** somewhere. I want to compare HR to local stellar population age, metallicity and possibly SFH.\n",
    "\n",
    "## Parameters - changing\n",
    "\n",
    "* *redshift*\n",
    "    * fixed per SN by data\n",
    "* **number of stars**\n",
    "    * from the scalling factor in the minimization process\n",
    "* **stellar age**\n",
    "    * from `.get_mags()` with using default `tage` parameter. Resulting ages can be found\n",
    "    with method `.log_age`.\n",
    "* SFH\n",
    "    * uses six parameters: `tau`, `const`, `sf_start`, `sf_trunc`, `tburst`, and `fburst`\n",
    "    * **`tau`** ($\\tau_{\\text{SF}}$)\n",
    "        * Gupta used `[0.1, 0.5, 1, 2, 3, 4, 6, 8, 10]`\n",
    "        * possible range is $0.1 < \\tau < 10^2$\n",
    "    * `const`\n",
    "        * default is `0` and should change\n",
    "    * **`sf_start`** $t_{\\text{start}}$\n",
    "    * `sf_trunc`\n",
    "        * default is that it does not truncate\n",
    "    * **`tburst`**\n",
    "        * defines age of the Universe when the burst occurs.\n",
    "        * defaults to 11.0\n",
    "    * **`fburst`**\n",
    "        * defines the fraction of mass formed in an instantaneous burst of star formation\n",
    "        * defaults to 0.0\n",
    "* **metallicity**\n",
    "    * `zcontinuous`\n",
    "        * 0 - no interpolation\n",
    "        * 1 - interperalted with `logzsol`\n",
    "        * 2 - (distribution fuction) convolved with both `logzsol` & `pmetals`\n",
    "\n",
    "## Parameters - check defualts\n",
    "* IMF\n",
    "* Dust atinuation\n",
    "* Dust emmition\n",
    "* metallicity handeling\n"
   ]
  },
  {
   "cell_type": "code",
   "execution_count": 57,
   "metadata": {
    "collapsed": false
   },
   "outputs": [],
   "source": [
    "import fsps"
   ]
  },
  {
   "cell_type": "code",
   "execution_count": 128,
   "metadata": {
    "collapsed": false
   },
   "outputs": [],
   "source": [
    "#Fast to set up model\n",
    "\n",
    "# sdss_bands = fsps.find_filter('sdss')  #not in color order\n",
    "sdss_bands = ['sdss_u', 'sdss_g', 'sdss_r', 'sdss_i', 'sdss_z'] \n",
    "\n",
    "# use default Kroupa IMF\n",
    "# use default settings for delayed tau-model SFH,\n",
    "#    should change these to build model space.\n",
    "# redshift & metalicity\n",
    "#    Needs to be implemented\n",
    "# Stellar Population\n",
    "#    Need to turn a lot of things on from cloudy\n",
    "# Dust\n",
    "#    Use Milky Way extinction law\n",
    "sp = fsps.StellarPopulation(sfh=4, dust_type=1, zcontinuous=2)"
   ]
  },
  {
   "cell_type": "code",
   "execution_count": 103,
   "metadata": {
    "collapsed": false
   },
   "outputs": [
    {
     "data": {
      "text/plain": [
       "107"
      ]
     },
     "execution_count": 103,
     "metadata": {},
     "output_type": "execute_result"
    }
   ],
   "source": [
    "#slow\n",
    "# sp.get_mags(tage=13.7, redshift=0.1, bands=sdss_bands)\n",
    "sp.get_mags(redshift=0.1, bands=sdss_bands)\n",
    "len(sp.log_age)"
   ]
  },
  {
   "cell_type": "code",
   "execution_count": 126,
   "metadata": {
    "collapsed": false
   },
   "outputs": [
    {
     "data": {
      "text/plain": [
       "1.0"
      ]
     },
     "execution_count": 126,
     "metadata": {},
     "output_type": "execute_result"
    }
   ],
   "source": [
    "sp.get_spectrum(tage=13.7)\n",
    "sp.formed_mass"
   ]
  },
  {
   "cell_type": "code",
   "execution_count": 133,
   "metadata": {
    "collapsed": false
   },
   "outputs": [],
   "source": [
    "def defineModelSpace(z):\n",
    "    '''\n",
    "    This builds the model space for a given redshift. The models need to know the redshfit of \n",
    "    the object to correctly callcualte the apprent magnitude as it changes over distance and \n",
    "    K-corrections\n",
    "    \n",
    "    # Parameters\n",
    "    z : float\n",
    "        The observed redshift of the objects\n",
    "        \n",
    "    # Returns\n",
    "    modelSpace : ?\n",
    "        The *ugriz* output of each model. Stored in a multi-demenial array. The \n",
    "        dimensions are for the changes in parameters `['logzsol', 'tau', 'sf_star', 'tburst',\n",
    "        'fburst']` followed by time and finally the *ugriz* values. \n",
    "    '''\n",
    "    #indexes are . . . , age (currently 107), fitlers\n",
    "    modelSpace = np.zeros((2,2,2,2,3,5))\n",
    "    \n",
    "    #iterate over metalicity\n",
    "    for i, z in enumerate([-0.2,0]):\n",
    "        #only gives 99 for a value of -1\n",
    "        sp.params['logzsol'] = z\n",
    "        \n",
    "        #iterate over `tau`\n",
    "        #e-folding time of of sfh in Gyr\n",
    "        for j, tau in enumerate([0.1,1]):\n",
    "            sp.params['tau'] = tau\n",
    "            \n",
    "            #iterate over `sf_start`\n",
    "            #burst start time in Gyr\n",
    "            for k, sf_start in enumerate([0,1]):\n",
    "                sp.params['sf_start'] = sf_start\n",
    "                \n",
    "                #iterate over `tburst`\n",
    "                #age of the universe at burst, default 11, must be less then `tage` to produce burst\n",
    "                for l, tburst in enumerate([10, 11]):\n",
    "                    sp.params['tburst'] = tburst\n",
    "                    #todo(currently we will create more time scales then needed. Many will have no bursts.)\n",
    "                    \n",
    "                    #iterate over `fburst`\n",
    "                    # fraction of mass formed in burst\n",
    "                    for m, fburst in enumerate([0,0.1,0.2]):\n",
    "                        sp.params['fburst'] = fburst\n",
    "    \n",
    "                        #remove `tage` for real data\n",
    "                        modelSpace[i,j,k,l,m] = sp.get_mags(tage=13.7, redshift=z, bands=sdss_bands)\n",
    "    \n",
    "    return modelSpace"
   ]
  },
  {
   "cell_type": "code",
   "execution_count": 134,
   "metadata": {
    "collapsed": false
   },
   "outputs": [
    {
     "data": {
      "text/plain": [
       "array([[[[[[        nan,         nan,         nan,         nan,         nan],\n",
       "           [        nan,         nan,         nan,         nan,         nan],\n",
       "           [        nan,         nan,         nan,         nan,         nan]],\n",
       "\n",
       "          [[        nan,         nan,         nan,         nan,         nan],\n",
       "           [        nan,         nan,         nan,         nan,         nan],\n",
       "           [        nan,         nan,         nan,         nan,         nan]]],\n",
       "\n",
       "\n",
       "         [[[        nan,         nan,         nan,         nan,         nan],\n",
       "           [        nan,         nan,         nan,         nan,         nan],\n",
       "           [        nan,         nan,         nan,         nan,         nan]],\n",
       "\n",
       "          [[        nan,         nan,         nan,         nan,         nan],\n",
       "           [        nan,         nan,         nan,         nan,         nan],\n",
       "           [        nan,         nan,         nan,         nan,         nan]]]],\n",
       "\n",
       "\n",
       "\n",
       "        [[[[        nan,         nan,         nan,         nan,         nan],\n",
       "           [        nan,         nan,         nan,         nan,         nan],\n",
       "           [        nan,         nan,         nan,         nan,         nan]],\n",
       "\n",
       "          [[        nan,         nan,         nan,         nan,         nan],\n",
       "           [        nan,         nan,         nan,         nan,         nan],\n",
       "           [        nan,         nan,         nan,         nan,         nan]]],\n",
       "\n",
       "\n",
       "         [[[        nan,         nan,         nan,         nan,         nan],\n",
       "           [        nan,         nan,         nan,         nan,         nan],\n",
       "           [        nan,         nan,         nan,         nan,         nan]],\n",
       "\n",
       "          [[        nan,         nan,         nan,         nan,         nan],\n",
       "           [        nan,         nan,         nan,         nan,         nan],\n",
       "           [        nan,         nan,         nan,         nan,         nan]]]]],\n",
       "\n",
       "\n",
       "\n",
       "\n",
       "       [[[[[ 9.5177007 ,  7.58473634,  6.76254482,  6.35628009,  5.9691495 ],\n",
       "           [ 9.18373579,  7.36511534,  6.58545845,  6.19518607,  5.82457586],\n",
       "           [ 8.92869356,  7.18253184,  6.43324571,  6.05493481,  5.69701062]],\n",
       "\n",
       "          [[ 9.5177007 ,  7.58473634,  6.76254482,  6.35628009,  5.9691495 ],\n",
       "           [ 9.03354186,  7.26973668,  6.51397757,  6.13151186,  5.76836154],\n",
       "           [ 8.69987874,  7.02587306,  6.3118498 ,  5.94538877,  5.5989742 ]]],\n",
       "\n",
       "\n",
       "         [[[ 9.41159333,  7.51729311,  6.7088182 ,  6.3090825 ,  5.9293295 ],\n",
       "           [ 9.11237716,  7.31512855,  6.54414437,  6.15838858,  5.79308467],\n",
       "           [ 8.87805744,  7.14476337,  6.40118875,  6.02608371,  5.67204619]],\n",
       "\n",
       "          [[ 9.41159333,  7.51729311,  6.7088182 ,  6.3090825 ,  5.9293295 ],\n",
       "           [ 8.97114263,  7.22386622,  6.47524947,  6.09677719,  5.73843763],\n",
       "           [ 8.65868453,  6.99310346,  6.28313959,  5.91927357,  5.57614267]]]],\n",
       "\n",
       "\n",
       "\n",
       "        [[[[ 9.28398853,  7.4279571 ,  6.6328898 ,  6.23811638,  5.86329924],\n",
       "           [ 9.0235968 ,  7.24770096,  6.48496614,  6.10240739,  5.74034114],\n",
       "           [ 8.81373169,  7.09315365,  6.35480072,  5.98179189,  5.62990211]],\n",
       "\n",
       "          [[ 9.28398853,  7.4279571 ,  6.6328898 ,  6.23811638,  5.86329924],\n",
       "           [ 8.89281057,  7.16172212,  6.41961811,  6.04381017,  5.68822414],\n",
       "           [ 8.60584563,  6.9480845 ,  6.24144013,  5.87905565,  5.53749889]]],\n",
       "\n",
       "\n",
       "         [[[ 9.14930011,  7.33247425,  6.5520155 ,  6.16318898,  5.79464138],\n",
       "           [ 8.92652926,  7.17416304,  6.42094953,  6.04247929,  5.68482704],\n",
       "           [ 8.74177634,  7.03602491,  6.30401479,  5.93385716,  5.58510651]],\n",
       "\n",
       "          [[ 9.14930011,  7.33247425,  6.5520155 ,  6.16318898,  5.79464138],\n",
       "           [ 8.80633225,  7.09361115,  6.35923885,  5.98694968,  5.63524943],\n",
       "           [ 8.54609075,  6.89793864,  6.19558452,  5.83536283,  5.49628951]]]]]])"
      ]
     },
     "execution_count": 134,
     "metadata": {},
     "output_type": "execute_result"
    }
   ],
   "source": [
    "a = defineModelSpace(0.1)\n",
    "a"
   ]
  },
  {
   "cell_type": "markdown",
   "metadata": {},
   "source": [
    "# FIX!\n",
    "\n",
    "#todo this is not working correclty. It seems like we can only use a metallicity of 0?"
   ]
  },
  {
   "cell_type": "code",
   "execution_count": 73,
   "metadata": {
    "collapsed": false
   },
   "outputs": [
    {
     "data": {
      "text/plain": [
       "array([[ 47.69957627,  45.86304375,  44.89997679,  44.52874572,\n",
       "         44.14936138],\n",
       "       [ 46.18817856,  44.79016148,  44.26085799,  44.06873434,\n",
       "         43.93656871]])"
      ]
     },
     "execution_count": 73,
     "metadata": {},
     "output_type": "execute_result"
    }
   ],
   "source": [
    "a = sp.get_mags(tage=13.7, redshift=0.1, bands=sdss_bands)\n",
    "sp.params['logzsol'] = -3\n",
    "#remove `tage` for real data\n",
    "b = sp.get_mags(tage=13.7, redshift=0.1, bands=sdss_bands)\n",
    "np.stack((a,b))"
   ]
  },
  {
   "cell_type": "code",
   "execution_count": 76,
   "metadata": {
    "collapsed": false
   },
   "outputs": [
    {
     "name": "stdout",
     "output_type": "stream",
     "text": [
      "[ 47.69957627  45.86304375  44.89997679  44.52874572  44.14936138]\n",
      "[ 47.69957627  45.86304375  44.89997679  44.52874572  44.14936138]\n"
     ]
    }
   ],
   "source": [
    "c = np.stack((a,b))\n",
    "print(c[0])\n",
    "print(a)"
   ]
  },
  {
   "cell_type": "code",
   "execution_count": null,
   "metadata": {
    "collapsed": true
   },
   "outputs": [],
   "source": [
    "def chisquare(c, u, g, r, i, z, data):\n",
    "    return (u+c-data['u'])**2/(data['u uncert'])**2"
   ]
  },
  {
   "cell_type": "markdown",
   "metadata": {},
   "source": [
    "# Scratch Area!"
   ]
  },
  {
   "cell_type": "markdown",
   "metadata": {},
   "source": [
    "## Pegase needs\n",
    "\n",
    "This is a strange program. I think if I make a synthetic, extreamly low resolution spectra, from the photometry, then I might be able to run `colors.f` on that hand makde `spectra.dat` file. The results of `colors.f` will give us colors (for sanity check) and even starformation history.\n",
    "\n",
    "--ok. Pegase might be what we want and we might be able to use it, but Brian (Hayden 2013) used the ralated ZPEG. He also used Gupta 2011's FSPS. This builds the theoretical phototmentric output of a stellar population/galaxy. "
   ]
  },
  {
   "cell_type": "code",
   "execution_count": 2,
   "metadata": {
    "collapsed": false
   },
   "outputs": [
    {
     "data": {
      "text/plain": [
       "10469"
      ]
     },
     "execution_count": 2,
     "metadata": {},
     "output_type": "execute_result"
    }
   ],
   "source": [
    "location = 'data/SDSS - photometry/'\n",
    "files = glob(location+'*')\n",
    "len(files)"
   ]
  },
  {
   "cell_type": "code",
   "execution_count": 47,
   "metadata": {
    "collapsed": false
   },
   "outputs": [
    {
     "ename": "ValueError",
     "evalue": "labels [10028] not contained in axis",
     "output_type": "error",
     "traceback": [
      "\u001b[0;31m---------------------------------------------------------------------------\u001b[0m",
      "\u001b[0;31mValueError\u001b[0m                                Traceback (most recent call last)",
      "\u001b[0;32m<ipython-input-47-4dcc3cea88b7>\u001b[0m in \u001b[0;36m<module>\u001b[0;34m()\u001b[0m\n\u001b[0;32m----> 1\u001b[0;31m \u001b[0mSNIaCam\u001b[0m\u001b[0;34m.\u001b[0m\u001b[0mdrop\u001b[0m\u001b[0;34m(\u001b[0m\u001b[0;36m10028\u001b[0m\u001b[0;34m)\u001b[0m\u001b[0;34m\u001b[0m\u001b[0m\n\u001b[0m\u001b[1;32m      2\u001b[0m \u001b[0mSNIaCam\u001b[0m\u001b[0;34m.\u001b[0m\u001b[0mtail\u001b[0m\u001b[0;34m(\u001b[0m\u001b[0;34m)\u001b[0m\u001b[0;34m\u001b[0m\u001b[0m\n",
      "\u001b[0;32m/usr/local/lib/python3.5/site-packages/pandas/core/generic.py\u001b[0m in \u001b[0;36mdrop\u001b[0;34m(self, labels, axis, level, inplace, errors)\u001b[0m\n\u001b[1;32m   1875\u001b[0m                 \u001b[0mnew_axis\u001b[0m \u001b[0;34m=\u001b[0m \u001b[0maxis\u001b[0m\u001b[0;34m.\u001b[0m\u001b[0mdrop\u001b[0m\u001b[0;34m(\u001b[0m\u001b[0mlabels\u001b[0m\u001b[0;34m,\u001b[0m \u001b[0mlevel\u001b[0m\u001b[0;34m=\u001b[0m\u001b[0mlevel\u001b[0m\u001b[0;34m,\u001b[0m \u001b[0merrors\u001b[0m\u001b[0;34m=\u001b[0m\u001b[0merrors\u001b[0m\u001b[0;34m)\u001b[0m\u001b[0;34m\u001b[0m\u001b[0m\n\u001b[1;32m   1876\u001b[0m             \u001b[0;32melse\u001b[0m\u001b[0;34m:\u001b[0m\u001b[0;34m\u001b[0m\u001b[0m\n\u001b[0;32m-> 1877\u001b[0;31m                 \u001b[0mnew_axis\u001b[0m \u001b[0;34m=\u001b[0m \u001b[0maxis\u001b[0m\u001b[0;34m.\u001b[0m\u001b[0mdrop\u001b[0m\u001b[0;34m(\u001b[0m\u001b[0mlabels\u001b[0m\u001b[0;34m,\u001b[0m \u001b[0merrors\u001b[0m\u001b[0;34m=\u001b[0m\u001b[0merrors\u001b[0m\u001b[0;34m)\u001b[0m\u001b[0;34m\u001b[0m\u001b[0m\n\u001b[0m\u001b[1;32m   1878\u001b[0m             \u001b[0mdropped\u001b[0m \u001b[0;34m=\u001b[0m \u001b[0mself\u001b[0m\u001b[0;34m.\u001b[0m\u001b[0mreindex\u001b[0m\u001b[0;34m(\u001b[0m\u001b[0;34m**\u001b[0m\u001b[0;34m{\u001b[0m\u001b[0maxis_name\u001b[0m\u001b[0;34m:\u001b[0m \u001b[0mnew_axis\u001b[0m\u001b[0;34m}\u001b[0m\u001b[0;34m)\u001b[0m\u001b[0;34m\u001b[0m\u001b[0m\n\u001b[1;32m   1879\u001b[0m             \u001b[0;32mtry\u001b[0m\u001b[0;34m:\u001b[0m\u001b[0;34m\u001b[0m\u001b[0m\n",
      "\u001b[0;32m/usr/local/lib/python3.5/site-packages/pandas/indexes/base.py\u001b[0m in \u001b[0;36mdrop\u001b[0;34m(self, labels, errors)\u001b[0m\n\u001b[1;32m   3049\u001b[0m             \u001b[0;32mif\u001b[0m \u001b[0merrors\u001b[0m \u001b[0;34m!=\u001b[0m \u001b[0;34m'ignore'\u001b[0m\u001b[0;34m:\u001b[0m\u001b[0;34m\u001b[0m\u001b[0m\n\u001b[1;32m   3050\u001b[0m                 raise ValueError('labels %s not contained in axis' %\n\u001b[0;32m-> 3051\u001b[0;31m                                  labels[mask])\n\u001b[0m\u001b[1;32m   3052\u001b[0m             \u001b[0mindexer\u001b[0m \u001b[0;34m=\u001b[0m \u001b[0mindexer\u001b[0m\u001b[0;34m[\u001b[0m\u001b[0;34m~\u001b[0m\u001b[0mmask\u001b[0m\u001b[0;34m]\u001b[0m\u001b[0;34m\u001b[0m\u001b[0m\n\u001b[1;32m   3053\u001b[0m         \u001b[0;32mreturn\u001b[0m \u001b[0mself\u001b[0m\u001b[0;34m.\u001b[0m\u001b[0mdelete\u001b[0m\u001b[0;34m(\u001b[0m\u001b[0mindexer\u001b[0m\u001b[0;34m)\u001b[0m\u001b[0;34m\u001b[0m\u001b[0m\n",
      "\u001b[0;31mValueError\u001b[0m: labels [10028] not contained in axis"
     ]
    }
   ],
   "source": [
    "SNIaCam.drop(10028)\n",
    "SNIaCam.tail()"
   ]
  },
  {
   "cell_type": "code",
   "execution_count": 76,
   "metadata": {
    "collapsed": false
   },
   "outputs": [
    {
     "name": "stdout",
     "output_type": "stream",
     "text": [
      "['data/SDSS - photometry/SMP_022253.dat'\n",
      " 'data/SDSS - photometry/SMP_022255.dat'\n",
      " 'data/SDSS - photometry/SMP_022256.dat'\n",
      " 'data/SDSS - photometry/SMP_022257.dat'\n",
      " 'data/SDSS - photometry/SMP_022258.dat']\n",
      "00067 10028\n",
      "00067 10037\n",
      "00067 1032\n",
      "00067 10324\n",
      "00067 10434\n",
      "00067 10449\n"
     ]
    }
   ],
   "source": [
    "SMP_ids = np.array(files)[-10:-5]\n",
    "print(SMP_ids)\n",
    "j = 0\n",
    "for i in SNIaCam.index:\n",
    "    print(files[0][-10:-5], str(i))\n",
    "    j += 1\n",
    "    if j > 5:\n",
    "        break\n",
    "        "
   ]
  },
  {
   "cell_type": "markdown",
   "metadata": {},
   "source": [
    "## Get colors \n",
    "\n"
   ]
  },
  {
   "cell_type": "code",
   "execution_count": 104,
   "metadata": {
    "collapsed": false
   },
   "outputs": [
    {
     "data": {
      "text/plain": [
       "True"
      ]
     },
     "execution_count": 104,
     "metadata": {},
     "output_type": "execute_result"
    }
   ],
   "source": [
    "uSB = 1\n",
    "gSB = 1\n",
    "rSB = -1\n",
    "iSB = 1\n",
    "zSB = 1\n",
    "\n",
    "any(np.array([uSB, gSB, rSB, iSB, zSB]) < -0)"
   ]
  },
  {
   "cell_type": "code",
   "execution_count": 148,
   "metadata": {
    "collapsed": false
   },
   "outputs": [
    {
     "data": {
      "text/plain": [
       "array([ 5.,  6.,  7.,  8.,  9.])"
      ]
     },
     "execution_count": 148,
     "metadata": {},
     "output_type": "execute_result"
    }
   ],
   "source": [
    "# uIndex = np.where(split == '=')[0]+2\n",
    "uIndex = 2 + 2\n",
    "Index = np.arange(5)+uIndex\n",
    "np.array(list('123456789'))[Index].astype(float)"
   ]
  },
  {
   "cell_type": "code",
   "execution_count": 188,
   "metadata": {
    "collapsed": false
   },
   "outputs": [
    {
     "data": {
      "text/plain": [
       "array([(nan, nan, nan, nan, nan, nan, nan, nan, nan, nan),\n",
       "       (nan, nan, nan, nan, nan, nan, nan, nan, nan, nan),\n",
       "       (nan, nan, nan, nan, nan, nan, nan, nan, nan, nan),\n",
       "       (nan, nan, nan, nan, nan, nan, nan, nan, nan, nan)], \n",
       "      dtype=[('u', '<f8'), ('u uncert', '<f8'), ('g', '<f8'), ('g uncert', '<f8'), ('r', '<f8'), ('r uncert', '<f8'), ('i', '<f8'), ('i uncert', '<f8'), ('z', '<f8'), ('z uncert', '<f8')])"
      ]
     },
     "execution_count": 188,
     "metadata": {},
     "output_type": "execute_result"
    }
   ],
   "source": [
    "a = np.nan*np.ones(4)\n",
    "np.array(a, dtype=[('u', 'float64'), ('u uncert', 'float64'), ('g', 'float64'), ('g uncert', 'float64'), \n",
    "                          ('r', 'float64'), ('r uncert', 'float64'), ('i', 'float64'), ('i uncert', 'float64'), \n",
    "                          ('z', 'float64'), ('z uncert', 'float64')\n",
    "                         ])"
   ]
  },
  {
   "cell_type": "code",
   "execution_count": 217,
   "metadata": {
    "collapsed": false
   },
   "outputs": [
    {
     "data": {
      "text/plain": [
       "array([[ 1. ,  2. ,  3. ],\n",
       "       [ 0.1,  0.2,  0.3]])"
      ]
     },
     "execution_count": 217,
     "metadata": {},
     "output_type": "execute_result"
    }
   ],
   "source": [
    "a = np.array([1,2,3])\n",
    "b = np.array([0.1,0.2,0.3])\n",
    "np.stack((a, b), axis=1).flatten()\n",
    "np.stack((a, b))"
   ]
  },
  {
   "cell_type": "code",
   "execution_count": null,
   "metadata": {
    "collapsed": true
   },
   "outputs": [],
   "source": []
  }
 ],
 "metadata": {
  "kernelspec": {
   "display_name": "Python 3",
   "language": "python",
   "name": "python3"
  },
  "language_info": {
   "codemirror_mode": {
    "name": "ipython",
    "version": 3
   },
   "file_extension": ".py",
   "mimetype": "text/x-python",
   "name": "python",
   "nbconvert_exporter": "python",
   "pygments_lexer": "ipython3",
   "version": "3.5.2"
  }
 },
 "nbformat": 4,
 "nbformat_minor": 0
}
