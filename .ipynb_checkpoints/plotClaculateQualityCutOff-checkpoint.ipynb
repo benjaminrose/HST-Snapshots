{
 "cells": [
  {
   "cell_type": "code",
   "execution_count": 1,
   "metadata": {
    "collapsed": true
   },
   "outputs": [],
   "source": [
    "import numpy as np\n",
    "import matplotlib.pyplot as plt\n",
    "import seaborn\n",
    "\n",
    "import pandas as pd\n",
    "\n",
    "from lmfit import minimize, Parameters\n",
    "\n",
    "%matplotlib inline"
   ]
  },
  {
   "cell_type": "code",
   "execution_count": 2,
   "metadata": {
    "collapsed": false
   },
   "outputs": [],
   "source": [
    "data = pd.read_csv('resources/hst_color.csv', header=1, skiprows=[2], index_col=0,\n",
    "                     skipinitialspace=True)"
   ]
  },
  {
   "cell_type": "markdown",
   "metadata": {},
   "source": [
    "I need to clean up the data. I need to get the y-color (SDSS) and the x-color (HST) to not have `nan` and to get uncertainties. Also calculate uncertainties from the SNR and the magnitudes."
   ]
  },
  {
   "cell_type": "code",
   "execution_count": 3,
   "metadata": {
    "collapsed": false
   },
   "outputs": [],
   "source": [
    "c = data['blue mag']/data['blueSNR'] + data['red mag']/data['redSNR']\n",
    "data.insert(10, 'hst uncert', c)\n",
    "cleanData = data.dropna()"
   ]
  },
  {
   "cell_type": "code",
   "execution_count": 4,
   "metadata": {
    "collapsed": false
   },
   "outputs": [],
   "source": [
    "def chi_sqr_linear(params, x, y, yUncert):\n",
    "    parvals = params.valuesdict()\n",
    "    m = parvals['slope']\n",
    "    b = parvals['intercept']\n",
    "    \n",
    "    model = m*x + b\n",
    "    return (model-y)/yUncert"
   ]
  },
  {
   "cell_type": "code",
   "execution_count": 5,
   "metadata": {
    "collapsed": false
   },
   "outputs": [],
   "source": [
    "params = Parameters()\n",
    "params.add('slope', value=1.0)\n",
    "params.add('intercept', value=0.0)\n",
    "\n",
    "# x, y, yUncert = sdss, hst, hstUncert\n",
    "x, y, yUncert = cleanData['sdss color'], cleanData['color'], cleanData['hst uncert']\n",
    "out = minimize(chi_sqr_linear, params, args=(x, y, yUncert))"
   ]
  },
  {
   "cell_type": "code",
   "execution_count": 6,
   "metadata": {
    "collapsed": false
   },
   "outputs": [
    {
     "data": {
      "text/plain": [
       "0.036821947060988174"
      ]
     },
     "execution_count": 6,
     "metadata": {},
     "output_type": "execute_result"
    }
   ],
   "source": [
    "out.redchi\n",
    "# out.chisqr\n",
    "# out.var_names\n",
    "# out.ndata\n",
    "# out.params['slope']\n",
    "# out.residual"
   ]
  },
  {
   "cell_type": "markdown",
   "metadata": {},
   "source": [
    "Sort data by smaller of two SNRs. Then calcualte the chi-squared (or something) starting with first 3 data points then adding one more data point at a time, calculating a new chi-squared (or something)."
   ]
  },
  {
   "cell_type": "code",
   "execution_count": 7,
   "metadata": {
    "collapsed": false
   },
   "outputs": [],
   "source": [
    "# c = data['blue mag']/data['blueSNR'] + data['red mag']/data['redSNR']\n",
    "data[['blueSNR', 'redSNR']].min(axis=1)\n",
    "data.insert(10, 'minSNR', data[['blueSNR', 'redSNR']].min(axis=1))\n",
    "cleanData = data.dropna()"
   ]
  },
  {
   "cell_type": "code",
   "execution_count": 8,
   "metadata": {
    "collapsed": false
   },
   "outputs": [],
   "source": [
    "data.sort_values('minSNR', ascending=False, inplace=True)"
   ]
  },
  {
   "cell_type": "code",
   "execution_count": 9,
   "metadata": {
    "collapsed": false
   },
   "outputs": [
    {
     "data": {
      "text/html": [
       "<div>\n",
       "<table border=\"1\" class=\"dataframe\">\n",
       "  <thead>\n",
       "    <tr style=\"text-align: right;\">\n",
       "      <th></th>\n",
       "      <th>blueSNR</th>\n",
       "      <th>blueSource</th>\n",
       "      <th>blue mag</th>\n",
       "      <th>redSNR</th>\n",
       "      <th>redSource</th>\n",
       "      <th>red mag</th>\n",
       "      <th>color</th>\n",
       "      <th>g band</th>\n",
       "      <th>r band</th>\n",
       "      <th>sdss color</th>\n",
       "      <th>minSNR</th>\n",
       "      <th>hst uncert</th>\n",
       "    </tr>\n",
       "    <tr>\n",
       "      <th>snid</th>\n",
       "      <th></th>\n",
       "      <th></th>\n",
       "      <th></th>\n",
       "      <th></th>\n",
       "      <th></th>\n",
       "      <th></th>\n",
       "      <th></th>\n",
       "      <th></th>\n",
       "      <th></th>\n",
       "      <th></th>\n",
       "      <th></th>\n",
       "      <th></th>\n",
       "    </tr>\n",
       "  </thead>\n",
       "  <tbody>\n",
       "    <tr>\n",
       "      <th>14284</th>\n",
       "      <td>97.416735</td>\n",
       "      <td>28.512205</td>\n",
       "      <td>15.913608</td>\n",
       "      <td>148.564252</td>\n",
       "      <td>63.398361</td>\n",
       "      <td>14.889089</td>\n",
       "      <td>1.024519</td>\n",
       "      <td>21.026248</td>\n",
       "      <td>20.128068</td>\n",
       "      <td>0.898180</td>\n",
       "      <td>97.416735</td>\n",
       "      <td>0.263576</td>\n",
       "    </tr>\n",
       "    <tr>\n",
       "      <th>14437</th>\n",
       "      <td>75.993186</td>\n",
       "      <td>18.192970</td>\n",
       "      <td>16.401425</td>\n",
       "      <td>123.390088</td>\n",
       "      <td>44.655579</td>\n",
       "      <td>15.269595</td>\n",
       "      <td>1.131831</td>\n",
       "      <td>22.760290</td>\n",
       "      <td>21.807200</td>\n",
       "      <td>0.953090</td>\n",
       "      <td>75.993186</td>\n",
       "      <td>0.339578</td>\n",
       "    </tr>\n",
       "    <tr>\n",
       "      <th>14279</th>\n",
       "      <td>73.934560</td>\n",
       "      <td>20.627485</td>\n",
       "      <td>16.265069</td>\n",
       "      <td>105.644565</td>\n",
       "      <td>39.466873</td>\n",
       "      <td>15.403702</td>\n",
       "      <td>0.861367</td>\n",
       "      <td>20.891803</td>\n",
       "      <td>20.068498</td>\n",
       "      <td>0.823305</td>\n",
       "      <td>73.934560</td>\n",
       "      <td>0.365800</td>\n",
       "    </tr>\n",
       "  </tbody>\n",
       "</table>\n",
       "</div>"
      ],
      "text/plain": [
       "         blueSNR  blueSource   blue mag      redSNR  redSource    red mag  \\\n",
       "snid                                                                        \n",
       "14284  97.416735   28.512205  15.913608  148.564252  63.398361  14.889089   \n",
       "14437  75.993186   18.192970  16.401425  123.390088  44.655579  15.269595   \n",
       "14279  73.934560   20.627485  16.265069  105.644565  39.466873  15.403702   \n",
       "\n",
       "          color     g band     r band  sdss color     minSNR  hst uncert  \n",
       "snid                                                                      \n",
       "14284  1.024519  21.026248  20.128068    0.898180  97.416735    0.263576  \n",
       "14437  1.131831  22.760290  21.807200    0.953090  75.993186    0.339578  \n",
       "14279  0.861367  20.891803  20.068498    0.823305  73.934560    0.365800  "
      ]
     },
     "execution_count": 9,
     "metadata": {},
     "output_type": "execute_result"
    }
   ],
   "source": [
    "data.iloc[:3]"
   ]
  },
  {
   "cell_type": "code",
   "execution_count": 10,
   "metadata": {
    "collapsed": false
   },
   "outputs": [],
   "source": [
    "params = Parameters()\n",
    "params.add('slope', value=1.0)\n",
    "params.add('intercept', value=0.0)\n",
    "\n",
    "x = data.dropna().iloc[:3]['sdss color'].values\n",
    "y = data.dropna().iloc[:3]['color'].values\n",
    "yUncert = data.dropna().iloc[:3]['hst uncert'].values\n",
    "# y, yUncert = cleanData['sdss color'], cleanData['color'], cleanData['hst uncert']\n",
    "out = minimize(chi_sqr_linear, params, args=(x, y, yUncert))"
   ]
  },
  {
   "cell_type": "code",
   "execution_count": 11,
   "metadata": {
    "collapsed": false
   },
   "outputs": [
    {
     "data": {
      "text/plain": [
       "(Parameters([('slope',\n",
       "              <Parameter 'slope', value=2.0880635863787695 +/- 0.0753, bounds=[-inf:inf]>),\n",
       "             ('intercept',\n",
       "              <Parameter 'intercept', value=-0.85468981728953541 +/- 0.0675, bounds=[-inf:inf]>)]),\n",
       " 0.00038436896394908066)"
      ]
     },
     "execution_count": 11,
     "metadata": {},
     "output_type": "execute_result"
    }
   ],
   "source": [
    "out.params, out.chisqr"
   ]
  },
  {
   "cell_type": "code",
   "execution_count": 12,
   "metadata": {
    "collapsed": false
   },
   "outputs": [
    {
     "data": {
      "text/plain": [
       "Parameters([('slope',\n",
       "             <Parameter 'slope', value=0.91397076536359967 +/- 0.16, bounds=[-inf:inf]>),\n",
       "            ('intercept',\n",
       "             <Parameter 'intercept', value=0.12754283652110204 +/- 0.151, bounds=[-inf:inf]>)])"
      ]
     },
     "execution_count": 12,
     "metadata": {},
     "output_type": "execute_result"
    }
   ],
   "source": [
    "params = Parameters()\n",
    "params.add('slope', value=1.0)\n",
    "params.add('intercept', value=0.0)\n",
    "\n",
    "x = data.dropna().iloc[:10]['sdss color'].values\n",
    "y = data.dropna().iloc[:10]['color'].values\n",
    "yUncert = data.dropna().iloc[:10]['hst uncert'].values\n",
    "out = minimize(chi_sqr_linear, params, args=(x, y, yUncert))\n",
    "out.params"
   ]
  },
  {
   "cell_type": "code",
   "execution_count": 13,
   "metadata": {
    "collapsed": false
   },
   "outputs": [
    {
     "data": {
      "text/plain": [
       "Parameters([('slope',\n",
       "             <Parameter 'slope', value=0.96456633706968486 +/- 0.099, bounds=[-inf:inf]>),\n",
       "            ('intercept',\n",
       "             <Parameter 'intercept', value=0.08442936823788022 +/- 0.0916, bounds=[-inf:inf]>)])"
      ]
     },
     "execution_count": 13,
     "metadata": {},
     "output_type": "execute_result"
    }
   ],
   "source": [
    "params = Parameters()\n",
    "params.add('slope', value=1.0)\n",
    "params.add('intercept', value=0.0)\n",
    "\n",
    "x = data.dropna().iloc[:25]['sdss color'].values\n",
    "y = data.dropna().iloc[:25]['color'].values\n",
    "yUncert = data.dropna().iloc[:25]['hst uncert'].values\n",
    "out = minimize(chi_sqr_linear, params, args=(x, y, yUncert))\n",
    "out.params"
   ]
  },
  {
   "cell_type": "code",
   "execution_count": 14,
   "metadata": {
    "collapsed": false
   },
   "outputs": [
    {
     "data": {
      "text/plain": [
       "Parameters([('slope',\n",
       "             <Parameter 'slope', value=0.96456633706968486 +/- 0.099, bounds=[-inf:inf]>),\n",
       "            ('intercept',\n",
       "             <Parameter 'intercept', value=0.08442936823788022 +/- 0.0916, bounds=[-inf:inf]>)])"
      ]
     },
     "execution_count": 14,
     "metadata": {},
     "output_type": "execute_result"
    }
   ],
   "source": [
    "params = Parameters()\n",
    "params.add('slope', value=1.0)\n",
    "params.add('intercept', value=0.0)\n",
    "\n",
    "x = data.dropna()['sdss color'].values\n",
    "y = data.dropna()['color'].values\n",
    "yUncert = data.dropna()['hst uncert'].values\n",
    "out = minimize(chi_sqr_linear, params, args=(x, y, yUncert))\n",
    "out.params"
   ]
  },
  {
   "cell_type": "code",
   "execution_count": 15,
   "metadata": {
    "collapsed": false
   },
   "outputs": [
    {
     "data": {
      "text/plain": [
       "0.77326088828075168"
      ]
     },
     "execution_count": 15,
     "metadata": {},
     "output_type": "execute_result"
    }
   ],
   "source": [
    "out.chisqr"
   ]
  },
  {
   "cell_type": "code",
   "execution_count": 16,
   "metadata": {
    "collapsed": false
   },
   "outputs": [
    {
     "name": "stdout",
     "output_type": "stream",
     "text": [
      "0.000384368963949 0.000384368963949\n",
      "0.186907161587 0.0934535807935\n",
      "0.242760520256 0.0809201734188\n",
      "0.242787636851 0.0606969092127\n",
      "0.303027348547 0.0606054697094\n",
      "0.337300136641 0.0562166894402\n",
      "0.451631692764 0.064518813252\n",
      "0.549566346661 0.0686957933326\n",
      "0.595268270088 0.0661409188987\n",
      "0.598471902015 0.0598471902015\n",
      "0.617737860814 0.0561579873467\n",
      "0.670268141802 0.0558556784835\n",
      "0.672112501281 0.051700961637\n",
      "0.675677260147 0.048262661439\n",
      "0.678836938574 0.0452557959049\n",
      "0.690090673314 0.0431306670821\n",
      "0.692559897481 0.0407388174989\n",
      "0.705139084064 0.0391743935591\n",
      "0.766024364983 0.0403170718412\n",
      "0.766025366933 0.0383012683467\n"
     ]
    }
   ],
   "source": [
    "for i in range(3, len(data.dropna())):\n",
    "    params = Parameters()\n",
    "    params.add('slope', value=1.0)\n",
    "    params.add('intercept', value=0.0)\n",
    "\n",
    "    x = data.dropna().iloc[:i]['sdss color'].values\n",
    "    y = data.dropna().iloc[:i]['color'].values\n",
    "    yUncert = data.dropna().iloc[:i]['hst uncert'].values\n",
    "    out = minimize(chi_sqr_linear, params, args=(x, y, yUncert))\n",
    "#     print(out.params['slope'], out.chisqr, out.redchi)\n",
    "    print(out.chisqr, out.redchi)"
   ]
  },
  {
   "cell_type": "markdown",
   "metadata": {},
   "source": [
    "something is wrong with the error or something. I should not have a chi-squared of 0.7?"
   ]
  },
  {
   "cell_type": "code",
   "execution_count": 17,
   "metadata": {
    "collapsed": false
   },
   "outputs": [
    {
     "data": {
      "text/plain": [
       "range(3, 23)"
      ]
     },
     "execution_count": 17,
     "metadata": {},
     "output_type": "execute_result"
    }
   ],
   "source": [
    "range(3, len(data.dropna()))"
   ]
  },
  {
   "cell_type": "code",
   "execution_count": 18,
   "metadata": {
    "collapsed": false
   },
   "outputs": [
    {
     "name": "stdout",
     "output_type": "stream",
     "text": [
      "0.000384368963949 0.000384368963949\n",
      "0.186907161587 0.0934535807935\n",
      "0.242760520256 0.0809201734188\n",
      "0.242787636851 0.0606969092127\n",
      "0.303027348547 0.0606054697094\n",
      "0.337300136641 0.0562166894402\n",
      "0.451631692764 0.064518813252\n",
      "0.549566346661 0.0686957933326\n",
      "0.595268270088 0.0661409188987\n",
      "0.598471902015 0.0598471902015\n",
      "0.617737860814 0.0561579873467\n",
      "0.670268141802 0.0558556784835\n",
      "0.672112501281 0.051700961637\n",
      "0.675677260147 0.048262661439\n",
      "0.678836938574 0.0452557959049\n",
      "0.690090673314 0.0431306670821\n",
      "0.692559897481 0.0407388174989\n",
      "0.705139084064 0.0391743935591\n",
      "0.766024364983 0.0403170718412\n",
      "0.766025366933 0.0383012683467\n"
     ]
    }
   ],
   "source": [
    "for i in range(3, len(data.dropna())):\n",
    "    params = Parameters()\n",
    "    params.add('slope', value=1.0)\n",
    "    params.add('intercept', value=0.0)\n",
    "\n",
    "    x = data.dropna().iloc[:i]['sdss color'].values\n",
    "    y = data.dropna().iloc[:i]['color'].values\n",
    "    yUncert = data.dropna().iloc[:i]['hst uncert'].values\n",
    "    out = minimize(chi_sqr_linear, params, args=(x, y, yUncert))\n",
    "#     print(out.params['slope'], out.chisqr, out.redchi)\n",
    "    print(out.chisqr, out.redchi)"
   ]
  },
  {
   "cell_type": "markdown",
   "metadata": {},
   "source": [
    "lets figure out why the errors are so out of wack."
   ]
  },
  {
   "cell_type": "code",
   "execution_count": 19,
   "metadata": {
    "collapsed": false
   },
   "outputs": [
    {
     "data": {
      "text/plain": [
       "(0.015928197060869589, 0.012451526800000001)"
      ]
     },
     "execution_count": 19,
     "metadata": {},
     "output_type": "execute_result"
    }
   ],
   "source": [
    "(data.dropna()['color']-data.dropna()['sdss color']).mean(), (data.dropna()['color']-data.dropna()['sdss color']).median()"
   ]
  },
  {
   "cell_type": "code",
   "execution_count": 20,
   "metadata": {
    "collapsed": false
   },
   "outputs": [
    {
     "data": {
      "text/plain": [
       "(0.87252211244908617, 0.8870954424901014)"
      ]
     },
     "execution_count": 20,
     "metadata": {},
     "output_type": "execute_result"
    }
   ],
   "source": [
    "data.dropna()['hst uncert'].mean(), data.dropna()['hst uncert'].median()"
   ]
  },
  {
   "cell_type": "markdown",
   "metadata": {},
   "source": [
    "What should the errors be? If they are about the percentage from the min SNR."
   ]
  },
  {
   "cell_type": "code",
   "execution_count": 21,
   "metadata": {
    "collapsed": false
   },
   "outputs": [
    {
     "data": {
      "text/plain": [
       "0.021462626988277785"
      ]
     },
     "execution_count": 21,
     "metadata": {},
     "output_type": "execute_result"
    }
   ],
   "source": [
    "(data['color']/data['minSNR']).dropna().mean()"
   ]
  },
  {
   "cell_type": "markdown",
   "metadata": {},
   "source": [
    "The numerator of the Chi-squared is better then what I calcualted as the error form the magnitudes."
   ]
  },
  {
   "cell_type": "code",
   "execution_count": 22,
   "metadata": {
    "collapsed": false
   },
   "outputs": [
    {
     "data": {
      "text/plain": [
       "snid\n",
       "14284    0.010517\n",
       "14437    0.014894\n",
       "14279    0.011650\n",
       "dtype: float64"
      ]
     },
     "execution_count": 22,
     "metadata": {},
     "output_type": "execute_result"
    }
   ],
   "source": [
    "(data['color']/data['minSNR']).dropna().iloc[:3]"
   ]
  },
  {
   "cell_type": "code",
   "execution_count": 28,
   "metadata": {
    "collapsed": false
   },
   "outputs": [
    {
     "name": "stdout",
     "output_type": "stream",
     "text": [
      "2.10247492257 0.24271136641 0.24271136641\n",
      "0.640113232648 127.497224478 63.7486122391\n",
      "0.891814695184 157.963572712 52.6545242374\n",
      "0.869374113682 159.839522864 39.959880716\n",
      "0.939576633572 222.976607626 44.5953215252\n",
      "0.988440958958 251.245727709 41.8742879516\n",
      "1.1432399807 556.71925935 79.5313227642\n",
      "1.09261684935 669.98350966 83.7479387075\n",
      "1.10803984961 680.201066711 75.5778963012\n",
      "1.10536407003 681.166538547 68.1166538547\n",
      "1.11437246437 696.168175491 63.2880159537\n",
      "1.12062302738 741.251991047 61.7709992539\n",
      "1.09346493167 782.049870371 60.1576823362\n",
      "1.09149005227 783.079790086 55.9342707205\n",
      "1.01051826672 876.818670836 58.4545780557\n",
      "1.01208896777 895.477289466 55.9673305916\n",
      "1.01291546978 895.525364079 52.6779625929\n",
      "1.0544647314 944.676463411 52.4820257451\n",
      "1.03674815592 1087.60045837 57.2421293881\n",
      "1.03705461095 1089.41806214 54.4709031072\n"
     ]
    }
   ],
   "source": [
    "for i in range(3, len(data.dropna())):\n",
    "    params = Parameters()\n",
    "    params.add('slope', value=1.0)\n",
    "    params.add('intercept', value=0.0)\n",
    "\n",
    "    x = data.dropna().iloc[:i]['sdss color'].values\n",
    "    y = data.dropna().iloc[:i]['color'].values\n",
    "#     yUncert = data.dropna().iloc[:i]['hst uncert'].values\n",
    "    yUncert = (data['color']/data['minSNR']).dropna().iloc[:i].values\n",
    "    out = minimize(chi_sqr_linear, params, args=(x, y, yUncert))\n",
    "    print(out.params['slope'].value, out.chisqr, out.redchi)\n",
    "#     print(out.chisqr, out.redchi)"
   ]
  },
  {
   "cell_type": "markdown",
   "metadata": {},
   "source": [
    "ok, that looks like just using the min SNR as a percentage understimates the error. Or I have a bug."
   ]
  },
  {
   "cell_type": "code",
   "execution_count": 24,
   "metadata": {
    "collapsed": false
   },
   "outputs": [],
   "source": [
    "(data['color']/data['minSNR']).dropna(), (data['color']-data['sdss color']).dropna()\n",
    "errors = pd.concat([(data['color']/data['minSNR']).dropna(), (data['color']-data['sdss color']).dropna()], axis=1)\n",
    "errors.columns = ['snr error', 'residual']"
   ]
  },
  {
   "cell_type": "code",
   "execution_count": 29,
   "metadata": {
    "collapsed": false
   },
   "outputs": [],
   "source": [
    "errors.insert(2, 'dif', errors['residual']-errors['snr error'])"
   ]
  },
  {
   "cell_type": "code",
   "execution_count": 26,
   "metadata": {
    "collapsed": false
   },
   "outputs": [
    {
     "data": {
      "text/plain": [
       "count    23.000000\n",
       "mean     -0.005534\n",
       "std       0.131104\n",
       "min      -0.318351\n",
       "25%      -0.096762\n",
       "50%      -0.007392\n",
       "75%       0.104640\n",
       "max       0.222043\n",
       "Name: dif, dtype: float64"
      ]
     },
     "execution_count": 26,
     "metadata": {},
     "output_type": "execute_result"
    }
   ],
   "source": [
    "errors['dif'].describe()"
   ]
  },
  {
   "cell_type": "code",
   "execution_count": null,
   "metadata": {
    "collapsed": true
   },
   "outputs": [],
   "source": [
    "errors.insert(3, 'chi-square', errors['residual']/errors['snr error'])"
   ]
  },
  {
   "cell_type": "code",
   "execution_count": 30,
   "metadata": {
    "collapsed": false
   },
   "outputs": [
    {
     "data": {
      "text/plain": [
       "count    23.000000\n",
       "mean      0.509213\n",
       "std       7.069068\n",
       "min     -15.643945\n",
       "25%      -3.242996\n",
       "50%       0.628744\n",
       "75%       5.217930\n",
       "max      12.012958\n",
       "Name: chi-square, dtype: float64"
      ]
     },
     "execution_count": 30,
     "metadata": {},
     "output_type": "execute_result"
    }
   ],
   "source": [
    "errors['chi-square'].describe()"
   ]
  },
  {
   "cell_type": "code",
   "execution_count": 35,
   "metadata": {
    "collapsed": false
   },
   "outputs": [
    {
     "data": {
      "text/html": [
       "<div>\n",
       "<table border=\"1\" class=\"dataframe\">\n",
       "  <thead>\n",
       "    <tr style=\"text-align: right;\">\n",
       "      <th></th>\n",
       "      <th>long form errors</th>\n",
       "      <th>snr error</th>\n",
       "      <th>residual</th>\n",
       "      <th>dif</th>\n",
       "      <th>chi-square</th>\n",
       "    </tr>\n",
       "    <tr>\n",
       "      <th>snid</th>\n",
       "      <th></th>\n",
       "      <th></th>\n",
       "      <th></th>\n",
       "      <th></th>\n",
       "      <th></th>\n",
       "    </tr>\n",
       "  </thead>\n",
       "  <tbody>\n",
       "    <tr>\n",
       "      <th>15229</th>\n",
       "      <td>0.737040</td>\n",
       "      <td>0.009997</td>\n",
       "      <td>-0.156396</td>\n",
       "      <td>-0.166393</td>\n",
       "      <td>-15.643945</td>\n",
       "    </tr>\n",
       "    <tr>\n",
       "      <th>13411</th>\n",
       "      <td>1.409242</td>\n",
       "      <td>0.025934</td>\n",
       "      <td>-0.292418</td>\n",
       "      <td>-0.318351</td>\n",
       "      <td>-11.275526</td>\n",
       "    </tr>\n",
       "    <tr>\n",
       "      <th>18835</th>\n",
       "      <td>0.753576</td>\n",
       "      <td>0.021796</td>\n",
       "      <td>-0.191744</td>\n",
       "      <td>-0.213540</td>\n",
       "      <td>-8.797336</td>\n",
       "    </tr>\n",
       "    <tr>\n",
       "      <th>19323</th>\n",
       "      <td>1.462386</td>\n",
       "      <td>0.012837</td>\n",
       "      <td>-0.085096</td>\n",
       "      <td>-0.097933</td>\n",
       "      <td>-6.629014</td>\n",
       "    </tr>\n",
       "    <tr>\n",
       "      <th>19174</th>\n",
       "      <td>0.395170</td>\n",
       "      <td>0.016615</td>\n",
       "      <td>-0.081325</td>\n",
       "      <td>-0.097940</td>\n",
       "      <td>-4.894812</td>\n",
       "    </tr>\n",
       "    <tr>\n",
       "      <th>19048</th>\n",
       "      <td>0.999663</td>\n",
       "      <td>0.018337</td>\n",
       "      <td>-0.077254</td>\n",
       "      <td>-0.095591</td>\n",
       "      <td>-4.212943</td>\n",
       "    </tr>\n",
       "    <tr>\n",
       "      <th>12860</th>\n",
       "      <td>1.533059</td>\n",
       "      <td>0.031082</td>\n",
       "      <td>-0.070650</td>\n",
       "      <td>-0.101732</td>\n",
       "      <td>-2.273049</td>\n",
       "    </tr>\n",
       "    <tr>\n",
       "      <th>6057</th>\n",
       "      <td>0.593439</td>\n",
       "      <td>0.012991</td>\n",
       "      <td>-0.018924</td>\n",
       "      <td>-0.031914</td>\n",
       "      <td>-1.456669</td>\n",
       "    </tr>\n",
       "    <tr>\n",
       "      <th>1415</th>\n",
       "      <td>0.488429</td>\n",
       "      <td>0.026833</td>\n",
       "      <td>-0.028205</td>\n",
       "      <td>-0.055037</td>\n",
       "      <td>-1.051139</td>\n",
       "    </tr>\n",
       "    <tr>\n",
       "      <th>18241</th>\n",
       "      <td>0.647460</td>\n",
       "      <td>0.012747</td>\n",
       "      <td>-0.004554</td>\n",
       "      <td>-0.017302</td>\n",
       "      <td>-0.357290</td>\n",
       "    </tr>\n",
       "    <tr>\n",
       "      <th>17886</th>\n",
       "      <td>0.971350</td>\n",
       "      <td>0.032167</td>\n",
       "      <td>-0.004108</td>\n",
       "      <td>-0.036275</td>\n",
       "      <td>-0.127709</td>\n",
       "    </tr>\n",
       "    <tr>\n",
       "      <th>6614</th>\n",
       "      <td>0.958551</td>\n",
       "      <td>0.019912</td>\n",
       "      <td>0.012519</td>\n",
       "      <td>-0.007392</td>\n",
       "      <td>0.628744</td>\n",
       "    </tr>\n",
       "    <tr>\n",
       "      <th>2635</th>\n",
       "      <td>1.370227</td>\n",
       "      <td>0.019409</td>\n",
       "      <td>0.012452</td>\n",
       "      <td>-0.006957</td>\n",
       "      <td>0.641545</td>\n",
       "    </tr>\n",
       "    <tr>\n",
       "      <th>2561</th>\n",
       "      <td>1.451952</td>\n",
       "      <td>0.038597</td>\n",
       "      <td>0.060555</td>\n",
       "      <td>0.021958</td>\n",
       "      <td>1.568918</td>\n",
       "    </tr>\n",
       "    <tr>\n",
       "      <th>14279</th>\n",
       "      <td>0.365800</td>\n",
       "      <td>0.011650</td>\n",
       "      <td>0.038061</td>\n",
       "      <td>0.026411</td>\n",
       "      <td>3.266962</td>\n",
       "    </tr>\n",
       "    <tr>\n",
       "      <th>3488</th>\n",
       "      <td>0.678668</td>\n",
       "      <td>0.037389</td>\n",
       "      <td>0.174301</td>\n",
       "      <td>0.136912</td>\n",
       "      <td>4.661847</td>\n",
       "    </tr>\n",
       "    <tr>\n",
       "      <th>2992</th>\n",
       "      <td>1.065424</td>\n",
       "      <td>0.036055</td>\n",
       "      <td>0.175846</td>\n",
       "      <td>0.139791</td>\n",
       "      <td>4.877144</td>\n",
       "    </tr>\n",
       "    <tr>\n",
       "      <th>20874</th>\n",
       "      <td>1.006954</td>\n",
       "      <td>0.020501</td>\n",
       "      <td>0.113960</td>\n",
       "      <td>0.093459</td>\n",
       "      <td>5.558715</td>\n",
       "    </tr>\n",
       "    <tr>\n",
       "      <th>14871</th>\n",
       "      <td>0.522437</td>\n",
       "      <td>0.011443</td>\n",
       "      <td>0.077347</td>\n",
       "      <td>0.065903</td>\n",
       "      <td>6.759146</td>\n",
       "    </tr>\n",
       "    <tr>\n",
       "      <th>14113</th>\n",
       "      <td>0.887095</td>\n",
       "      <td>0.035848</td>\n",
       "      <td>0.257891</td>\n",
       "      <td>0.222043</td>\n",
       "      <td>7.194025</td>\n",
       "    </tr>\n",
       "    <tr>\n",
       "      <th>17745</th>\n",
       "      <td>1.166932</td>\n",
       "      <td>0.016091</td>\n",
       "      <td>0.149010</td>\n",
       "      <td>0.132919</td>\n",
       "      <td>9.260362</td>\n",
       "    </tr>\n",
       "    <tr>\n",
       "      <th>14437</th>\n",
       "      <td>0.339578</td>\n",
       "      <td>0.014894</td>\n",
       "      <td>0.178740</td>\n",
       "      <td>0.163847</td>\n",
       "      <td>12.000962</td>\n",
       "    </tr>\n",
       "    <tr>\n",
       "      <th>14284</th>\n",
       "      <td>0.263576</td>\n",
       "      <td>0.010517</td>\n",
       "      <td>0.126339</td>\n",
       "      <td>0.115822</td>\n",
       "      <td>12.012958</td>\n",
       "    </tr>\n",
       "  </tbody>\n",
       "</table>\n",
       "</div>"
      ],
      "text/plain": [
       "       long form errors  snr error  residual       dif  chi-square\n",
       "snid                                                              \n",
       "15229          0.737040   0.009997 -0.156396 -0.166393  -15.643945\n",
       "13411          1.409242   0.025934 -0.292418 -0.318351  -11.275526\n",
       "18835          0.753576   0.021796 -0.191744 -0.213540   -8.797336\n",
       "19323          1.462386   0.012837 -0.085096 -0.097933   -6.629014\n",
       "19174          0.395170   0.016615 -0.081325 -0.097940   -4.894812\n",
       "19048          0.999663   0.018337 -0.077254 -0.095591   -4.212943\n",
       "12860          1.533059   0.031082 -0.070650 -0.101732   -2.273049\n",
       "6057           0.593439   0.012991 -0.018924 -0.031914   -1.456669\n",
       "1415           0.488429   0.026833 -0.028205 -0.055037   -1.051139\n",
       "18241          0.647460   0.012747 -0.004554 -0.017302   -0.357290\n",
       "17886          0.971350   0.032167 -0.004108 -0.036275   -0.127709\n",
       "6614           0.958551   0.019912  0.012519 -0.007392    0.628744\n",
       "2635           1.370227   0.019409  0.012452 -0.006957    0.641545\n",
       "2561           1.451952   0.038597  0.060555  0.021958    1.568918\n",
       "14279          0.365800   0.011650  0.038061  0.026411    3.266962\n",
       "3488           0.678668   0.037389  0.174301  0.136912    4.661847\n",
       "2992           1.065424   0.036055  0.175846  0.139791    4.877144\n",
       "20874          1.006954   0.020501  0.113960  0.093459    5.558715\n",
       "14871          0.522437   0.011443  0.077347  0.065903    6.759146\n",
       "14113          0.887095   0.035848  0.257891  0.222043    7.194025\n",
       "17745          1.166932   0.016091  0.149010  0.132919    9.260362\n",
       "14437          0.339578   0.014894  0.178740  0.163847   12.000962\n",
       "14284          0.263576   0.010517  0.126339  0.115822   12.012958"
      ]
     },
     "execution_count": 35,
     "metadata": {},
     "output_type": "execute_result"
    }
   ],
   "source": [
    "errors.sort_values(by='chi-square')"
   ]
  },
  {
   "cell_type": "code",
   "execution_count": 34,
   "metadata": {
    "collapsed": true
   },
   "outputs": [],
   "source": [
    "errors.insert(0, 'long form errors', data.dropna()['hst uncert'])"
   ]
  },
  {
   "cell_type": "code",
   "execution_count": 36,
   "metadata": {
    "collapsed": false
   },
   "outputs": [
    {
     "data": {
      "text/html": [
       "<div>\n",
       "<table border=\"1\" class=\"dataframe\">\n",
       "  <thead>\n",
       "    <tr style=\"text-align: right;\">\n",
       "      <th></th>\n",
       "      <th>long form errors</th>\n",
       "      <th>snr error</th>\n",
       "      <th>residual</th>\n",
       "      <th>dif</th>\n",
       "      <th>chi-square</th>\n",
       "    </tr>\n",
       "    <tr>\n",
       "      <th>snid</th>\n",
       "      <th></th>\n",
       "      <th></th>\n",
       "      <th></th>\n",
       "      <th></th>\n",
       "      <th></th>\n",
       "    </tr>\n",
       "  </thead>\n",
       "  <tbody>\n",
       "    <tr>\n",
       "      <th>13411</th>\n",
       "      <td>1.409242</td>\n",
       "      <td>0.025934</td>\n",
       "      <td>-0.292418</td>\n",
       "      <td>-0.318351</td>\n",
       "      <td>-11.275526</td>\n",
       "    </tr>\n",
       "    <tr>\n",
       "      <th>18835</th>\n",
       "      <td>0.753576</td>\n",
       "      <td>0.021796</td>\n",
       "      <td>-0.191744</td>\n",
       "      <td>-0.213540</td>\n",
       "      <td>-8.797336</td>\n",
       "    </tr>\n",
       "    <tr>\n",
       "      <th>15229</th>\n",
       "      <td>0.737040</td>\n",
       "      <td>0.009997</td>\n",
       "      <td>-0.156396</td>\n",
       "      <td>-0.166393</td>\n",
       "      <td>-15.643945</td>\n",
       "    </tr>\n",
       "    <tr>\n",
       "      <th>19323</th>\n",
       "      <td>1.462386</td>\n",
       "      <td>0.012837</td>\n",
       "      <td>-0.085096</td>\n",
       "      <td>-0.097933</td>\n",
       "      <td>-6.629014</td>\n",
       "    </tr>\n",
       "    <tr>\n",
       "      <th>19174</th>\n",
       "      <td>0.395170</td>\n",
       "      <td>0.016615</td>\n",
       "      <td>-0.081325</td>\n",
       "      <td>-0.097940</td>\n",
       "      <td>-4.894812</td>\n",
       "    </tr>\n",
       "    <tr>\n",
       "      <th>19048</th>\n",
       "      <td>0.999663</td>\n",
       "      <td>0.018337</td>\n",
       "      <td>-0.077254</td>\n",
       "      <td>-0.095591</td>\n",
       "      <td>-4.212943</td>\n",
       "    </tr>\n",
       "    <tr>\n",
       "      <th>12860</th>\n",
       "      <td>1.533059</td>\n",
       "      <td>0.031082</td>\n",
       "      <td>-0.070650</td>\n",
       "      <td>-0.101732</td>\n",
       "      <td>-2.273049</td>\n",
       "    </tr>\n",
       "    <tr>\n",
       "      <th>1415</th>\n",
       "      <td>0.488429</td>\n",
       "      <td>0.026833</td>\n",
       "      <td>-0.028205</td>\n",
       "      <td>-0.055037</td>\n",
       "      <td>-1.051139</td>\n",
       "    </tr>\n",
       "    <tr>\n",
       "      <th>6057</th>\n",
       "      <td>0.593439</td>\n",
       "      <td>0.012991</td>\n",
       "      <td>-0.018924</td>\n",
       "      <td>-0.031914</td>\n",
       "      <td>-1.456669</td>\n",
       "    </tr>\n",
       "    <tr>\n",
       "      <th>18241</th>\n",
       "      <td>0.647460</td>\n",
       "      <td>0.012747</td>\n",
       "      <td>-0.004554</td>\n",
       "      <td>-0.017302</td>\n",
       "      <td>-0.357290</td>\n",
       "    </tr>\n",
       "    <tr>\n",
       "      <th>17886</th>\n",
       "      <td>0.971350</td>\n",
       "      <td>0.032167</td>\n",
       "      <td>-0.004108</td>\n",
       "      <td>-0.036275</td>\n",
       "      <td>-0.127709</td>\n",
       "    </tr>\n",
       "    <tr>\n",
       "      <th>2635</th>\n",
       "      <td>1.370227</td>\n",
       "      <td>0.019409</td>\n",
       "      <td>0.012452</td>\n",
       "      <td>-0.006957</td>\n",
       "      <td>0.641545</td>\n",
       "    </tr>\n",
       "    <tr>\n",
       "      <th>6614</th>\n",
       "      <td>0.958551</td>\n",
       "      <td>0.019912</td>\n",
       "      <td>0.012519</td>\n",
       "      <td>-0.007392</td>\n",
       "      <td>0.628744</td>\n",
       "    </tr>\n",
       "    <tr>\n",
       "      <th>14279</th>\n",
       "      <td>0.365800</td>\n",
       "      <td>0.011650</td>\n",
       "      <td>0.038061</td>\n",
       "      <td>0.026411</td>\n",
       "      <td>3.266962</td>\n",
       "    </tr>\n",
       "    <tr>\n",
       "      <th>2561</th>\n",
       "      <td>1.451952</td>\n",
       "      <td>0.038597</td>\n",
       "      <td>0.060555</td>\n",
       "      <td>0.021958</td>\n",
       "      <td>1.568918</td>\n",
       "    </tr>\n",
       "    <tr>\n",
       "      <th>14871</th>\n",
       "      <td>0.522437</td>\n",
       "      <td>0.011443</td>\n",
       "      <td>0.077347</td>\n",
       "      <td>0.065903</td>\n",
       "      <td>6.759146</td>\n",
       "    </tr>\n",
       "    <tr>\n",
       "      <th>20874</th>\n",
       "      <td>1.006954</td>\n",
       "      <td>0.020501</td>\n",
       "      <td>0.113960</td>\n",
       "      <td>0.093459</td>\n",
       "      <td>5.558715</td>\n",
       "    </tr>\n",
       "    <tr>\n",
       "      <th>14284</th>\n",
       "      <td>0.263576</td>\n",
       "      <td>0.010517</td>\n",
       "      <td>0.126339</td>\n",
       "      <td>0.115822</td>\n",
       "      <td>12.012958</td>\n",
       "    </tr>\n",
       "    <tr>\n",
       "      <th>17745</th>\n",
       "      <td>1.166932</td>\n",
       "      <td>0.016091</td>\n",
       "      <td>0.149010</td>\n",
       "      <td>0.132919</td>\n",
       "      <td>9.260362</td>\n",
       "    </tr>\n",
       "    <tr>\n",
       "      <th>3488</th>\n",
       "      <td>0.678668</td>\n",
       "      <td>0.037389</td>\n",
       "      <td>0.174301</td>\n",
       "      <td>0.136912</td>\n",
       "      <td>4.661847</td>\n",
       "    </tr>\n",
       "    <tr>\n",
       "      <th>2992</th>\n",
       "      <td>1.065424</td>\n",
       "      <td>0.036055</td>\n",
       "      <td>0.175846</td>\n",
       "      <td>0.139791</td>\n",
       "      <td>4.877144</td>\n",
       "    </tr>\n",
       "    <tr>\n",
       "      <th>14437</th>\n",
       "      <td>0.339578</td>\n",
       "      <td>0.014894</td>\n",
       "      <td>0.178740</td>\n",
       "      <td>0.163847</td>\n",
       "      <td>12.000962</td>\n",
       "    </tr>\n",
       "    <tr>\n",
       "      <th>14113</th>\n",
       "      <td>0.887095</td>\n",
       "      <td>0.035848</td>\n",
       "      <td>0.257891</td>\n",
       "      <td>0.222043</td>\n",
       "      <td>7.194025</td>\n",
       "    </tr>\n",
       "  </tbody>\n",
       "</table>\n",
       "</div>"
      ],
      "text/plain": [
       "       long form errors  snr error  residual       dif  chi-square\n",
       "snid                                                              \n",
       "13411          1.409242   0.025934 -0.292418 -0.318351  -11.275526\n",
       "18835          0.753576   0.021796 -0.191744 -0.213540   -8.797336\n",
       "15229          0.737040   0.009997 -0.156396 -0.166393  -15.643945\n",
       "19323          1.462386   0.012837 -0.085096 -0.097933   -6.629014\n",
       "19174          0.395170   0.016615 -0.081325 -0.097940   -4.894812\n",
       "19048          0.999663   0.018337 -0.077254 -0.095591   -4.212943\n",
       "12860          1.533059   0.031082 -0.070650 -0.101732   -2.273049\n",
       "1415           0.488429   0.026833 -0.028205 -0.055037   -1.051139\n",
       "6057           0.593439   0.012991 -0.018924 -0.031914   -1.456669\n",
       "18241          0.647460   0.012747 -0.004554 -0.017302   -0.357290\n",
       "17886          0.971350   0.032167 -0.004108 -0.036275   -0.127709\n",
       "2635           1.370227   0.019409  0.012452 -0.006957    0.641545\n",
       "6614           0.958551   0.019912  0.012519 -0.007392    0.628744\n",
       "14279          0.365800   0.011650  0.038061  0.026411    3.266962\n",
       "2561           1.451952   0.038597  0.060555  0.021958    1.568918\n",
       "14871          0.522437   0.011443  0.077347  0.065903    6.759146\n",
       "20874          1.006954   0.020501  0.113960  0.093459    5.558715\n",
       "14284          0.263576   0.010517  0.126339  0.115822   12.012958\n",
       "17745          1.166932   0.016091  0.149010  0.132919    9.260362\n",
       "3488           0.678668   0.037389  0.174301  0.136912    4.661847\n",
       "2992           1.065424   0.036055  0.175846  0.139791    4.877144\n",
       "14437          0.339578   0.014894  0.178740  0.163847   12.000962\n",
       "14113          0.887095   0.035848  0.257891  0.222043    7.194025"
      ]
     },
     "execution_count": 36,
     "metadata": {},
     "output_type": "execute_result"
    }
   ],
   "source": [
    "errors.sort_values(by='residual')"
   ]
  },
  {
   "cell_type": "code",
   "execution_count": 37,
   "metadata": {
    "collapsed": false
   },
   "outputs": [
    {
     "data": {
      "text/plain": [
       "Index(['long form errors', 'snr error', 'residual', 'dif', 'chi-square'], dtype='object')"
      ]
     },
     "execution_count": 37,
     "metadata": {},
     "output_type": "execute_result"
    }
   ],
   "source": [
    "errors.columns"
   ]
  },
  {
   "cell_type": "code",
   "execution_count": 46,
   "metadata": {
    "collapsed": true
   },
   "outputs": [],
   "source": [
    "errors.columns = ['errors - SNR propogation', 'errors - min SNR', 'model residual', 'dif: min SNR & Res', 'chi-square: min SNR & Res']"
   ]
  },
  {
   "cell_type": "code",
   "execution_count": 43,
   "metadata": {
    "collapsed": false
   },
   "outputs": [
    {
     "data": {
      "text/plain": [
       "Int64Index([14284, 14437, 14279, 19174,  1415, 14871,  6057, 18241,  3488,\n",
       "            15229, 18835, 14113,  6614, 17886, 19048, 20874,  2992, 17745,\n",
       "             2635, 13411,  2561, 19323, 12860],\n",
       "           dtype='int64', name='snid')"
      ]
     },
     "execution_count": 43,
     "metadata": {},
     "output_type": "execute_result"
    }
   ],
   "source": [
    "errors.sort_values(by='errors - SNR propogation').index"
   ]
  },
  {
   "cell_type": "code",
   "execution_count": 48,
   "metadata": {
    "collapsed": false
   },
   "outputs": [
    {
     "data": {
      "text/plain": [
       "Int64Index([15229, 14284, 14871, 14279, 18241, 19323,  6057, 14437, 17745,\n",
       "            19174, 19048,  2635,  6614, 20874, 18835, 13411,  1415, 12860,\n",
       "            17886, 14113,  2992,  3488,  2561],\n",
       "           dtype='int64', name='snid')"
      ]
     },
     "execution_count": 48,
     "metadata": {},
     "output_type": "execute_result"
    }
   ],
   "source": [
    "errors.sort_values(by='errors - min SNR').index"
   ]
  },
  {
   "cell_type": "markdown",
   "metadata": {},
   "source": [
    "These are not the same order at all: 15229, 12860, and 19323 as examples. All three have adnomally hight min SNR."
   ]
  },
  {
   "cell_type": "code",
   "execution_count": 58,
   "metadata": {
    "collapsed": false
   },
   "outputs": [
    {
     "data": {
      "text/html": [
       "<div>\n",
       "<table border=\"1\" class=\"dataframe\">\n",
       "  <thead>\n",
       "    <tr style=\"text-align: right;\">\n",
       "      <th></th>\n",
       "      <th>errors - SNR propogation</th>\n",
       "      <th>errors - min SNR</th>\n",
       "      <th>model residual</th>\n",
       "      <th>dif: min SNR &amp; Res</th>\n",
       "      <th>chi-square: min SNR &amp; Res</th>\n",
       "    </tr>\n",
       "    <tr>\n",
       "      <th>snid</th>\n",
       "      <th></th>\n",
       "      <th></th>\n",
       "      <th></th>\n",
       "      <th></th>\n",
       "      <th></th>\n",
       "    </tr>\n",
       "  </thead>\n",
       "  <tbody>\n",
       "    <tr>\n",
       "      <th>15229</th>\n",
       "      <td>0.737040</td>\n",
       "      <td>0.009997</td>\n",
       "      <td>-0.156396</td>\n",
       "      <td>-0.166393</td>\n",
       "      <td>-15.643945</td>\n",
       "    </tr>\n",
       "    <tr>\n",
       "      <th>12860</th>\n",
       "      <td>1.533059</td>\n",
       "      <td>0.031082</td>\n",
       "      <td>-0.070650</td>\n",
       "      <td>-0.101732</td>\n",
       "      <td>-2.273049</td>\n",
       "    </tr>\n",
       "    <tr>\n",
       "      <th>19323</th>\n",
       "      <td>1.462386</td>\n",
       "      <td>0.012837</td>\n",
       "      <td>-0.085096</td>\n",
       "      <td>-0.097933</td>\n",
       "      <td>-6.629014</td>\n",
       "    </tr>\n",
       "  </tbody>\n",
       "</table>\n",
       "</div>"
      ],
      "text/plain": [
       "       errors - SNR propogation  errors - min SNR  model residual  \\\n",
       "snid                                                                \n",
       "15229                  0.737040          0.009997       -0.156396   \n",
       "12860                  1.533059          0.031082       -0.070650   \n",
       "19323                  1.462386          0.012837       -0.085096   \n",
       "\n",
       "       dif: min SNR & Res  chi-square: min SNR & Res  \n",
       "snid                                                  \n",
       "15229           -0.166393                 -15.643945  \n",
       "12860           -0.101732                  -2.273049  \n",
       "19323           -0.097933                  -6.629014  "
      ]
     },
     "execution_count": 58,
     "metadata": {},
     "output_type": "execute_result"
    }
   ],
   "source": [
    "# errors.sort_index()\n",
    "errors.loc[[15229, 12860, 19323]]"
   ]
  },
  {
   "cell_type": "code",
   "execution_count": 61,
   "metadata": {
    "collapsed": false
   },
   "outputs": [
    {
     "data": {
      "text/html": [
       "<div>\n",
       "<table border=\"1\" class=\"dataframe\">\n",
       "  <thead>\n",
       "    <tr style=\"text-align: right;\">\n",
       "      <th></th>\n",
       "      <th>blueSNR</th>\n",
       "      <th>redSNR</th>\n",
       "    </tr>\n",
       "    <tr>\n",
       "      <th>snid</th>\n",
       "      <th></th>\n",
       "      <th></th>\n",
       "    </tr>\n",
       "  </thead>\n",
       "  <tbody>\n",
       "    <tr>\n",
       "      <th>15229</th>\n",
       "      <td>43.442670</td>\n",
       "      <td>50.667145</td>\n",
       "    </tr>\n",
       "    <tr>\n",
       "      <th>12860</th>\n",
       "      <td>20.733757</td>\n",
       "      <td>28.064364</td>\n",
       "    </tr>\n",
       "    <tr>\n",
       "      <th>19323</th>\n",
       "      <td>23.962759</td>\n",
       "      <td>25.614195</td>\n",
       "    </tr>\n",
       "  </tbody>\n",
       "</table>\n",
       "</div>"
      ],
      "text/plain": [
       "         blueSNR     redSNR\n",
       "snid                       \n",
       "15229  43.442670  50.667145\n",
       "12860  20.733757  28.064364\n",
       "19323  23.962759  25.614195"
      ]
     },
     "execution_count": 61,
     "metadata": {},
     "output_type": "execute_result"
    }
   ],
   "source": [
    "data.loc[[15229, 12860, 19323]][['blueSNR', 'redSNR']]"
   ]
  },
  {
   "cell_type": "markdown",
   "metadata": {},
   "source": [
    "They all have fairly high red SNR"
   ]
  },
  {
   "cell_type": "code",
   "execution_count": 63,
   "metadata": {
    "collapsed": false
   },
   "outputs": [
    {
     "data": {
      "text/html": [
       "<div>\n",
       "<table border=\"1\" class=\"dataframe\">\n",
       "  <thead>\n",
       "    <tr style=\"text-align: right;\">\n",
       "      <th></th>\n",
       "      <th>color</th>\n",
       "      <th>sdss color</th>\n",
       "    </tr>\n",
       "    <tr>\n",
       "      <th>snid</th>\n",
       "      <th></th>\n",
       "      <th></th>\n",
       "    </tr>\n",
       "  </thead>\n",
       "  <tbody>\n",
       "    <tr>\n",
       "      <th>15229</th>\n",
       "      <td>0.434305</td>\n",
       "      <td>0.590701</td>\n",
       "    </tr>\n",
       "    <tr>\n",
       "      <th>12860</th>\n",
       "      <td>0.644440</td>\n",
       "      <td>0.715090</td>\n",
       "    </tr>\n",
       "    <tr>\n",
       "      <th>19323</th>\n",
       "      <td>0.307608</td>\n",
       "      <td>0.392704</td>\n",
       "    </tr>\n",
       "  </tbody>\n",
       "</table>\n",
       "</div>"
      ],
      "text/plain": [
       "          color  sdss color\n",
       "snid                       \n",
       "15229  0.434305    0.590701\n",
       "12860  0.644440    0.715090\n",
       "19323  0.307608    0.392704"
      ]
     },
     "execution_count": 63,
     "metadata": {},
     "output_type": "execute_result"
    }
   ],
   "source": [
    "data.loc[[15229, 12860, 19323]][['color', 'sdss color']]"
   ]
  },
  {
   "cell_type": "markdown",
   "metadata": {},
   "source": [
    "Their colors are not too far off. 15 is off by more then 0.15, but 12 is off by 0.07."
   ]
  },
  {
   "cell_type": "markdown",
   "metadata": {},
   "source": [
    "Lets see what happens with out errors, just fit `data-model`."
   ]
  },
  {
   "cell_type": "code",
   "execution_count": 65,
   "metadata": {
    "collapsed": false
   },
   "outputs": [
    {
     "name": "stdout",
     "output_type": "stream",
     "text": [
      "3.35099439153e-05 3.35099439153e-05\n",
      "0.0231408990113 0.0115704495057\n",
      "0.0317681034773 0.0105893678258\n",
      "0.0317782142092 0.00794455355229\n",
      "0.0435796786774 0.00871593573547\n",
      "0.0489822709616 0.00816371182693\n",
      "0.0856673166768 0.0122381880967\n",
      "0.122833907222 0.0153542384028\n",
      "0.152275183681 0.0169194648534\n",
      "0.152417453902 0.0152417453902\n",
      "0.157974771566 0.0143613428696\n",
      "0.218023869369 0.0181686557807\n",
      "0.228173868259 0.0175518360199\n",
      "0.229255520985 0.0163753943561\n",
      "0.24218825123 0.0161458834153\n",
      "0.261118872785 0.016319929549\n",
      "0.262652011165 0.0154501183038\n",
      "0.278489025983 0.0154716125546\n",
      "0.379254691885 0.0199607732571\n",
      "0.380947501632 0.0190473750816\n"
     ]
    }
   ],
   "source": [
    "def residual(params, x, y):\n",
    "    parvals = params.valuesdict()\n",
    "    m = parvals['slope']\n",
    "    b = parvals['intercept']\n",
    "    \n",
    "    model = m*x + b\n",
    "    return y-model\n",
    "\n",
    "for i in range(3, len(data.dropna())):\n",
    "    params = Parameters()\n",
    "    params.add('slope', value=1.0)\n",
    "    params.add('intercept', value=0.0)\n",
    "\n",
    "    x = data.dropna().iloc[:i]['sdss color'].values\n",
    "    y = data.dropna().iloc[:i]['color'].values\n",
    "#     yUncert = data.dropna().iloc[:i]['hst uncert'].values\n",
    "    out = minimize(residual, params, args=(x, y), method = 'newton')\n",
    "#     print(out.params['slope'], out.chisqr, out.redchi)\n",
    "    print(out.chisqr, out.redchi)"
   ]
  },
  {
   "cell_type": "code",
   "execution_count": null,
   "metadata": {
    "collapsed": true
   },
   "outputs": [],
   "source": []
  }
 ],
 "metadata": {
  "kernelspec": {
   "display_name": "Python 3",
   "language": "python",
   "name": "python3"
  },
  "language_info": {
   "codemirror_mode": {
    "name": "ipython",
    "version": 3
   },
   "file_extension": ".py",
   "mimetype": "text/x-python",
   "name": "python",
   "nbconvert_exporter": "python",
   "pygments_lexer": "ipython3",
   "version": "3.5.2"
  }
 },
 "nbformat": 4,
 "nbformat_minor": 0
}
